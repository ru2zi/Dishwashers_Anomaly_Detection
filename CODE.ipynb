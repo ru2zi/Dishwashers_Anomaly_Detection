{
  "nbformat": 4,
  "nbformat_minor": 0,
  "metadata": {
    "colab": {
      "private_outputs": true,
      "provenance": [],
      "toc_visible": true,
      "authorship_tag": "ABX9TyO3cTYNCOKdqErUE0qXmhri",
      "include_colab_link": true
    },
    "kernelspec": {
      "name": "python3",
      "display_name": "Python 3"
    },
    "language_info": {
      "name": "python"
    }
  },
  "cells": [
    {
      "cell_type": "markdown",
      "metadata": {
        "id": "view-in-github",
        "colab_type": "text"
      },
      "source": [
        "<a href=\"https://colab.research.google.com/github/ru2zi/Dishwashers_Anomaly_Detection/blob/main/CODE.ipynb\" target=\"_parent\"><img src=\"https://colab.research.google.com/assets/colab-badge.svg\" alt=\"Open In Colab\"/></a>"
      ]
    },
    {
      "cell_type": "code",
      "execution_count": null,
      "metadata": {
        "id": "Dm6iCKq_qB9S"
      },
      "outputs": [],
      "source": [
        "import pandas as pd\n",
        "import numpy as np\n",
        "\n",
        "%matplotlib inline\n",
        "import matplotlib.pyplot as plt\n",
        "import seaborn as sns\n",
        "\n",
        "import pandas as pd\n",
        "import numpy as np\n",
        "from pylab import rcParams\n",
        "\n",
        "from scipy.signal import find_peaks\n",
        "import tensorflow as tf\n",
        "from keras import optimizers, Sequential\n",
        "from keras.models import Model\n",
        "from keras.utils import plot_model\n",
        "from keras.layers import Input, Dropout, Dense, LSTM, TimeDistributed, RepeatVector\n",
        "from keras.callbacks import ModelCheckpoint, TensorBoard\n",
        "\n",
        "from sklearn.preprocessing import StandardScaler\n",
        "from sklearn.preprocessing import MinMaxScaler\n",
        "from sklearn.metrics import confusion_matrix, precision_recall_curve\n",
        "from sklearn.metrics import recall_score, classification_report, auc, roc_curve\n",
        "from sklearn.metrics import precision_recall_fscore_support, f1_score\n",
        "\n",
        "\n",
        "import plotly.express as px\n",
        "import plotly.graph_objects as go\n",
        "\n",
        "from numpy.random import seed\n",
        "#seed(7)\n",
        "\n",
        "from sklearn.model_selection import train_test_split\n",
        "\n",
        "#SEED = 2023\n",
        "\n",
        "from fastdtw import fastdtw"
      ]
    },
    {
      "cell_type": "code",
      "source": [
        "# 그래프 배경을 하얀색으로 설정\n",
        "plt.style.use('default')\n",
        "plt.rcParams['axes.facecolor'] = 'white'"
      ],
      "metadata": {
        "id": "5RmmHWF_qFIQ"
      },
      "execution_count": null,
      "outputs": []
    },
    {
      "cell_type": "code",
      "source": [
        "import tensorflow as tf\n",
        "\n",
        "print(\"tf.test.is_built_with_cuda():\", tf.test.is_built_with_cuda())\n",
        "\n",
        "print(\"tf.test.is_gpu_available():\", tf.test.is_gpu_available())\n",
        "\n",
        "# Undocumented feature\n",
        "\n",
        "from tensorflow.python.client import device_lib as _device_lib\n",
        "\n",
        "print(_device_lib.list_local_devices())"
      ],
      "metadata": {
        "id": "fuNSR1dYqGPv"
      },
      "execution_count": null,
      "outputs": []
    },
    {
      "cell_type": "code",
      "source": [
        "avg_04_01_04_08 = pd.read_excel(\"C:/Users/Admin/Downloads\\Etri/삼천산업 데이터 모음/1차 데이터/1C진동융착기_설비전력_DATA_현황_20230503114027.xlsx\")\n",
        "avg_04_10_04_15 = pd.read_excel(\"C:/Users/Admin/Downloads/Etri/삼천산업 데이터 모음/1차 데이터/2C진동융착기_설비전력_DATA_현황_20230503114438.xlsx\")\n",
        "avg_04_17_04_22 = pd.read_excel(\"C:/Users/Admin/Downloads/Etri/삼천산업 데이터 모음/1차 데이터/3C진동융착기_설비전력_DATA_현황_20230503115609.xlsx\")\n",
        "avg_04_24_05_02 = pd.read_excel(\"C:/Users/Admin/Downloads/Etri/삼천산업 데이터 모음/1차 데이터/4C진동융착기_설비전력_DATA_현황_20230503115838.xlsx\")\n",
        "avg_05_17 = pd.read_excel(\"C:/Users/Admin/Downloads/Etri/삼천산업 데이터 모음/2차 데이터/XD Nozzle 전력분석/23.05.17진동융착기_설비전력_DATA_현황(3상 평균전류).xlsx\")\n",
        "avg_05_18 = pd.read_excel(\"C:/Users/Admin/Downloads/Etri/삼천산업 데이터 모음/2차 데이터/XD Nozzle 전력분석/23.05.18진동융착기_설비전력_DATA_현황(3상 평균전류).xlsx\")\n",
        "avg_05_19 = pd.read_excel(\"C:/Users/Admin/Downloads/Etri/삼천산업 데이터 모음/2차 데이터/XD Nozzle 전력분석/23.05.19진동융착기_설비전력_DATA_현황(3상 평균전류).xlsx\")\n",
        "avg_05_25 = pd.read_excel(\"C:/Users/Admin/Downloads/Etri/삼천산업 데이터 모음/3차 데이터/23.05.25C진동융착기_설비전력_DATA_현황_20230605144944(3상 평균전류).xlsx\")\n",
        "avg_05_26 = pd.read_excel(\"C:/Users/Admin/Downloads/Etri/삼천산업 데이터 모음/3차 데이터/23.05.26C진동융착기_설비전력_DATA_현황_20230605145427(3상 평균전류).xlsx\")\n",
        "avg_05_27 = pd.read_excel(\"C:/Users/Admin/Downloads/Etri/삼천산업 데이터 모음/3차 데이터/23.05.27C진동융착기_설비전력_DATA_현황_20230605145944(3상 평균전류).xlsx\")\n",
        "avg_05_29 = pd.read_excel(\"C:/Users/Admin/Downloads/Etri/삼천산업 데이터 모음/3차 데이터/23.05.29C진동융착기_설비전력_DATA_현황_20230605151922(3상 평균전류).xlsx\")\n",
        "avg_05_30 = pd.read_excel(\"C:/Users/Admin/Downloads/Etri/삼천산업 데이터 모음/3차 데이터/23.05.30C진동융착기_설비전력_DATA_현황_20230605152304(3상 평균전류).xlsx\")\n",
        "avg_05_31 = pd.read_excel(\"C:/Users/Admin/Downloads/Etri/삼천산업 데이터 모음/3차 데이터/23.05.31C진동융착기_설비전력_DATA_현황_20230605152756(3상 평균전류).xlsx\")\n",
        "avg_06_01 = pd.read_excel(\"C:/Users/Admin/Downloads/Etri/삼천산업 데이터 모음/3차 데이터/23.06.01C진동융착기_설비전력_DATA_현황_20230605153212(3상 평균전류).xlsx\")\n",
        "avg_06_02 = pd.read_excel(\"C:/Users/Admin/Downloads/Etri/삼천산업 데이터 모음/3차 데이터/23.06.02C진동융착기_설비전력_DATA_현황_20230605153656(3상 평균전류).xlsx\")\n",
        "avg_06_03 = pd.read_excel(\"C:/Users/Admin/Downloads/Etri/삼천산업 데이터 모음/3차 데이터/23.06.03C진동융착기_설비전력_DATA_현황_20230605154131(3상 평균전류).xlsx\")\n",
        "poor_weld = pd.read_excel(\"C:/Users/Admin/Downloads/Etri/삼천산업 데이터 모음/1차 데이터/23.05.02_XD Nozzle 융착 불량 정리.xlsx\")\n",
        "time_model_2= pd.read_excel(\"C:/Users/Admin/Downloads/Etri/삼천산업 데이터 모음/2차 데이터\\XD Nozzle 전력분석/XD Nozzle 용착 모델별 생산 시간.xlsx\")\n",
        "time_model_3= pd.read_excel(\"C:/Users/Admin/Downloads/Etri/삼천산업 데이터 모음/3차 데이터/3회차 XD Nozzle 용착 모델별 생산 시간.xlsx\")\n",
        "weld_strength = pd.read_excel(\"C:/Users/Admin/Downloads/Etri/삼천산업 데이터 모음/3차 데이터/3회차 XD Nozzle 용착 시간별 용착강도 측정 Data.xlsx\")\n",
        "\n",
        "avg_08_07 = pd.read_excel(\"C:/Users/Admin/Downloads/Etri/Dishwashers_Anomaly_Detection/3상 평균 전류.xlsx\")"
      ],
      "metadata": {
        "id": "XiiE4Ou5qIqD"
      },
      "execution_count": null,
      "outputs": []
    },
    {
      "cell_type": "markdown",
      "source": [
        "## 함수 선언"
      ],
      "metadata": {
        "id": "wyQs1nxnqSYi"
      }
    },
    {
      "cell_type": "code",
      "source": [
        "# Category열 내용 생성\n",
        "def change_category_by_time_range(Current_Strength_data, time_ranges):\n",
        "    Current_Strength_data['Category'] = np.nan\n",
        "\n",
        "    for start_time, end_time, category in time_ranges:\n",
        "        start_time = pd.to_datetime(start_time)\n",
        "        end_time = pd.to_datetime(end_time)\n",
        "        mask = (Current_Strength_data['날짜'] >= start_time) & (Current_Strength_data['날짜'] <= end_time)\n",
        "        Current_Strength_data.loc[mask, 'Category'] = category\n",
        "\n",
        "    return Current_Strength_data\n",
        "\n",
        "# start_time, end_time 사이에 있는 행 추출 후 column_name값 가져옴\n",
        "def extract_data_between_time(data, start_time, end_time, column_name):\n",
        "    start_time = pd.to_datetime(start_time)\n",
        "    end_time = pd.to_datetime(end_time)\n",
        "    between_time_data = data[(data.index < end_time) & (data.index >= start_time)]\n",
        "    between_time_data = between_time_data[[column_name]]\n",
        "    between_time_data = np.array(between_time_data)\n",
        "    return between_time_data\n",
        "\n",
        "# 용창강도열 부분에 값이 존재하는 경우 가져오고 Category값이 US인지 EU인지에 따라 분류\n",
        "def filter_rows_with_values(data_table, category):\n",
        "    columns_to_check = ['용착강도(좌)_1', '용착강도(좌)_2', '용착강도(좌)_3', '용착강도(좌)_4', '용착강도(좌)_5',\n",
        "                        '용착강도(좌)_6', '용착강도(좌)_7', '용착강도(좌)_8', '용착강도(우)_1', '용착강도(우)_2',\n",
        "                        '용착강도(우)_3', '용착강도(우)_4', '용착강도(우)_5', '용착강도(우)_6', '용착강도(우)_7',\n",
        "                        '용착강도(우)_8']\n",
        "\n",
        "    rows_with_values = []\n",
        "\n",
        "    for index, row in data_table.iterrows():\n",
        "        if not row[columns_to_check].isnull().all():\n",
        "            rows_with_values.append(row)\n",
        "\n",
        "    filtered_data = pd.DataFrame(rows_with_values)\n",
        "\n",
        "    filtered_data_us = filtered_data[filtered_data['Category'] == 'US']\n",
        "    filtered_data_eu = filtered_data[filtered_data['Category'] == 'EU']\n",
        "\n",
        "    if category == 'US':\n",
        "        return filtered_data_us\n",
        "    elif category == 'EU':\n",
        "        return filtered_data_eu\n",
        "    else:\n",
        "        return filtered_data\n",
        "\n",
        "# 해당일, 해당 category에 대해 값을 array 형태로 반환: array([4.30586, 4.31395, 4.39656, ..., 4.90187, 4.63368, 4.53176])\n",
        "def filter_data_by_date_and_category(data, date, column_name, category):\n",
        "    date_data = data[data['날짜'].dt.date == pd.to_datetime(date).date()]\n",
        "    filtered_data = date_data[date_data['Category'] == category][column_name]\n",
        "    filtered_data = np.array(filtered_data)\n",
        "    filtered_data = filtered_data.flatten()\n",
        "    return filtered_data\n",
        "\n",
        "# Peak 데이터 다룰 때 상위 ~% 부분 출력\n",
        "def select_data_based_on_threshold(data, all_data, peaks, properties, column_name, percentile, peak_type):\n",
        "    threshold = np.percentile(properties[column_name], percentile)\n",
        "    selected_rows = data[peaks[properties[column_name] >= threshold]]\n",
        "    selected_rows_prop = all_data[all_data['VALUE'].isin(selected_rows)]\n",
        "    selected_rows_prop = selected_rows_prop[['날짜', 'VALUE']]\n",
        "    selected_rows_prop['Peak'] = peak_type\n",
        "    return selected_rows_prop\n",
        "\n",
        "# 뽑아낸 각각의 prop에서 중복되는 행만 추출 후 결합\n",
        "def combine_selected_data(array_data, whole_data, peaks, properties, percent):\n",
        "    prominences = select_data_based_on_threshold(array_data, whole_data, peaks, properties, \"prominences\", percent, \"prominences\")\n",
        "    width_heights = select_data_based_on_threshold(array_data, whole_data, peaks, properties, \"width_heights\", percent, \"width_heights\")\n",
        "    widths = select_data_based_on_threshold(array_data, whole_data, peaks, properties, \"widths\", percent, \"widths\")\n",
        "    heights = select_data_based_on_threshold(array_data, whole_data, peaks, properties, \"peak_heights\", percent, \"heights\")\n",
        "\n",
        "    combined = pd.concat([heights, width_heights, prominences, widths])\n",
        "    return combined\n",
        "\n",
        "\n",
        "# Peak 지점 기준으로 앞,뒤 지점의 index 구함\n",
        "def each_visualize_comparison(data, index_num, cycle_duration):\n",
        "    start_index = max(index_num - cycle_duration, 0)\n",
        "    end_index = min(index_num + cycle_duration, len(data))\n",
        "    selected_data = data.iloc[start_index:end_index].copy()\n",
        "\n",
        "    # 날짜 열 값 가져오기\n",
        "    date_value = data.loc[index_num, '날짜']\n",
        "\n",
        "    plt.figure(figsize=(30, 8))\n",
        "    plt.plot(selected_data.index, selected_data['VALUE'])\n",
        "    plt.axvline(index_num, color='red', linestyle='--', linewidth=1)\n",
        "    plt.xlabel('Index')\n",
        "    plt.ylabel('VALUE')\n",
        "    plt.title(date_value)\n",
        "    plt.show()\n",
        "\n",
        "    return start_index, end_index\n",
        "\n",
        "\n",
        "\n",
        "# dtw 그래프 그리기\n",
        "def plot_dtw_comparison(data, graph_indices, title):\n",
        "    selected_graphs = []\n",
        "    graph_labels = []\n",
        "    dtw_distances = []\n",
        "\n",
        "    for start_index, end_index in graph_indices:\n",
        "        graph = data.iloc[start_index:end_index]['VALUE'].values\n",
        "        selected_graphs.append(graph)\n",
        "        start_time = data.iloc[start_index]['날짜'].strftime('%H:%M:%S')\n",
        "        end_time = data.iloc[end_index-1]['날짜'].strftime('%H:%M:%S')\n",
        "        graph_labels.append(f'{start_time}-{end_time}')\n",
        "\n",
        "    for i in range(len(selected_graphs)):\n",
        "        for j in range(i+1, len(selected_graphs)):\n",
        "            graph_i = selected_graphs[i]\n",
        "            graph_j = selected_graphs[j]\n",
        "            distance, _ = fastdtw(graph_i, graph_j)\n",
        "            dtw_distances.append((i, j, distance))\n",
        "\n",
        "    dtw_distances.sort(key=lambda x: x[2])  # 거리를 기준으로 정렬\n",
        "\n",
        "    fig, ax = plt.subplots(figsize=(15, 6))\n",
        "    for i, j, distance in dtw_distances:\n",
        "        graph_i = selected_graphs[i]\n",
        "        graph_j = selected_graphs[j]\n",
        "        label_i = graph_labels[i]\n",
        "        label_j = graph_labels[j]\n",
        "        if label_i not in ax.get_legend_handles_labels()[1]:\n",
        "            ax.plot(graph_i, label=label_i)\n",
        "        if label_j not in ax.get_legend_handles_labels()[1]:\n",
        "            ax.plot(graph_j, label=label_j)\n",
        "        print(f'DTW Distance between {label_i} and {label_j}: {distance}')\n",
        "\n",
        "    average_distance = sum(distance for _, _, distance in dtw_distances) / len(dtw_distances)\n",
        "    print(\"Average DTW Distance:\", average_distance)\n",
        "\n",
        "    plt.xlabel('Index')\n",
        "    plt.ylabel('VALUE')\n",
        "    plt.title(title)\n",
        "    plt.legend()\n",
        "    plt.show()\n",
        "\n",
        "\n",
        "def cohen_d(group1, group2):\n",
        "    # 두 그룹의 평균 차이\n",
        "    diff = np.mean(group1) - np.mean(group2)\n",
        "\n",
        "    # 풀 표준 편차 계산\n",
        "    n1, n2 = len(group1), len(group2)\n",
        "    var1, var2 = np.var(group1, ddof=1), np.var(group2, ddof=1)\n",
        "    pooled_var = ((n1 - 1) * var1 + (n2 - 1) * var2) / (n1 + n2 - 2)\n",
        "    pooled_std = np.sqrt(pooled_var)\n",
        "\n",
        "    # Cohen's d 계산\n",
        "    d = diff / pooled_std\n",
        "    return d\n",
        "\n"
      ],
      "metadata": {
        "id": "dEt2I2PzqJGz"
      },
      "execution_count": null,
      "outputs": []
    },
    {
      "cell_type": "markdown",
      "source": [
        "## 전처리"
      ],
      "metadata": {
        "id": "l9N7AgBlqP5g"
      }
    },
    {
      "cell_type": "code",
      "source": [
        "# poor_weld\n",
        "poor_weld.drop(['Unnamed: 0'], axis = 1, inplace = True)\n",
        "poor_weld_column_names = list(poor_weld.iloc[0])\n",
        "poor_weld = poor_weld[1:]\n",
        "poor_weld.columns = poor_weld_column_names\n",
        "\n",
        "# 데이터프레임 전치\n",
        "poor_weld_trans = poor_weld.transpose()\n",
        "\n",
        "poor_weld_trans.columns = poor_weld_trans.iloc[0]\n",
        "poor_weld_trans = poor_weld_trans.iloc[1:-1]\n",
        "# 불량수량과 생산수량이 모두 0이 아닌 경우에만 불량비율 계산\n",
        "mask = (poor_weld_trans['불량수량'] != 0) & (poor_weld_trans['생산수량'] != 0)\n",
        "poor_weld_trans.loc[mask, '불량비율'] = poor_weld_trans.loc[mask, '불량수량'] / poor_weld_trans.loc[mask, '생산수량']\n",
        "\n",
        "# 불량수량이 0인 경우 불량비율을 0으로 설정\n",
        "poor_weld_trans.loc[poor_weld_trans['불량수량'] == 0, '불량비율'] = 0\n",
        "poor_weld_trans.index = pd.to_datetime(poor_weld_trans.index, format='%Y-%m-%d')\n",
        "\n",
        "poor_weld_trans.reset_index(inplace=True)\n",
        "poor_weld_trans.rename(columns={'index': '일자'}, inplace=True)\n",
        "\n",
        "# time_model\n",
        "time_model_2.drop(['Unnamed: 0'], axis = 1, inplace = True)\n",
        "time_model_2_column_names = list(time_model_2.iloc[0])\n",
        "time_model_2 = time_model_2[1:]\n",
        "time_model_2.columns = time_model_2_column_names\n",
        "\n",
        "time_model_3.drop(['Unnamed: 0'], axis = 1, inplace = True)\n",
        "time_model_3_column_names = list(time_model_3.iloc[0])\n",
        "time_model_3 = time_model_3[1:]\n",
        "time_model_3.columns = time_model_3_column_names\n",
        "\n",
        "# weld_strength\n",
        "weld_strength.drop(['Unnamed: 0'], axis = 1, inplace = True)\n",
        "weld_strength.columns = weld_strength.iloc[0]\n",
        "weld_strength = weld_strength[1:].reset_index(drop=True)\n",
        "\n",
        "new_columns = []\n",
        "for column in weld_strength.columns:\n",
        "    if column == '용착강도(좌)':\n",
        "        new_columns.extend([f'용착강도(좌)_{i}' for i in range(1, 9)])\n",
        "    elif column == '용착강도(우)':\n",
        "        new_columns.extend([f'용착강도(우)_{i}' for i in range(1, 9)])\n",
        "    elif pd.notnull(column):\n",
        "        new_columns.append(column)\n",
        "\n",
        "weld_strength.columns = new_columns\n",
        "weld_strength = weld_strength.iloc[1:]\n",
        "\n",
        "# '용착강도(좌)'와 '용착강도(우)'를 포함하는 행 제거\n",
        "weld_strength = weld_strength[~weld_strength.isin(['용착강도(좌)', '용착강도(우)']).any(axis=1)]\n",
        "weld_strength = weld_strength.dropna(subset=['일자', '시간', '수거시간', 'EU,US'], how='all')\n",
        "weld_strength = weld_strength.fillna(method='ffill')\n",
        "weld_strength = weld_strength.reset_index(drop=True)\n",
        "\n",
        "# Replace 'X' with NaN\n",
        "weld_strength.replace('X', np.nan, inplace=True)\n",
        "\n",
        "weld_strength_filtered = weld_strength.dropna(subset=['수거시간', 'EU,US', '용착강도(좌)_1', '용착강도(좌)_2', '용착강도(좌)_3', '용착강도(좌)_4', '용착강도(좌)_5', '용착강도(좌)_6', '용착강도(좌)_7', '용착강도(좌)_8',\n",
        "                                                       '용착강도(우)_1', '용착강도(우)_2', '용착강도(우)_3', '용착강도(우)_4', '용착강도(우)_5', '용착강도(우)_6', '용착강도(우)_7', '용착강도(우)_8'], how='all')\n",
        "weld_strength_filtered = weld_strength_filtered.reset_index(drop=True)\n",
        "\n",
        "# Concatenate '일자' and '수거시간' columns\n",
        "combined_datetime = weld_strength_filtered['일자'].astype(str) + ' ' + weld_strength_filtered['수거시간'].astype(str)\n",
        "weld_strength_filtered['날짜'] = pd.to_datetime(combined_datetime, format='%Y-%m-%d %H:%M:%S')\n",
        "\n",
        "\n",
        "# 전류 데이터 전처리\n",
        "def Clean(df):\n",
        "    df = df.drop(df.columns[0], axis=1)\n",
        "    new_column_name = df.iloc[2, :]\n",
        "    new_column_name = new_column_name.reset_index(drop=True)\n",
        "    df.columns = new_column_name\n",
        "    df = df.iloc[3:]\n",
        "    df = df.drop(\"TAG DESC\", axis=1)\n",
        "    df['날짜'] = pd.to_datetime(df['날짜'])\n",
        "    df['VALUE'] = pd.to_numeric(df['VALUE'])  # VALUE 열의 데이터 타입을 숫자로 변환\n",
        "    df = df.reset_index(drop=True)\n",
        "\n",
        "    return df"
      ],
      "metadata": {
        "id": "qmY_dOxKqRIC"
      },
      "execution_count": null,
      "outputs": []
    },
    {
      "cell_type": "code",
      "source": [
        "avg_04_01_04_08 = Clean(avg_04_01_04_08)\n",
        "avg_04_10_04_15 = Clean(avg_04_10_04_15)\n",
        "avg_04_17_04_22 = Clean(avg_04_17_04_22)\n",
        "avg_04_24_05_02 = Clean(avg_04_24_05_02)\n",
        "avg_05_17 = Clean(avg_05_17)\n",
        "avg_05_18 = Clean(avg_05_18)\n",
        "avg_05_19 = Clean(avg_05_19)\n",
        "avg_05_25 = Clean(avg_05_25)\n",
        "avg_05_26 = Clean(avg_05_26)\n",
        "avg_05_27 = Clean(avg_05_27)\n",
        "avg_05_29 = Clean(avg_05_29)\n",
        "avg_05_30 = Clean(avg_05_30)\n",
        "avg_05_31 = Clean(avg_05_31)\n",
        "avg_06_01 = Clean(avg_06_01)\n",
        "avg_06_02 = Clean(avg_06_02)\n",
        "avg_06_03 = Clean(avg_06_03)\n",
        "\n",
        "avg_4 = pd.concat([avg_04_01_04_08, avg_04_10_04_15, avg_04_17_04_22, avg_04_24_05_02])\n",
        "avg_4 = avg_4.reset_index(drop=True)\n",
        "avg_5_6 = pd.concat([avg_05_17, avg_05_18, avg_05_19, avg_05_25, avg_05_26, avg_05_27, avg_05_29, avg_05_30, avg_05_31, avg_06_01, avg_06_02, avg_06_03 ])\n",
        "avg_5_6 = avg_5_6.reset_index(drop=True)\n",
        "avg_all = pd.concat([avg_4,avg_5_6])\n",
        "avg_all = avg_all.reset_index(drop=True)\n",
        "\n",
        "\n",
        "\n",
        "avg_08_07 = Clean(avg_08_07)"
      ],
      "metadata": {
        "id": "1g9hdCYjqbEb"
      },
      "execution_count": null,
      "outputs": []
    },
    {
      "cell_type": "code",
      "source": [
        "Current_Strength_data = weld_strength_filtered.merge(avg_all, on='날짜', how='right')\n",
        "Current_Strength_data = poor_weld_trans.merge(Current_Strength_data, on='일자', how='right')\n",
        "\n",
        "cols = ['날짜', 'VALUE'] + [col for col in Current_Strength_data.columns if col not in ['날짜', 'VALUE']]\n",
        "Current_Strength_data = Current_Strength_data[cols]"
      ],
      "metadata": {
        "id": "yf1jE_p-qdPC"
      },
      "execution_count": null,
      "outputs": []
    },
    {
      "cell_type": "code",
      "source": [
        "# '용착강도(좌)_1'부터 '용착강도(우)_8'까지 열 선택\n",
        "columns = ['용착강도(좌)_1', '용착강도(좌)_2', '용착강도(좌)_3', '용착강도(좌)_4', '용착강도(좌)_5',\n",
        "           '용착강도(좌)_6', '용착강도(좌)_7', '용착강도(좌)_8', '용착강도(우)_1', '용착강도(우)_2',\n",
        "           '용착강도(우)_3', '용착강도(우)_4', '용착강도(우)_5', '용착강도(우)_6', '용착강도(우)_7',\n",
        "           '용착강도(우)_8']\n",
        "\n",
        "# Extract the weld strength columns for different sections\n",
        "weld_strength_left = Current_Strength_data[['용착강도(좌)_1', '용착강도(좌)_2', '용착강도(좌)_3', '용착강도(좌)_4', '용착강도(좌)_5', '용착강도(좌)_6','용착강도(좌)_7', '용착강도(좌)_8']]\n",
        "weld_strength_right = Current_Strength_data[['용착강도(우)_1', '용착강도(우)_2', '용착강도(우)_3', '용착강도(우)_4', '용착강도(우)_5', '용착강도(우)_6','용착강도(우)_7', '용착강도(우)_8']]\n",
        "\n",
        "\n",
        "Current_Strength_data['Min_Max_diff'] =  Current_Strength_data[columns].max(axis=1) -  Current_Strength_data[columns].min(axis=1)\n",
        "Current_Strength_data['weld_strength_left_mean'] = weld_strength_left.mean(axis=1)\n",
        "Current_Strength_data['weld_strength_right_mean'] = weld_strength_right.mean(axis=1)\n",
        "Current_Strength_data['VALUE_DIFF'] = Current_Strength_data['VALUE'].diff().fillna(0)\n",
        "\n",
        "\n",
        "time_ranges = [('2023-05-17 08:00:00', '2023-05-17 10:59:59', 'EU'),\n",
        "               ('2023-05-17 11:00:00', '2023-05-17 22:59:59', 'US'),\n",
        "               ('2023-05-17 23:00:00', '2023-05-17 23:59:59', 'EU'),\n",
        "               ('2023-05-18 01:00:00', '2023-05-18 06:59:59', 'EU'),\n",
        "               ('2023-05-18 08:00:00', '2023-05-18 23:29:59', 'US'),\n",
        "               ('2023-05-18 23:30:00', '2023-05-19 05:29:59', 'EU'),\n",
        "               ('2023-05-19 05:30:00', '2023-05-19 09:29:59', 'US'),\n",
        "               ('2023-05-19 20:00:00', '2023-05-20 00:29:59', 'US'),\n",
        "               ('2023-05-20 00:30:00', '2023-05-20 06:59:59', 'EU'),\n",
        "               ('2023-05-25 08:00:00', '2023-05-25 10:59:59', 'US'),\n",
        "               ('2023-05-25 11:00:00', '2023-05-25 13:59:59', 'EU'),\n",
        "               ('2023-05-25 15:00:00', '2023-05-25 16:59:59', 'EU'),\n",
        "               ('2023-05-25 17:00:00', '2023-05-25 18:59:59', 'US'),\n",
        "               ('2023-05-25 22:00:00', '2023-05-25 23:59:59', 'US'),\n",
        "               ('2023-05-26 01:00:00', '2023-05-26 05:59:59', 'EU'),\n",
        "               ('2023-05-26 08:00:00', '2023-05-26 14:59:59', 'EU'),\n",
        "               ('2023-05-26 15:00:00', '2023-05-26 23:59:59', 'US'),\n",
        "               ('2023-05-27 01:00:00', '2023-05-27 06:59:59', 'US'),\n",
        "               ('2023-05-29 08:00:00', '2023-05-29 10:29:59', 'US'),\n",
        "               ('2023-05-29 10:30:00', '2023-05-29 22:59:59', 'EU'),\n",
        "               ('2023-05-30 03:00:00', '2023-05-30 06:59:59', 'US'),\n",
        "               ('2023-05-30 08:00:00', '2023-05-30 15:59:59', 'EU'),\n",
        "               ('2023-05-30 16:00:00', '2023-05-30 23:59:59', 'US'),\n",
        "               ('2023-05-31 01:00:00', '2023-05-31 06:59:59', 'US'),\n",
        "               ('2023-05-31 08:00:00', '2023-05-31 16:59:59', 'EU'),\n",
        "               ('2023-05-31 20:00:00', '2023-05-31 21:59:59', 'US'),\n",
        "               ('2023-06-01 05:00:00', '2023-06-01 15:59:59', 'US'),\n",
        "               ('2023-06-01 16:00:00', '2023-06-01 21:59:59', 'EU'),\n",
        "               ('2023-06-01 22:00:00', '2023-06-01 23:59:59', 'US'),\n",
        "               ('2023-06-02 01:00:00', '2023-06-02 04:59:59', 'US'),\n",
        "               ('2023-06-02 11:00:00', '2023-06-02 23:59:59', 'US'),\n",
        "               ('2023-06-03 01:00:00', '2023-06-03 01:59:59', 'US'),\n",
        "               ('2023-06-03 02:00:00', '2023-06-03 06:59:59', 'EU')]\n",
        "\n",
        "Current_Strength_US_EU_data = change_category_by_time_range(Current_Strength_data, time_ranges)\n",
        "\n",
        "Current_Strength_US_EU_data['strength_mean'] = Current_Strength_US_EU_data[['용착강도(좌)_1', '용착강도(좌)_2', '용착강도(좌)_3', '용착강도(좌)_4', '용착강도(좌)_5',\n",
        "                        '용착강도(좌)_6', '용착강도(좌)_7', '용착강도(좌)_8', '용착강도(우)_1', '용착강도(우)_2',\n",
        "                        '용착강도(우)_3', '용착강도(우)_4', '용착강도(우)_5', '용착강도(우)_6', '용착강도(우)_7',\n",
        "                        '용착강도(우)_8']].mean(axis=1)"
      ],
      "metadata": {
        "id": "Qh2ipqg3qfhB"
      },
      "execution_count": null,
      "outputs": []
    },
    {
      "cell_type": "code",
      "source": [
        "Current_Strength_US_EU_data"
      ],
      "metadata": {
        "id": "pFfVKn5xqgxa"
      },
      "execution_count": null,
      "outputs": []
    },
    {
      "cell_type": "markdown",
      "source": [
        "## 시각화"
      ],
      "metadata": {
        "id": "1akp0VO_WlV5"
      }
    },
    {
      "cell_type": "markdown",
      "source": [
        "#### 용착강도 값 분포"
      ],
      "metadata": {
        "id": "a_BHOrqCWcBt"
      }
    },
    {
      "cell_type": "code",
      "source": [
        "merged_data = Current_Strength_US_EU_data[Current_Strength_US_EU_data['날짜'].isin(weld_strength_filtered['날짜'])]"
      ],
      "metadata": {
        "id": "X-lFwZPGWcZT"
      },
      "execution_count": null,
      "outputs": []
    },
    {
      "cell_type": "code",
      "source": [
        "# 수치 값들을 저장할 리스트\n",
        "all_value = []\n",
        "\n",
        "# 열들을 순회하면서 수치 값들을 가져와 리스트에 추가\n",
        "for i in ['용착강도(좌)_1', '용착강도(좌)_2', '용착강도(좌)_3', '용착강도(좌)_4', '용착강도(좌)_5',\n",
        "            '용착강도(좌)_6', '용착강도(좌)_7', '용착강도(좌)_8', '용착강도(우)_1', '용착강도(우)_2',\n",
        "            '용착강도(우)_3', '용착강도(우)_4', '용착강도(우)_5', '용착강도(우)_6', '용착강도(우)_7',\n",
        "            '용착강도(우)_8']:\n",
        "    value = weld_strength_filtered[i].values\n",
        "    all_value.extend(value)\n",
        "\n",
        "# 수치 값들의 개수를 세기\n",
        "value_count = pd.Series(all_value).value_counts()\n",
        "\n",
        "# 시각화\n",
        "plt.bar(value_count.index, value_count.values)\n",
        "plt.xlabel('strengths')\n",
        "plt.ylabel('count')\n",
        "plt.title('Strengths_distribution')\n",
        "# 눈금 간격 1로 변경(x, y축 모두)\n",
        "plt.xticks(range(30))\n",
        "plt.yticks(range(10))\n",
        "plt.grid()\n",
        "plt.xticks(rotation=90)\n",
        "plt.show()\n"
      ],
      "metadata": {
        "id": "TklTRq8YWeFK"
      },
      "execution_count": null,
      "outputs": []
    },
    {
      "cell_type": "code",
      "source": [
        "# 실제 match 된 것\n",
        "for_plot = merged_data.reset_index(drop=True)"
      ],
      "metadata": {
        "id": "eMiN9H3BWfxx"
      },
      "execution_count": null,
      "outputs": []
    },
    {
      "cell_type": "code",
      "source": [
        "# 수치 값들을 저장할 리스트\n",
        "all_values = []\n",
        "\n",
        "# 열들을 순회하면서 수치 값들을 가져와 리스트에 추가\n",
        "for col in ['용착강도(좌)_1', '용착강도(좌)_2', '용착강도(좌)_3', '용착강도(좌)_4', '용착강도(좌)_5',\n",
        "            '용착강도(좌)_6', '용착강도(좌)_7', '용착강도(좌)_8', '용착강도(우)_1', '용착강도(우)_2',\n",
        "            '용착강도(우)_3', '용착강도(우)_4', '용착강도(우)_5', '용착강도(우)_6', '용착강도(우)_7',\n",
        "            '용착강도(우)_8']:\n",
        "    values = for_plot [col].values\n",
        "    all_values.extend(values)\n",
        "\n",
        "# 수치 값들의 개수를 세기\n",
        "value_counts = pd.Series(all_values).value_counts()\n",
        "\n",
        "# 시각화\n",
        "plt.bar(value_counts.index, value_counts.values)\n",
        "plt.xlabel('strengths')\n",
        "plt.ylabel('count')\n",
        "plt.title('Strengths_distribution')\n",
        "# 눈금 간격 1로 변경(x, y축 모두)\n",
        "plt.xticks(range(30))\n",
        "plt.yticks(range(10))\n",
        "plt.grid()\n",
        "plt.xticks(rotation=90)\n",
        "plt.show()"
      ],
      "metadata": {
        "id": "jD9w7isLWguS"
      },
      "execution_count": null,
      "outputs": []
    },
    {
      "cell_type": "markdown",
      "source": [
        "#### 제품 원산지에 따른 비교"
      ],
      "metadata": {
        "id": "7IzfzcbRWkHX"
      }
    },
    {
      "cell_type": "code",
      "source": [
        "import seaborn as sns\n",
        "\n",
        "sns.boxplot(x='Category', y='VALUE', data=Current_Strength_US_EU_data)\n",
        "plt.xlabel('Category')\n",
        "plt.ylabel('VALUE')\n",
        "plt.title('Change in VALUE by Category')\n",
        "plt.show()"
      ],
      "metadata": {
        "id": "cCUtRdRHWizC"
      },
      "execution_count": null,
      "outputs": []
    },
    {
      "cell_type": "markdown",
      "source": [
        "#### Value 분포"
      ],
      "metadata": {
        "id": "KmAwgQoMWpC9"
      }
    },
    {
      "cell_type": "code",
      "source": [
        "plt.figure(figsize=(50,8))\n",
        "plt.plot(Current_Strength_US_EU_data['날짜'], Current_Strength_US_EU_data['VALUE'])\n",
        "plt.xlabel('Date')\n",
        "plt.ylabel('VALUE')\n",
        "plt.title('Trend of VALUE')\n",
        "plt.xticks(rotation=45)\n",
        "plt.show()"
      ],
      "metadata": {
        "id": "fzDxmoGSWoXf"
      },
      "execution_count": null,
      "outputs": []
    },
    {
      "cell_type": "markdown",
      "source": [
        "## Peak 분석"
      ],
      "metadata": {
        "id": "48fgeSzqYFr8"
      }
    },
    {
      "cell_type": "code",
      "source": [
        "# prominences: 각 피크의 prominence(눈에 띄는 정도)를 나타내는 1차원 배열\n",
        "# width_heights: 각 피크의 너비에 해당하는 높이를 나타내는 1차원 배열\n",
        "# widths: 각 피크의 너비를 나타내는 1차원 배열\n",
        "# peak_heights: 각 피크의 높이를 나타내는 1차원 배열"
      ],
      "metadata": {
        "id": "MdCAVQ46YUuC"
      },
      "execution_count": null,
      "outputs": []
    },
    {
      "cell_type": "markdown",
      "source": [
        "### 용착 강도가 존재하는 부분에 대해 5월 26일(EU) Peak 분석"
      ],
      "metadata": {
        "id": "U5cfJrslWoh7"
      }
    },
    {
      "cell_type": "code",
      "source": [
        "# 사용 X\n",
        "# EU 제품\n",
        "between_8_43_30_EU_data = extract_data_between_time(data, '2023-05-26 8:40:00', '2023-05-26 8:50:00', 'VALUE')\n",
        "between_9_11_34_EU_data = extract_data_between_time(data, '2023-05-26 9:10:00', '2023-05-26 9:20:00', 'VALUE')\n",
        "between_10_18_07_EU_data = extract_data_between_time(data, '2023-05-26 10:10:00', '2023-05-26 10:20:00', 'VALUE')\n",
        "between_11_04_09_EU_data = extract_data_between_time(data, '2023-05-26 11:00:00', '2023-05-26 11:10:00', 'VALUE')\n",
        "between_13_11_42_EU_data = extract_data_between_time(data, '2023-05-26 13:10:00', '2023-05-26 13:20:00', 'VALUE')\n",
        "between_14_08_09_EU_data = extract_data_between_time(data, '2023-05-26 14:00:00', '2023-05-26 14:10:00', 'VALUE')\n",
        "\n",
        "# US 제품\n",
        "between_15_24_55_US_data = extract_data_between_time(data, '2023-05-26 15:20:00', '2023-05-26 15:30:00', 'VALUE')\n",
        "between_15_55_21_US_data = extract_data_between_time(data, '2023-05-26 15:50:00', '2023-05-26 16:00:00', 'VALUE')\n",
        "between_16_08_32_US_data = extract_data_between_time(data, '2023-05-26 16:00:00', '2023-05-26 16:10:00', 'VALUE')\n",
        "\n",
        "### 사용 O\n",
        "Data_05_26 = Current_Strength_US_EU_data[Current_Strength_US_EU_data['날짜'].dt.date == pd.to_datetime('2023-05-26').date()]\n",
        "\n",
        "filtered_data_05_26_us = filter_rows_with_values(Data_05_26, 'US')\n",
        "filtered_data_05_26_eu = filter_rows_with_values(Data_05_26, 'EU')\n",
        "\n",
        "data_05_26_us = filtered_data_05_26_us[['날짜','VALUE','용착강도(좌)_1', '용착강도(좌)_2', '용착강도(좌)_3', '용착강도(좌)_4', '용착강도(좌)_5',\n",
        "                        '용착강도(좌)_6', '용착강도(좌)_7', '용착강도(좌)_8', '용착강도(우)_1', '용착강도(우)_2',\n",
        "                        '용착강도(우)_3', '용착강도(우)_4', '용착강도(우)_5', '용착강도(우)_6', '용착강도(우)_7',\n",
        "                        '용착강도(우)_8']]\n",
        "data_05_26_eu = filtered_data_05_26_eu[['날짜','VALUE','용착강도(좌)_1', '용착강도(좌)_2', '용착강도(좌)_3', '용착강도(좌)_4', '용착강도(좌)_5',\n",
        "                        '용착강도(좌)_6', '용착강도(좌)_7', '용착강도(좌)_8', '용착강도(우)_1', '용착강도(우)_2',\n",
        "                        '용착강도(우)_3', '용착강도(우)_4', '용착강도(우)_5', '용착강도(우)_6', '용착강도(우)_7',\n",
        "                        '용착강도(우)_8']]"
      ],
      "metadata": {
        "id": "wDZogLu9YMwq"
      },
      "execution_count": null,
      "outputs": []
    },
    {
      "cell_type": "code",
      "source": [
        "# 26일에 용착 강도가 존재하는 부분에 대해서만 10분 간격으로 Peak 데이터 시각화\n",
        "time_ranges = [('8_43_30', '8:40:00', '8:50:00'),\n",
        "               ('9_11_34', '9:10:00', '9:20:00'),\n",
        "               ('10_18_07', '10:10:00', '10:20:00'),\n",
        "               ('11_04_09', '11:00:00', '11:10:00'),\n",
        "               ('13_11_42', '13:10:00', '13:20:00'),\n",
        "               ('14_08_09', '14:00:00', '14:10:00')]\n",
        "\n",
        "peaks_data = []\n",
        "properties_data = []\n",
        "value_data = []\n",
        "\n",
        "for data_name, start_time, end_time in time_ranges:\n",
        "    between_time_data = extract_data_between_time(data, f'2023-05-26 {start_time}', f'2023-05-26 {end_time}', 'VALUE')\n",
        "    between_time_data = between_time_data.flatten()\n",
        "    peaks, properties = find_peaks(between_time_data, prominence=2, width=2, height=5)\n",
        "\n",
        "    # Store peaks in individual variables\n",
        "    exec(f\"peaks_{data_name} = peaks\")\n",
        "\n",
        "    # Store properties in individual variables\n",
        "    exec(f\"properties_{data_name} = properties\")\n",
        "\n",
        "    # Store peaks and properties in lists\n",
        "    peaks_data.append(peaks)\n",
        "    properties_data.append(properties)\n",
        "\n",
        "    # Store original VALUE values corresponding to the peaks\n",
        "    value_data.append(between_time_data[peaks])\n",
        "\n",
        "    plt.figure(figsize=(50, 10))\n",
        "    plt.plot(between_time_data)\n",
        "    plt.plot(peaks, between_time_data[peaks], \"x\")\n",
        "    plt.plot(np.zeros_like(between_time_data), \"--\", color=\"gray\")\n",
        "    plt.title(f'Peaks at {data_name}')\n",
        "    plt.show()\n"
      ],
      "metadata": {
        "id": "2Nh_0Iy_YNa8"
      },
      "execution_count": null,
      "outputs": []
    },
    {
      "cell_type": "markdown",
      "source": [
        "### 5월 26일 전체 EU Peaks"
      ],
      "metadata": {
        "id": "yC-rM8tAYZdw"
      }
    },
    {
      "cell_type": "code",
      "source": [
        "Current_Strength_EU_data = Current_Strength_US_EU_data[(Current_Strength_US_EU_data['날짜'].dt.date == pd.to_datetime('2023-05-26').date()) & (Current_Strength_US_EU_data['Category'] == 'EU')]\n",
        "All_5_26_EU_data = filter_data_by_date_and_category(Current_Strength_US_EU_data, '2023-05-26', 'VALUE', 'EU')"
      ],
      "metadata": {
        "id": "lHwdN9nHYZDl"
      },
      "execution_count": null,
      "outputs": []
    },
    {
      "cell_type": "code",
      "source": [
        "# 5월 26일 EU 전력 데이터 시각화\n",
        "peaks_EU_5_26, properties_EU_5_26 = find_peaks(All_5_26_EU_data, prominence=5,width=2,height=10)\n",
        "plt.figure(figsize=(50,10))\n",
        "plt.plot(All_5_26_EU_data)\n",
        "plt.plot(peaks_EU_5_26, All_5_26_EU_data[peaks_EU_5_26], \"x\")\n",
        "#plt.plot(np.zeros_like(between_8_43_30_EU_data), \"--\", color=\"gray\")\n",
        "plt.show()"
      ],
      "metadata": {
        "id": "CbUknQD-Yb8_"
      },
      "execution_count": null,
      "outputs": []
    },
    {
      "cell_type": "code",
      "source": [
        "fig, axs = plt.subplots(2, 2, figsize=(10, 8))\n",
        "\n",
        "axs[0, 0].hist(properties_EU_5_26[\"prominences\"], bins=5, alpha=0.5, label='0526')\n",
        "axs[0, 0].set_xlabel('prominences number')\n",
        "axs[0, 0].set_ylabel('count')\n",
        "\n",
        "axs[0, 1].hist(properties_EU_5_26[\"width_heights\"], alpha=0.5, label='0526')\n",
        "axs[0, 1].set_xlabel('width_heights number')\n",
        "axs[0, 1].set_ylabel('count')\n",
        "\n",
        "axs[1, 0].hist(properties_EU_5_26[\"widths\"], alpha=0.5, label='0526')\n",
        "axs[1, 0].set_xlabel('widths number')\n",
        "axs[1, 0].set_ylabel('count')\n",
        "\n",
        "axs[1, 1].hist(properties_EU_5_26[\"peak_heights\"], alpha=0.5, label='0526')\n",
        "axs[1, 1].set_xlabel('peak_heights number')\n",
        "axs[1, 1].set_ylabel('count')\n",
        "\n",
        "plt.tight_layout()\n",
        "#fig.legend()\n",
        "plt.show()\n"
      ],
      "metadata": {
        "id": "mARF9eiRYdrt"
      },
      "execution_count": null,
      "outputs": []
    },
    {
      "cell_type": "code",
      "source": [
        "# 5월 6일 EU기기 데이터 중 \"prominences\" 값이 상위 90%에 해당하는 숫자고른다.\n",
        "# prominence 값이 클수록 해당 피크가 주변 신호와 뚜렷하게 구분되는 정도가 높다는 의미이다.\n",
        "# 숫자 값을 바탕으로 원래 데이터셋의 어느 위치에 해당하는지 추출: 단, 숫자 바탕으로 탐색했기에 추출 숫자 개수보다 많이 출력이 가능하다."
      ],
      "metadata": {
        "id": "0LSWO7ICYfVF"
      },
      "execution_count": null,
      "outputs": []
    },
    {
      "cell_type": "code",
      "source": [
        "combined_EU = combine_selected_data(All_5_26_EU_data, Current_Strength_EU_data, peaks_EU_5_26, properties_EU_5_26, 99)\n",
        "combined_EU_Peak = combined_EU.sort_index()\n",
        "\n",
        "duplicated_EU_Peak = combined_EU_Peak[combined_EU_Peak.duplicated(subset='날짜', keep=False)]\n",
        "EU_Peak = duplicated_EU_Peak.drop_duplicates(subset='날짜')"
      ],
      "metadata": {
        "id": "iMYPrcXeYgPf"
      },
      "execution_count": null,
      "outputs": []
    },
    {
      "cell_type": "markdown",
      "source": [
        "### 5월 26일 전체 US Peak"
      ],
      "metadata": {
        "id": "A7oqDiXjYj95"
      }
    },
    {
      "cell_type": "code",
      "source": [
        "Current_Strength_US_data = Current_Strength_US_EU_data[(Current_Strength_US_EU_data['날짜'].dt.date == pd.to_datetime('2023-05-26').date()) & (Current_Strength_US_EU_data['Category'] == 'US')]\n",
        "All_5_26_US_data = filter_data_by_date_and_category(Current_Strength_US_EU_data, '2023-05-26', 'VALUE', 'US')"
      ],
      "metadata": {
        "id": "LPLDA2clYmF9"
      },
      "execution_count": null,
      "outputs": []
    },
    {
      "cell_type": "code",
      "source": [
        "peaks_US_5_26, properties_US_5_26 = find_peaks(All_5_26_US_data, prominence=5,width=2,height=10)\n",
        "plt.figure(figsize=(50,10))\n",
        "plt.plot(All_5_26_US_data)\n",
        "plt.plot(peaks_US_5_26, All_5_26_US_data[peaks_US_5_26], \"x\")\n",
        "plt.show()"
      ],
      "metadata": {
        "id": "e6VS4BWEYot7"
      },
      "execution_count": null,
      "outputs": []
    },
    {
      "cell_type": "code",
      "source": [
        "fig, axs = plt.subplots(2, 2, figsize=(10, 8))\n",
        "\n",
        "axs[0, 0].hist(properties_US_5_26[\"prominences\"], bins=5, alpha=0.5, label='0526')\n",
        "axs[0, 0].set_xlabel('prominences number')\n",
        "axs[0, 0].set_ylabel('count')\n",
        "\n",
        "axs[0, 1].hist(properties_US_5_26[\"width_heights\"], alpha=0.5, label='0526')\n",
        "axs[0, 1].set_xlabel('width_heights number')\n",
        "axs[0, 1].set_ylabel('count')\n",
        "\n",
        "axs[1, 0].hist(properties_US_5_26[\"widths\"], alpha=0.5, label='0526')\n",
        "axs[1, 0].set_xlabel('widths number')\n",
        "axs[1, 0].set_ylabel('count')\n",
        "\n",
        "axs[1, 1].hist(properties_US_5_26[\"peak_heights\"], alpha=0.5, label='0526')\n",
        "axs[1, 1].set_xlabel('peak_heights number')\n",
        "axs[1, 1].set_ylabel('count')\n",
        "\n",
        "plt.tight_layout()\n",
        "#fig.legend()\n",
        "plt.show()\n"
      ],
      "metadata": {
        "id": "dn5StUkJYp4-"
      },
      "execution_count": null,
      "outputs": []
    },
    {
      "cell_type": "code",
      "source": [
        "combined_US = combine_selected_data(All_5_26_US_data, Current_Strength_US_data, peaks_US_5_26, properties_US_5_26, 99)\n",
        "combined_US_Peak = combined_US.sort_index()\n",
        "\n",
        "duplicated_US_Peak = combined_US_Peak[combined_US_Peak.duplicated(subset='날짜', keep=False)]\n",
        "US_Peak = duplicated_US_Peak.drop_duplicates(subset='날짜')"
      ],
      "metadata": {
        "id": "mswzVZEsYrKp"
      },
      "execution_count": null,
      "outputs": []
    },
    {
      "cell_type": "markdown",
      "source": [
        "### US,EU Peak 데이터 시각화"
      ],
      "metadata": {
        "id": "ZbqmQwT2YtK7"
      }
    },
    {
      "cell_type": "code",
      "source": [
        "US_graph_indices = []\n",
        "\n",
        "for index, row in US_Peak.iterrows():\n",
        "    start_index, end_index = each_visualize_comparison(Current_Strength_US_EU_data, index, 5)\n",
        "    US_graph_indices.append((start_index, end_index))"
      ],
      "metadata": {
        "id": "hp2RYfwkuxkc"
      },
      "execution_count": null,
      "outputs": []
    },
    {
      "cell_type": "code",
      "source": [
        "EU_graph_indices = []\n",
        "\n",
        "for index, row in EU_Peak.iterrows():\n",
        "    start_index, end_index = each_visualize_comparison(Current_Strength_US_EU_data, index, 5)\n",
        "    EU_graph_indices.append((start_index, end_index))"
      ],
      "metadata": {
        "id": "mN6yGIZeuyvL"
      },
      "execution_count": null,
      "outputs": []
    },
    {
      "cell_type": "code",
      "source": [
        "# US 그래프 그리기\n",
        "plot_dtw_comparison(Current_Strength_US_EU_data, US_graph_indices, 'US DTW Comparison of Selected Graphs')"
      ],
      "metadata": {
        "id": "dqkVzsmKu0t2"
      },
      "execution_count": null,
      "outputs": []
    },
    {
      "cell_type": "code",
      "source": [
        "# EU 그래프 그리기\n",
        "plot_dtw_comparison(Current_Strength_US_EU_data, EU_graph_indices, 'EU DTW Comparison of Selected Graphs')"
      ],
      "metadata": {
        "id": "fT59ijocu1sp"
      },
      "execution_count": null,
      "outputs": []
    },
    {
      "cell_type": "markdown",
      "source": [
        "### MIN-MAX 기준 Peak 분석"
      ],
      "metadata": {
        "id": "q2QFPjxAu7PF"
      }
    },
    {
      "cell_type": "code",
      "source": [
        "dates = ['2023-05-17', '2023-05-18', '2023-05-19','2023-05-22','2023-05-23','2023-05-24',\n",
        "         '2023-05-25','2023-05-26','2023-05-29','2023-05-30','2023-05-31','2023-06-01','2023-06-02']\n",
        "selected_dates = pd.to_datetime(dates).date\n",
        "\n",
        "Data_05_06_strength = Current_Strength_US_EU_data[Current_Strength_US_EU_data['날짜'].dt.date.isin(selected_dates)]\n",
        "\n",
        "Data_05_06_strength = Data_05_06_strength.set_index('날짜')\n",
        "\n",
        "filtered_data_strength_us = filter_rows_with_values(Data_05_06_strength , 'US')\n",
        "filtered_data_strength_eu = filter_rows_with_values(Data_05_06_strength , 'EU')\n",
        "\n",
        "strength_us = filtered_data_strength_us[['VALUE','Min_Max_diff']]\n",
        "strength_eu = filtered_data_strength_eu[['VALUE','Min_Max_diff']]"
      ],
      "metadata": {
        "id": "0g6YH4Ipu6vz"
      },
      "execution_count": null,
      "outputs": []
    },
    {
      "cell_type": "code",
      "source": [
        "# US 데이터\n",
        "num_bins = 5\n",
        "\n",
        "min_val = strength_us['Min_Max_diff'].min()\n",
        "max_val = strength_us['Min_Max_diff'].max()\n",
        "\n",
        "bin_size = (max_val - min_val) / num_bins\n",
        "\n",
        "strength_us['Min_Max_diff_bin'] = pd.cut(strength_us['Min_Max_diff'], bins=num_bins, labels=False, include_lowest=True)\n",
        "\n",
        "# 3.898 / 6.986 / 10.074 / 13.162\n"
      ],
      "metadata": {
        "id": "QL_RiA_Fu-3N"
      },
      "execution_count": null,
      "outputs": []
    },
    {
      "cell_type": "code",
      "source": [
        "plt.figure(figsize=(8, 6))\n",
        "plt.hist(strength_us['Min_Max_diff_bin'], bins=num_bins, edgecolor='black', alpha=0.5)\n",
        "plt.xlabel('Min_Max_diff_bin')\n",
        "plt.ylabel('Count')\n",
        "plt.title('US Distribution of Min_Max_diff_bin')\n",
        "plt.xticks(range(num_bins))\n",
        "plt.show()"
      ],
      "metadata": {
        "id": "ASl36sa2vCd5"
      },
      "execution_count": null,
      "outputs": []
    },
    {
      "cell_type": "code",
      "source": [
        "# EU 데이터\n",
        "num_bins = 5\n",
        "\n",
        "min_val = strength_eu['Min_Max_diff'].min()\n",
        "max_val = strength_eu['Min_Max_diff'].max()\n",
        "\n",
        "bin_size = (max_val - min_val) / num_bins\n",
        "\n",
        "strength_eu['Min_Max_diff_bin'] = pd.cut(strength_eu['Min_Max_diff'], bins=num_bins, labels=False, include_lowest=True)\n",
        "# 3.65 / 6.294 / 8.936 / 11.578\n"
      ],
      "metadata": {
        "id": "PqVaHI5Cu_4_"
      },
      "execution_count": null,
      "outputs": []
    },
    {
      "cell_type": "code",
      "source": [
        "plt.figure(figsize=(8, 6))\n",
        "plt.hist(strength_eu['Min_Max_diff_bin'], bins=num_bins, edgecolor='black', alpha=0.5)\n",
        "plt.xlabel('Min_Max_diff_bin')\n",
        "plt.ylabel('Count')\n",
        "plt.title('EU Distribution of Min_Max_diff_bin')\n",
        "plt.xticks(range(num_bins))\n",
        "plt.show()"
      ],
      "metadata": {
        "id": "EO8gmodUvDlo"
      },
      "execution_count": null,
      "outputs": []
    },
    {
      "cell_type": "code",
      "source": [
        "#Current_Strength_US_EU_data.reset_index(drop=True, inplace=True)\n",
        "Current_Strength_US_EU_index_data = Current_Strength_US_EU_data.set_index('날짜')"
      ],
      "metadata": {
        "id": "DsdVp4F3vBG-"
      },
      "execution_count": null,
      "outputs": []
    },
    {
      "cell_type": "code",
      "source": [
        "\n",
        "import datetime\n",
        "from scipy.signal import find_peaks, peak_widths\n",
        "\n",
        "\n",
        "def extract_data_between_time(data, start_time, end_time, column_name):\n",
        "    start_time = pd.to_datetime(start_time)\n",
        "    end_time = pd.to_datetime(end_time)\n",
        "    between_time_data = data[(data.index < end_time) & (data.index >= start_time)]\n",
        "    between_time_data = between_time_data[[column_name]]\n",
        "    between_time_data = np.array(between_time_data)\n",
        "    return between_time_data\n",
        "\n",
        "def process_strength(data):\n",
        "    peaks_data = []\n",
        "    properties_data = []\n",
        "    widths_data = []\n",
        "    width_heights_data = []\n",
        "    value_data = []\n",
        "\n",
        "    for date_value in data.index:\n",
        "        start_time = date_value - datetime.timedelta(seconds=10)\n",
        "        end_time = date_value + datetime.timedelta(seconds=10)\n",
        "\n",
        "        between_time_data = extract_data_between_time(Current_Strength_US_EU_index_data, start_time, end_time, 'VALUE')\n",
        "        between_time_data = between_time_data.flatten()\n",
        "        peaks, properties = find_peaks(between_time_data, prominence=4, height=5)\n",
        "\n",
        "        widths, width_heights, left_bases, right_bases = peak_widths(between_time_data, peaks)\n",
        "\n",
        "        # Store peaks in individual variables\n",
        "        exec(f\"peaks_{str(index).replace('-', '_').replace(' ', '_').replace(':', '_')} = peaks\")\n",
        "\n",
        "        # Store properties in individual variables\n",
        "        exec(f\"properties_{str(index).replace('-', '_').replace(' ', '_').replace(':', '_')} = properties\")\n",
        "\n",
        "        # Store widths and width heights in individual variables\n",
        "        exec(f\"widths_{str(index).replace('-', '_').replace(' ', '_').replace(':', '_')} = widths\")\n",
        "        exec(f\"width_heights_{str(index).replace('-', '_').replace(' ', '_').replace(':', '_')} = width_heights\")\n",
        "\n",
        "        # Store peaks and properties in lists\n",
        "        peaks_data.append(peaks)\n",
        "        properties_data.append(properties)\n",
        "        widths_data.append(widths)\n",
        "        width_heights_data.append(width_heights)\n",
        "\n",
        "        # Store original Current values corresponding to the peaks\n",
        "        value_data.append(between_time_data[peaks])\n",
        "\n",
        "    return peaks_data, properties_data, widths_data, width_heights_data, value_data\n",
        "\n",
        "\n",
        "for bin_val in range(5):\n",
        "    globals()[f\"strength_us_{bin_val}\"] = strength_us[strength_us['Min_Max_diff_bin'] == bin_val]\n",
        "\n",
        "us_peaks_data_dict = {}\n",
        "us_properties_data_dict = {}\n",
        "us_widths_data_dict = {}\n",
        "us_width_heights_data_dict = {}\n",
        "us_value_data_dict = {}\n",
        "\n",
        "for bin_val in range(5):\n",
        "    data = globals()[f\"strength_us_{bin_val}\"]\n",
        "    peaks_data, properties_data, widths_data, width_heights_data, value_data = process_strength(data)\n",
        "    us_peaks_data_dict[f\"peaks_data_{bin_val}\"] = peaks_data\n",
        "    us_properties_data_dict[f\"properties_data_{bin_val}\"] = properties_data\n",
        "    us_widths_data_dict[f\"widths_data_{bin_val}\"] = widths_data\n",
        "    us_width_heights_data_dict[f\"width_heights_data_{bin_val}\"] = width_heights_data\n",
        "    us_value_data_dict[f\"value_data_{bin_val}\"] = value_data\n",
        "\n",
        "\n",
        "import matplotlib.pyplot as plt\n",
        "import numpy as np\n",
        "\n",
        "fig, axs = plt.subplots(2, 2, figsize=(10, 8))\n",
        "\n",
        "for bin_val in range(5):\n",
        "    properties_data = us_properties_data_dict[f'properties_data_{bin_val}']\n",
        "    widths_data = us_widths_data_dict[f'widths_data_{bin_val}']\n",
        "    width_heights_data = us_width_heights_data_dict[f'width_heights_data_{bin_val}']\n",
        "\n",
        "    # Flatten the nested lists and extract peak_heights and prominences\n",
        "    peak_heights = np.concatenate([d['peak_heights'] for d in properties_data]).flatten()\n",
        "    prominences = np.concatenate([d['prominences'] for d in properties_data]).flatten()\n",
        "    widths_data_flat = np.concatenate(widths_data).flatten()\n",
        "    width_heights_data_flat = np.concatenate(width_heights_data).flatten()\n",
        "\n",
        "    # Plot histogram of peak heights with bin-specific color\n",
        "    axs[0, 0].hist(peak_heights, bins=10, alpha=0.5, label=f'Bin {bin_val}', color=f'C{bin_val}')\n",
        "\n",
        "    # Plot histogram of prominences with bin-specific color\n",
        "    axs[0, 1].hist(prominences, bins=10, alpha=0.5, label=f'Bin {bin_val}', color=f'C{bin_val}')\n",
        "\n",
        "    # Plot histogram of widths with bin-specific color\n",
        "    axs[1, 0].hist(widths_data_flat, bins=10, alpha=0.5, label=f'Bin {bin_val}', color=f'C{bin_val}')\n",
        "\n",
        "    # Plot histogram of width heights with bin-specific color\n",
        "    axs[1, 1].hist(width_heights_data_flat, bins=10, alpha=0.5, label=f'Bin {bin_val}', color=f'C{bin_val}')\n",
        "\n",
        "# Set titles and labels for subplots\n",
        "axs[0, 0].set_title('US Peak Heights')\n",
        "axs[0, 0].set_xlabel('Peak Heights')\n",
        "axs[0, 0].set_ylabel('Frequency')\n",
        "axs[0, 0].legend()\n",
        "\n",
        "axs[0, 1].set_title('US Prominences')\n",
        "axs[0, 1].set_xlabel('Prominences')\n",
        "axs[0, 1].set_ylabel('Frequency')\n",
        "axs[0, 1].legend()\n",
        "\n",
        "axs[1, 0].set_title('US Widths')\n",
        "axs[1, 0].set_xlabel('Widths')\n",
        "axs[1, 0].set_ylabel('Frequency')\n",
        "axs[1, 0].legend()\n",
        "\n",
        "axs[1, 1].set_title('US Heights')\n",
        "axs[1, 1].set_xlabel('Width Heights')\n",
        "axs[1, 1].set_ylabel('Frequency')\n",
        "axs[1, 1].legend()\n",
        "\n",
        "# Adjust spacing between subplots\n",
        "plt.tight_layout()\n",
        "\n",
        "# Show the plot\n",
        "plt.show()\n",
        "\n"
      ],
      "metadata": {
        "id": "VnmHCxo5vI6u"
      },
      "execution_count": null,
      "outputs": []
    },
    {
      "cell_type": "markdown",
      "source": [
        "### Mean 기준 Peak 분석"
      ],
      "metadata": {
        "id": "f_bJ2Bf1vSXp"
      }
    },
    {
      "cell_type": "code",
      "source": [
        "strength_mean_eu = filtered_data_strength_eu[['VALUE','strength_mean']]\n",
        "strength_mean_us = filtered_data_strength_us[['VALUE','strength_mean']]"
      ],
      "metadata": {
        "id": "Jco--LlUvPHQ"
      },
      "execution_count": null,
      "outputs": []
    },
    {
      "cell_type": "code",
      "source": [
        "strength_mean_eu = strength_mean_eu.sort_values(by='strength_mean', ascending=False)\n",
        "\n",
        "num_bins = 4\n",
        "bin_size = len(strength_mean_eu) // num_bins\n",
        "\n",
        "top_25_percent = int(0.25 * len(strength_mean_eu))\n",
        "top_50_percent = int(0.5 * len(strength_mean_eu))\n",
        "top_75_percent = int(0.75 * len(strength_mean_eu))\n",
        "\n",
        "strength_mean_eu['strength_mean_bin'] = 0\n",
        "strength_mean_eu.iloc[top_75_percent:, -1] = 0\n",
        "strength_mean_eu.iloc[top_50_percent:top_75_percent, -1] = 1\n",
        "strength_mean_eu.iloc[top_25_percent:top_50_percent, -1] = 2\n",
        "strength_mean_eu.iloc[:top_25_percent, -1] = 3\n",
        "\n",
        "\n",
        "plt.figure(figsize=(8, 6))\n",
        "plt.hist(strength_mean_eu['strength_mean_bin'], bins=num_bins, edgecolor='black', alpha=0.5)\n",
        "plt.xlabel('mean_bin')\n",
        "plt.ylabel('Count')\n",
        "plt.title('EU Distribution of mean_bin')\n",
        "plt.xticks(range(num_bins))\n",
        "plt.show()\n"
      ],
      "metadata": {
        "id": "tX9I4Z62vYlq"
      },
      "execution_count": null,
      "outputs": []
    },
    {
      "cell_type": "code",
      "source": [
        "for bin_val in range(4):\n",
        "    globals()[f\"strength_mean_eu_{bin_val}\"] = strength_mean_eu[strength_mean_eu['strength_mean_bin'] == bin_val]\n",
        "\n",
        "eu_peaks_data_dict = {}\n",
        "eu_properties_data_dict = {}\n",
        "eu_widths_data_dict = {}\n",
        "eu_width_heights_data_dict = {}\n",
        "eu_value_data_dict = {}\n",
        "\n",
        "for bin_val in range(4):\n",
        "    data = globals()[f\"strength_mean_eu_{bin_val}\"]\n",
        "    peaks_data, properties_data, widths_data, width_heights_data, value_data = process_strength(data)\n",
        "    eu_peaks_data_dict[f\"peaks_data_{bin_val}\"] = peaks_data\n",
        "    eu_properties_data_dict[f\"properties_data_{bin_val}\"] = properties_data\n",
        "    eu_widths_data_dict[f\"widths_data_{bin_val}\"] = widths_data\n",
        "    eu_width_heights_data_dict[f\"width_heights_data_{bin_val}\"] = width_heights_data\n",
        "    eu_value_data_dict[f\"value_data_{bin_val}\"] = value_data\n",
        "\n",
        "\n",
        "fig, axs = plt.subplots(2, 2, figsize=(10, 8))\n",
        "\n",
        "for bin_val in range(4):\n",
        "    properties_data = eu_properties_data_dict[f'properties_data_{bin_val}']\n",
        "    widths_data = eu_widths_data_dict[f'widths_data_{bin_val}']\n",
        "    width_heights_data = eu_width_heights_data_dict[f'width_heights_data_{bin_val}']\n",
        "\n",
        "    # Flatten the nested lists and extract peak_heights and prominences\n",
        "    peak_heights = np.concatenate([d['peak_heights'] for d in properties_data]).flatten()\n",
        "    prominences = np.concatenate([d['prominences'] for d in properties_data]).flatten()\n",
        "    widths_data_flat = np.concatenate(widths_data).flatten()\n",
        "    width_heights_data_flat = np.concatenate(width_heights_data).flatten()\n",
        "\n",
        "    # Plot histogram of peak heights with bin-specific color\n",
        "    axs[0, 0].hist(peak_heights, bins=10, alpha=0.5, label=f'Bin {bin_val}', color=f'C{bin_val}')\n",
        "\n",
        "    # Plot histogram of prominences with bin-specific color\n",
        "    axs[0, 1].hist(prominences, bins=10, alpha=0.5, label=f'Bin {bin_val}', color=f'C{bin_val}')\n",
        "\n",
        "    # Plot histogram of widths with bin-specific color\n",
        "    axs[1, 0].hist(widths_data_flat, bins=10, alpha=0.5, label=f'Bin {bin_val}', color=f'C{bin_val}')\n",
        "\n",
        "    # Plot histogram of width heights with bin-specific color\n",
        "    axs[1, 1].hist(width_heights_data_flat, bins=10, alpha=0.5, label=f'Bin {bin_val}', color=f'C{bin_val}')\n",
        "\n",
        "# Set titles and labels for subplots\n",
        "axs[0, 0].set_title('EU Peak Heights')\n",
        "axs[0, 0].set_xlabel('Peak Heights')\n",
        "axs[0, 0].set_ylabel('Frequency')\n",
        "axs[0, 0].legend()\n",
        "\n",
        "axs[0, 1].set_title('EU Prominences')\n",
        "axs[0, 1].set_xlabel('Prominences')\n",
        "axs[0, 1].set_ylabel('Frequency')\n",
        "axs[0, 1].legend()\n",
        "\n",
        "axs[1, 0].set_title('EU Widths')\n",
        "axs[1, 0].set_xlabel('Widths')\n",
        "axs[1, 0].set_ylabel('Frequency')\n",
        "axs[1, 0].legend()\n",
        "\n",
        "axs[1, 1].set_title('EU Heights')\n",
        "axs[1, 1].set_xlabel('Width Heights')\n",
        "axs[1, 1].set_ylabel('Frequency')\n",
        "axs[1, 1].legend()\n",
        "\n",
        "# Adjust spacing between subplots\n",
        "plt.tight_layout()\n",
        "\n",
        "# Show the plot\n",
        "plt.show()\n"
      ],
      "metadata": {
        "id": "-9KtvalKvb1V"
      },
      "execution_count": null,
      "outputs": []
    },
    {
      "cell_type": "code",
      "source": [
        "strength_mean_us = strength_mean_us.sort_values(by='strength_mean', ascending=False)\n",
        "\n",
        "num_bins = 4\n",
        "bin_size = len(strength_mean_us) // num_bins\n",
        "\n",
        "top_25_percent = int(0.25 * len(strength_mean_eu))\n",
        "top_50_percent = int(0.5 * len(strength_mean_eu))\n",
        "top_75_percent = int(0.75 * len(strength_mean_eu))\n",
        "\n",
        "strength_mean_us['strength_mean_bin'] = 0\n",
        "strength_mean_us.iloc[top_75_percent:, -1] = 0\n",
        "strength_mean_us.iloc[top_50_percent:top_75_percent, -1] = 1\n",
        "strength_mean_us.iloc[top_25_percent:top_50_percent, -1] = 2\n",
        "strength_mean_us.iloc[:top_25_percent, -1] = 3\n",
        "\n",
        "plt.figure(figsize=(8, 6))\n",
        "plt.hist(strength_mean_us['strength_mean_bin'], bins=num_bins, edgecolor='black', alpha=0.5)\n",
        "plt.xlabel('mean_bin')\n",
        "plt.ylabel('Count')\n",
        "plt.title('US Distribution of mean_bin')\n",
        "plt.xticks(range(num_bins))\n",
        "plt.show()\n"
      ],
      "metadata": {
        "id": "qhcJqZNjvfuB"
      },
      "execution_count": null,
      "outputs": []
    },
    {
      "cell_type": "markdown",
      "source": [
        "### 중심 피크 기준 기울기 관찰"
      ],
      "metadata": {
        "id": "nUlxiBvV3bHd"
      }
    },
    {
      "cell_type": "code",
      "source": [
        "Current_Strength_US_EU_data = Current_Strength_US_EU_data.rename(columns={'날짜': 'Date'})"
      ],
      "metadata": {
        "id": "86_Bw_Bu3YJp"
      },
      "execution_count": null,
      "outputs": []
    },
    {
      "cell_type": "code",
      "source": [
        "sample = Current_Strength_US_EU_data[(Current_Strength_US_EU_data['Date'].dt.date == pd.to_datetime('2023-06-03').date()) & (Current_Strength_US_EU_data['Category'] == 'EU')][['Date','VALUE']]"
      ],
      "metadata": {
        "id": "U1fS8JSC3iS1"
      },
      "execution_count": null,
      "outputs": []
    },
    {
      "cell_type": "code",
      "source": [
        "avg_08_07 = avg_08_07.rename(columns={'날짜': 'Date'})"
      ],
      "metadata": {
        "id": "0V-YLcch3jh-"
      },
      "execution_count": null,
      "outputs": []
    },
    {
      "cell_type": "code",
      "source": [
        "# Import the libraries\n",
        "import scipy.signal as signal\n",
        "\n",
        "# Find the peaks and properties of the Value column\n",
        "peaks_abnormal, properties_abnormal = signal.find_peaks(avg_08_07['VALUE'], prominence=4, height=5)\n",
        "\n",
        "# Initialize an empty dictionary to store the wave dataframes\n",
        "abnormal_sample = {}\n",
        "\n",
        "# Loop through each peak index\n",
        "for i in range(len(peaks_abnormal)):\n",
        "    # Get the start and end index of the wave\n",
        "    start = max(0, peaks_abnormal[i] - 2) # make sure the start index is not negative\n",
        "    end = min(len(avg_08_07), peaks_abnormal[i] + 3) # make sure the end index is not out of bounds\n",
        "    # Slice the dataframe using the start and end index\n",
        "    wave_df = avg_08_07.iloc[start:end]\n",
        "    # Create a key for the wave dataframe using the peak index\n",
        "    key = \"wave\" + str(i+1)\n",
        "    # Add the wave dataframe to the dictionary with the key\n",
        "    abnormal_sample[key] = wave_df\n",
        "\n",
        "# Import the libraries\n",
        "import scipy.signal as signal\n",
        "import numpy as np\n",
        "\n",
        "# Find the peaks and properties of the Value column in the sample dataframe\n",
        "peaks_normal, properties_normal = signal.find_peaks(sample['VALUE'], prominence=4, height=5)\n",
        "\n",
        "# Initialize an empty dictionary to store the wave dataframes in the sample dataframe\n",
        "normal_sample = {}\n",
        "\n",
        "# Loop through each peak index in the sample dataframe\n",
        "for i in range(len(peaks_normal)):\n",
        "    # Get the start and end index of the wave\n",
        "    start = max(0, peaks_normal[i] - 2) # make sure the start index is not negative\n",
        "    end = min(len(sample), peaks_normal[i] + 3) # make sure the end index is not out of bounds\n",
        "    # Slice the dataframe using the start and end index\n",
        "    wave_df = sample.iloc[start:end]\n",
        "    # Create a key for the wave dataframe using the peak index\n",
        "    key = \"sample_wave\" + str(i+1)\n",
        "    # Add the wave dataframe to the dictionary with the key\n",
        "    normal_sample[key] = wave_df\n"
      ],
      "metadata": {
        "id": "xHu2X6wI3tZU"
      },
      "execution_count": null,
      "outputs": []
    },
    {
      "cell_type": "code",
      "source": [
        "import pandas as pd\n",
        "import random\n",
        "\n",
        "# Assuming wave_dict and wave_dict_sample are defined as in your previous examples...\n",
        "\n",
        "# Extract all the dataframes from wave_dict_sample and wave_dict\n",
        "normal_frames = [normal_sample[key] for key in sorted(normal_sample.keys())]\n",
        "anomaly_frames = [abnormal_sample[key] for key in sorted(abnormal_sample.keys())]\n",
        "\n",
        "# Set the anomaly column\n",
        "for frame in normal_frames:\n",
        "    frame['anomaly'] = 0\n",
        "\n",
        "for frame in anomaly_frames:\n",
        "    frame['anomaly'] = 1\n",
        "\n",
        "# Get a list of all possible insertion points for anomaly data in the sample dataframe\n",
        "insertion_points = [i for i in range(1, len(normal_frames))]\n",
        "\n",
        "# Randomly select from these positions for each anomaly dataframe\n",
        "random_insertion_points = random.sample(insertion_points, len(anomaly_frames))\n",
        "\n",
        "# Sort the selected positions to maintain time order\n",
        "random_insertion_points.sort()\n",
        "\n",
        "# Weave together the anomaly data and the sample data at the selected positions\n",
        "combined_frames = []\n",
        "for i in range(len(normal_frames)):\n",
        "    combined_frames.append(normal_frames[i])\n",
        "    if i in random_insertion_points:\n",
        "        combined_frames.append(anomaly_frames.pop(0))\n",
        "\n",
        "# If there's any anomaly data left, add it to the end\n",
        "if anomaly_frames:\n",
        "    combined_frames.extend(anomaly_frames)\n",
        "\n",
        "# Concatenate all the frames to create the result dataframe\n",
        "combined_df = pd.concat(combined_frames, ignore_index=True)\n",
        "\n",
        "print(combined_df)"
      ],
      "metadata": {
        "id": "3DorXjzs3un8"
      },
      "execution_count": null,
      "outputs": []
    },
    {
      "cell_type": "code",
      "source": [
        "main_test = combined_df[['VALUE', 'anomaly']]"
      ],
      "metadata": {
        "id": "f9MQHkba3y2t"
      },
      "execution_count": null,
      "outputs": []
    },
    {
      "cell_type": "code",
      "source": [
        "import plotly.graph_objects as go\n",
        "\n",
        "# Extract the data from the DataFrame\n",
        "values = main_test['VALUE'].tolist()\n",
        "anomaly = main_test['anomaly'].tolist()\n",
        "\n",
        "# Create the main line plot\n",
        "fig = go.Figure()\n",
        "fig.add_trace(go.Scatter(y=values, mode='lines', name='VALUE'))\n",
        "\n",
        "# Find the starts and ends of the anomaly sections\n",
        "anomaly_starts = [index for index, value in enumerate(anomaly) if value == 1 and (index == 0 or anomaly[index - 1] == 0)]\n",
        "anomaly_ends = [index for index, value in enumerate(anomaly) if value == 1 and (index == len(anomaly) - 1 or anomaly[index + 1] == 0)]\n",
        "\n",
        "# Add shaded regions for anomalies\n",
        "for (start, end) in zip(anomaly_starts, anomaly_ends):\n",
        "    fig.add_shape(\n",
        "        go.layout.Shape(\n",
        "            type=\"rect\",\n",
        "            xref=\"x\",\n",
        "            yref=\"paper\",\n",
        "            x0=start,\n",
        "            y0=0,\n",
        "            x1=end,\n",
        "            y1=1,\n",
        "            fillcolor=\"gray\",\n",
        "            opacity=0.8,\n",
        "            layer=\"below\",\n",
        "            line_width=0\n",
        "        )\n",
        "    )\n",
        "\n",
        "# Provide layout details\n",
        "fig.update_layout(title=\"VALUE with Anomalies highlighted\")\n",
        "fig.show()\n"
      ],
      "metadata": {
        "id": "59-r_zD630Ho"
      },
      "execution_count": null,
      "outputs": []
    },
    {
      "cell_type": "code",
      "source": [
        "import pandas as pd\n",
        "\n",
        "# 1. Compute the slope for the entire dataframe\n",
        "main_test['slope'] = main_test['VALUE'].diff()\n",
        "\n",
        "# 2. Extract slopes corresponding to anomalies\n",
        "anomaly_slopes = main_test[main_test['anomaly'] == 1]['slope']\n",
        "\n",
        "# 3. Feature extraction from the anomaly slopes\n",
        "mean_slope = anomaly_slopes.mean()\n",
        "max_slope = anomaly_slopes.max()\n",
        "min_slope = anomaly_slopes.min()\n",
        "variance_slope = anomaly_slopes.var()\n",
        "\n",
        "print(f\"Mean Slope for Anomalies: {mean_slope}\")\n",
        "print(f\"Max Slope for Anomalies: {max_slope}\")\n",
        "print(f\"Min Slope for Anomalies: {min_slope}\")\n",
        "print(f\"Variance of Slope for Anomalies: {variance_slope}\")\n"
      ],
      "metadata": {
        "id": "HQjUZTBq31jc"
      },
      "execution_count": null,
      "outputs": []
    },
    {
      "cell_type": "code",
      "source": [
        "from plotly.subplots import make_subplots\n",
        "\n",
        "# Create a subplot with 2 rows and 1 column, and shared x-axis\n",
        "fig = make_subplots(rows=2, cols=1, shared_xaxes=True, vertical_spacing=0.1)\n",
        "\n",
        "# Add the traces for the original values\n",
        "fig.add_trace(go.Scatter(x=main_test.index, y=main_test['VALUE'], mode='lines+markers', name='Values'), row=1, col=1)\n",
        "fig.add_trace(go.Scatter(x=anomalies.index, y=anomalies['VALUE'], mode='markers', marker=dict(size=10, color='red'), name='Anomalies'), row=1, col=1)\n",
        "\n",
        "# Add the traces for the slopes\n",
        "fig.add_trace(go.Scatter(x=main_test.index, y=main_test['abs_slope'], mode='lines+markers', name='Slopes'), row=2, col=1)\n",
        "fig.add_trace(go.Scatter(x=anomalies.index, y=anomaly_slopes, mode='markers', marker=dict(size=10, color='red'), name='Anomaly Slopes'), row=2, col=1)\n",
        "\n",
        "# Optional: Add annotations for slopes on anomalies\n",
        "for idx, row in anomalies.iterrows():\n",
        "    fig.add_annotation(\n",
        "        x=idx,\n",
        "        y=row['VALUE'],\n",
        "        xref=\"x\",\n",
        "        yref=\"y\",\n",
        "        text=f\"Slope: {row['abs_slope']:.2f}\",\n",
        "        showarrow=True,\n",
        "        arrowhead=4,\n",
        "        ax=0,\n",
        "        ay=-40\n",
        "    )\n",
        "\n",
        "fig.update_layout(title=\"Comparison of Values and Their Slopes\")\n",
        "fig.show()\n"
      ],
      "metadata": {
        "id": "NQU4Tg9S34Mw"
      },
      "execution_count": null,
      "outputs": []
    },
    {
      "cell_type": "code",
      "source": [
        "#Savitzky-Golay 필터는 데이터를 평활화하고 선택적으로 도함수를 결정\n",
        "\n",
        "# 데이터를 평활화를 통해 노이즈 없이 데이터의 기본 추세를 이해\n",
        "main_test['smoothed'] = savgol_filter(main_test['VALUE'], window_length=5, polyorder=2)\n",
        "\n",
        "# window_length: 필터가 각 로컬 다항식 피팅에 사용하는 창의 길이(또는 데이터 포인트 수)입니다. 홀수 정수 사용 -> 짝수이면 창이 경계를 처리하는 방법이 모호하고, window_length를 사용할 때 도함수가 계산되는 현재 데이터 포인트는 윈도우의 중앙에 위치\n",
        "# polyorder: 피팅에 사용되는 다항식의 차수\n",
        "# deriv: 계산할 미분의 차수를 지정\n",
        "\n",
        "# 각 지점에서 데이터의 예상 순간 변화율(또는 기울기)을 제공\n",
        "main_test['slope'] = savgol_filter(main_test['VALUE'], window_length=3, polyorder=2, deriv=1)"
      ],
      "metadata": {
        "id": "82mZtA4d36xc"
      },
      "execution_count": null,
      "outputs": []
    },
    {
      "cell_type": "code",
      "source": [
        "import plotly.graph_objects as go\n",
        "\n",
        "fig = go.Figure()\n",
        "\n",
        "# Plot original values\n",
        "fig.add_trace(go.Scatter(x=main_test.index, y=main_test['VALUE'], mode='lines', name='Original Values'))\n",
        "\n",
        "# Plot smoothed values\n",
        "fig.add_trace(go.Scatter(x=main_test.index, y=main_test['smoothed'], mode='lines', name='Smoothed Values', line=dict(dash='dot')))\n",
        "\n",
        "# Highlight anomalies using different markers\n",
        "anomalies = main_test[main_test['anomaly'] == 1]\n",
        "fig.add_trace(go.Scatter(x=anomalies.index, y=anomalies['VALUE'], mode='markers', marker=dict(size=10, color='red'), name='Anomalies'))\n",
        "\n",
        "fig.show()\n"
      ],
      "metadata": {
        "id": "FDLbBe6239FW"
      },
      "execution_count": null,
      "outputs": []
    },
    {
      "cell_type": "markdown",
      "source": [
        "### 미분계수의 통계적 유의성 검정"
      ],
      "metadata": {
        "id": "r8wqIKTT3_r9"
      }
    },
    {
      "cell_type": "code",
      "source": [
        "main_test = main_test[main_test['VALUE'] >= 4]"
      ],
      "metadata": {
        "id": "OcLyOn394CQM"
      },
      "execution_count": null,
      "outputs": []
    },
    {
      "cell_type": "code",
      "source": [
        "import plotly.express as px\n",
        "\n",
        "# Separate the slopes based on anomaly labels\n",
        "anomaly_slopes = main_test[main_test['anomaly'] == 1]['slope']\n",
        "normal_slopes = main_test[main_test['anomaly'] == 0]['slope']\n",
        "\n",
        "# Create a dataframe suitable for boxplot\n",
        "df_box = pd.DataFrame({'Anomaly': ['Yes'] * len(anomaly_slopes) + ['No'] * len(normal_slopes),\n",
        "                       'Slope': anomaly_slopes.tolist() + normal_slopes.tolist()})\n",
        "\n",
        "\n",
        "fig = px.box(df_box, x='Anomaly', y='Slope', title='Comparison of Slopes for Anomalies and Normal Data')\n",
        "\n",
        "# Adjust width\n",
        "fig.update_layout(width=800)  # Adjust the number as needed\n",
        "\n",
        "fig.show()\n"
      ],
      "metadata": {
        "id": "ay1DJbJG4FFu"
      },
      "execution_count": null,
      "outputs": []
    },
    {
      "cell_type": "code",
      "source": [
        "from scipy.stats import mannwhitneyu\n",
        "\n",
        "# Anomalies와 Normal data의 기울기 값을 분리\n",
        "anomalies_slopes = main_test[main_test['anomaly'] == 1]['slope']\n",
        "normal_slopes = main_test[main_test['anomaly'] == 0]['slope']\n",
        "\n",
        "# Mann-Whitney U 검정 수행\n",
        "stat, p = mannwhitneyu(anomalies_slopes, normal_slopes)\n",
        "print('Statistics=%.3f, p=%.3f' % (stat, p))\n",
        "\n",
        "# p값 해석\n",
        "alpha = 0.05\n",
        "if p > alpha:\n",
        "    print('같은 분포로부터 나왔을 가능성이 높습니다 (귀무가설 채택).')\n",
        "else:\n",
        "    print('다른 분포로부터 나왔을 가능성이 높습니다 (귀무가설 기각).')\n"
      ],
      "metadata": {
        "id": "Kgq_zk694GBv"
      },
      "execution_count": null,
      "outputs": []
    },
    {
      "cell_type": "code",
      "source": [
        "from scipy.stats import ttest_ind\n",
        "\n",
        "# 이상치와 일반 데이터 포인트의 기울기 값을 추출합니다.\n",
        "anomalies_slopes = main_test[main_test['anomaly'] == 1]['slope']\n",
        "normal_slopes = main_test[main_test['anomaly'] == 0]['slope']\n",
        "\n",
        "# 두 그룹의 t-test를 수행합니다.\n",
        "t_stat, p_value = ttest_ind(anomalies_slopes, normal_slopes)\n",
        "\n",
        "print(f\"t-statistic: {t_stat}\")\n",
        "print(f\"p-value: {p_value}\")\n",
        "\n",
        "if p_value < 0.05:\n",
        "    print(\"두 그룹 간의 평균에는 유의미한 차이가 있습니다. (귀무가설 기각)\")\n",
        "else:\n",
        "    print(\"두 그룹 간의 평균에는 유의미한 차이가 없습니다. (귀무가설 채택)\")"
      ],
      "metadata": {
        "id": "1c-XPADB4G32"
      },
      "execution_count": null,
      "outputs": []
    },
    {
      "cell_type": "code",
      "source": [
        "from statsmodels.stats.weightstats import ztest\n",
        "\n",
        "# 이상치와 정상 데이터 포인트의 기울기 값 추출\n",
        "anomalies_slopes = main_test[main_test['anomaly'] == 1]['slope']\n",
        "normal_slopes = main_test[main_test['anomaly'] == 0]['slope']\n",
        "\n",
        "# 두 그룹 간의 Z-검정 수행\n",
        "z_stat, p_value = ztest(anomalies_slopes, normal_slopes)\n",
        "\n",
        "print(f\"Z-통계량: {z_stat}\")\n",
        "print(f\"P-값: {p_value}\")\n",
        "\n",
        "if p_value < 0.05:\n",
        "    print(\"두 그룹 간의 평균에는 통계적으로 유의미한 차이가 있습니다. (귀무 가설 기각)\")\n",
        "else:\n",
        "    print(\"두 그룹 간의 평균에는 통계적으로 유의미한 차이가 없습니다. (귀무 가설 채택)\")\n"
      ],
      "metadata": {
        "id": "WOx9NLLN4Jt2"
      },
      "execution_count": null,
      "outputs": []
    },
    {
      "cell_type": "code",
      "source": [
        "# 다운샘플링: normal_slopes에서 anomalies_slopes의 크기만큼 무작위로 선택\n",
        "downsampled_normal_slopes = np.random.choice(normal_slopes, size=len(anomalies_slopes), replace=False)\n",
        "\n",
        "z_stat_downsampled, p_value_downsampled = ztest(anomalies_slopes, downsampled_normal_slopes)\n",
        "\n",
        "print(f\"다운샘플링 후 Z-통계량: {z_stat_downsampled}\")\n",
        "print(f\"다운샘플링 후 P-값: {p_value_downsampled}\")\n",
        "\n",
        "if p_value_downsampled < 0.05:\n",
        "    print(\"두 그룹 간의 평균에는 통계적으로 유의미한 차이가 있습니다. (귀무 가설 기각)\")\n",
        "else:\n",
        "    print(\"두 그룹 간의 평균에는 통계적으로 유의미한 차이가 없습니다. (귀무 가설 채택)\")\n"
      ],
      "metadata": {
        "id": "fmT1uWog4LGr"
      },
      "execution_count": null,
      "outputs": []
    },
    {
      "cell_type": "code",
      "source": [
        "t_stat_downsampled, p_value_downsampled = ttest_ind(anomalies_slopes, downsampled_normal_slopes, equal_var=False)\n",
        "\n",
        "print(f\"다운샘플링 후 T-통계량: {t_stat_downsampled}\")\n",
        "print(f\"다운샘플링 후 P-값: {p_value_downsampled}\")\n",
        "\n",
        "if p_value_downsampled < 0.05:\n",
        "    print(\"두 그룹 간의 평균에는 통계적으로 유의미한 차이가 있습니다. (귀무 가설 기각)\")\n",
        "else:\n",
        "    print(\"두 그룹 간의 평균에는 통계적으로 유의미한 차이가 없습니다. (귀무 가설 채택)\")\n"
      ],
      "metadata": {
        "id": "ef0npqqO4MF6"
      },
      "execution_count": null,
      "outputs": []
    },
    {
      "cell_type": "code",
      "source": [
        "print(\"Anomalies - Mean Slope:\", anomaly_slopes.mean())\n",
        "print(\"Anomalies - Median Slope:\", anomaly_slopes.median())\n",
        "print(\"Anomalies - Standard Deviation of Slope:\", anomaly_slopes.std())\n",
        "print(\"\\n\")\n",
        "print(\"Normal - Mean Slope:\", normal_slopes.mean())\n",
        "print(\"Normal - Median Slope:\", normal_slopes.median())\n",
        "print(\"Normal - Standard Deviation of Slope:\", normal_slopes.std())"
      ],
      "metadata": {
        "id": "0CCOJL6H4ZWu"
      },
      "execution_count": null,
      "outputs": []
    },
    {
      "cell_type": "markdown",
      "source": [
        "### Value 값의 통계적 유의성 검정"
      ],
      "metadata": {
        "id": "lEvQ_SV74cE1"
      }
    },
    {
      "cell_type": "code",
      "source": [
        "import plotly.express as px\n",
        "import pandas as pd\n",
        "\n",
        "# Separate the VALUE data based on anomaly labels\n",
        "anomaly_values = main_test[main_test['anomaly'] == 1]['VALUE']\n",
        "normal_values = main_test[main_test['anomaly'] == 0]['VALUE']\n",
        "\n",
        "# Create a dataframe suitable for boxplot\n",
        "df_box = pd.DataFrame({'Anomaly': ['Yes'] * len(anomaly_values) + ['No'] * len(normal_values),\n",
        "                       'Value': anomaly_values.tolist() + normal_values.tolist()})\n",
        "\n",
        "# Plot the boxplot\n",
        "fig = px.box(df_box, x='Anomaly', y='Value', title='Comparison of Values for Anomalies and Normal Data')\n",
        "\n",
        "# Adjust width\n",
        "fig.update_layout(width=800)  # Adjust the number as needed\n",
        "\n",
        "fig.show()\n"
      ],
      "metadata": {
        "id": "jyX2LmH04dMA"
      },
      "execution_count": null,
      "outputs": []
    },
    {
      "cell_type": "code",
      "source": [
        "from scipy.stats import ttest_ind\n",
        "\n",
        "# 이상치와 비이상치의 VALUE 데이터 추출\n",
        "anomaly_values = main_test[main_test['anomaly'] == 1]['VALUE']\n",
        "normal_values = main_test[main_test['anomaly'] == 0]['VALUE']\n",
        "\n",
        "# t-검정 수행\n",
        "t_stat, p_value = ttest_ind(anomaly_values, normal_values)\n",
        "\n",
        "print(f\"t-통계량: {t_stat:.4f}\")\n",
        "print(f\"p-value: {p_value:.4f}\")\n",
        "\n",
        "if p_value < 0.05:\n",
        "    print(\"두 그룹 간의 평균 차이는 통계적으로 유의미하다 (귀무가설 기각).\")\n",
        "else:\n",
        "    print(\"두 그룹 간의 평균 차이는 통계적으로 유의미하지 않다 (귀무가설 채택).\")\n"
      ],
      "metadata": {
        "id": "MS9Qa5xA4fVX"
      },
      "execution_count": null,
      "outputs": []
    },
    {
      "cell_type": "code",
      "source": [
        "from statsmodels.stats.weightstats import ztest\n",
        "\n",
        "# 이상치와 정상 데이터 포인트의 VALUE 데이터 추출\n",
        "anomaly_values = main_test[main_test['anomaly'] == 1]['VALUE']\n",
        "normal_values = main_test[main_test['anomaly'] == 0]['VALUE']\n",
        "\n",
        "# 두 그룹 간의 Z-검정 수행\n",
        "z_stat, p_value = ztest(anomaly_values, normal_values)\n",
        "\n",
        "print(f\"Z-통계량: {z_stat:.4f}\")\n",
        "print(f\"P-값: {p_value:.4f}\")\n",
        "\n",
        "if p_value < 0.05:\n",
        "    print(\"두 그룹 간의 평균에는 통계적으로 유의미한 차이가 있습니다. (귀무 가설 기각)\")\n",
        "else:\n",
        "    print(\"두 그룹 간의 평균에는 통계적으로 유의미한 차이가 없습니다. (귀무 가설 채택)\")\n"
      ],
      "metadata": {
        "id": "iRdTBj7i4gts"
      },
      "execution_count": null,
      "outputs": []
    },
    {
      "cell_type": "code",
      "source": [
        "# 다운샘플링: normal_values에서 anomaly_values의 크기만큼 무작위로 선택\n",
        "downsampled_normal_values = np.random.choice(normal_values, size=len(anomaly_values), replace=False)\n",
        "\n",
        "z_stat_downsampled, p_value_downsampled = ztest(anomaly_values, downsampled_normal_values)\n",
        "\n",
        "print(f\"다운샘플링 후 Z-통계량: {z_stat_downsampled:.4f}\")\n",
        "print(f\"다운샘플링 후 P-값: {p_value_downsampled:.4f}\")\n",
        "\n",
        "if p_value_downsampled < 0.05:\n",
        "    print(\"두 그룹 간의 평균에는 통계적으로 유의미한 차이가 있습니다. (귀무 가설 기각)\")\n",
        "else:\n",
        "    print(\"두 그룹 간의 평균에는 통계적으로 유의미한 차이가 없습니다. (귀무 가설 채택)\")\n"
      ],
      "metadata": {
        "id": "a3CfuQV54ivY"
      },
      "execution_count": null,
      "outputs": []
    },
    {
      "cell_type": "code",
      "source": [
        "t_stat_downsampled, p_value_downsampled = ttest_ind(anomaly_values, downsampled_normal_values, equal_var=False)\n",
        "\n",
        "print(f\"다운샘플링 후 T-통계량: {t_stat_downsampled:.4f}\")\n",
        "print(f\"다운샘플링 후 P-값: {p_value_downsampled:.4f}\")\n",
        "\n",
        "if p_value_downsampled < 0.05:\n",
        "    print(\"두 그룹 간의 평균에는 통계적으로 유의미한 차이가 있습니다. (귀무 가설 기각)\")\n",
        "else:\n",
        "    print(\"두 그룹 간의 평균에는 통계적으로 유의미한 차이가 없습니다. (귀무 가설 채택)\")\n"
      ],
      "metadata": {
        "id": "Q36fVCiI4j2d"
      },
      "execution_count": null,
      "outputs": []
    },
    {
      "cell_type": "code",
      "source": [
        "def cohen_d(group1, group2):\n",
        "    # 두 그룹의 평균 차이\n",
        "    diff = np.mean(group1) - np.mean(group2)\n",
        "\n",
        "    # 풀 표준 편차 계산\n",
        "    n1, n2 = len(group1), len(group2)\n",
        "    var1, var2 = np.var(group1, ddof=1), np.var(group2, ddof=1)\n",
        "    pooled_var = ((n1 - 1) * var1 + (n2 - 1) * var2) / (n1 + n2 - 2)\n",
        "    pooled_std = np.sqrt(pooled_var)\n",
        "\n",
        "    # Cohen's d 계산\n",
        "    d = diff / pooled_std\n",
        "    return d\n",
        "\n",
        "d_orig = cohen_d(anomaly_values, normal_values)\n",
        "\n",
        "print(f\"Cohen's d : {d_orig:.6f}\")\n"
      ],
      "metadata": {
        "id": "g0RyniO54j7h"
      },
      "execution_count": null,
      "outputs": []
    },
    {
      "cell_type": "markdown",
      "source": [
        "### FFT를 적용하여 재 검증"
      ],
      "metadata": {
        "id": "ClwuRchF4ozk"
      }
    },
    {
      "cell_type": "code",
      "source": [
        "import numpy as np\n",
        "import plotly.graph_objects as go\n",
        "\n",
        "# 주어진 데이터에 대한 FFT 수행\n",
        "frequencies = np.fft.fftfreq(len(main_test['VALUE']))  # 주파수 값을 계산\n",
        "fft_values = np.fft.fft(main_test['VALUE'])  # FFT 수행\n",
        "magnitudes = np.abs(fft_values)  # 주파수 성분의 크기 계산\n",
        "\n",
        "# 그래프를 그릴 때, 음의 주파수는 그리기 않습니다 (실제 데이터와 중복되므로).\n",
        "mask = frequencies > 0\n",
        "frequencies = frequencies[mask]\n",
        "magnitudes = magnitudes[mask]\n",
        "\n",
        "# 주파수 성분을 그래프로 표시\n",
        "fig = go.Figure()\n",
        "\n",
        "fig.add_trace(go.Scatter(x=frequencies, y=magnitudes, mode='lines', name='Magnitude'))\n",
        "\n",
        "fig.update_layout(title='FFT of the Time Series',\n",
        "                  xaxis_title='Frequency',\n",
        "                  yaxis_title='Magnitude')\n",
        "\n",
        "fig.show()\n"
      ],
      "metadata": {
        "id": "-yRpNS4L4uvc"
      },
      "execution_count": null,
      "outputs": []
    },
    {
      "cell_type": "code",
      "source": [
        "# 주어진 시계열 데이터의 FFT를 계산합니다.\n",
        "# FFT 결과의 크기를 계산하여 주파수 성분의 강도를 얻습니다.\n",
        "# 임의로 설정한 임계값을 사용하여 강도가 너무 큰 주파수 성분을 찾습니다.\n",
        "# 이러한 성분을 0으로 설정하여 제거합니다.\n",
        "# 역 Fourier 변환을 사용하여 필터링된 시계열 신호를 생성합니다.\n",
        "# 원래 신호와 필터링된 신호를 포함하는 두 개의 연결된 그래프를 생성합니다."
      ],
      "metadata": {
        "id": "b88g4g5q4wwE"
      },
      "execution_count": null,
      "outputs": []
    },
    {
      "cell_type": "code",
      "source": [
        "import plotly.graph_objects as go\n",
        "from plotly.subplots import make_subplots\n",
        "\n",
        "# 데이터의 FFT를 계산\n",
        "fft_values = np.fft.fft(main_test['VALUE'])\n",
        "magnitudes = np.abs(fft_values)\n",
        "\n",
        "# 임계값 설정\n",
        "threshold = 500  # 이 값은 데이터에 따라 조절해야 할 수 있습니다.\n",
        "\n",
        "# 임계값을 초과하는 주파수 성분의 마스크를 생성\n",
        "positive_freq_mask = magnitudes[:len(magnitudes)//2] > threshold\n",
        "full_mask = np.concatenate([positive_freq_mask, positive_freq_mask[::-1]])\n",
        "\n",
        "# 임계값을 초과하는 성분을 제거\n",
        "#fft_values[full_mask] = 0\n",
        "\n",
        "# 역 Fourier 변환을 사용하여 필터링된 신호를 얻습니다.\n",
        "filtered_signal = np.fft.ifft(fft_values)\n",
        "\n",
        "# 이상치 위치를 추출\n",
        "anomalies = main_test[main_test['anomaly'] == 1]\n",
        "\n",
        "# 서브플롯 생성\n",
        "fig = make_subplots(rows=2, cols=1, shared_xaxes=True)\n",
        "\n",
        "# 원래의 시계열 데이터 추가\n",
        "fig.add_trace(go.Scatter(x=main_test.index, y=main_test['VALUE'], mode='lines', name='Original Signal'), row=1, col=1)\n",
        "\n",
        "# 필터링된 데이터 추가\n",
        "fig.add_trace(go.Scatter(x=main_test.index, y=filtered_signal.real, mode='lines', name='Filtered Signal', line=dict(dash='dot')), row=2, col=1)\n",
        "\n",
        "# 이상치를 빨간색 마커로 추가 (원래의 데이터 그래프에)\n",
        "fig.add_trace(go.Scatter(x=anomalies.index, y=anomalies['VALUE'], mode='markers', marker=dict(size=10, color='red'), name='Anomalies'), row=1, col=1)\n",
        "\n",
        "# 이상치를 빨간색 마커로 추가 (필터링된 데이터 그래프에)\n",
        "fig.add_trace(go.Scatter(x=anomalies.index, y=filtered_signal.real[anomalies.index], mode='markers', marker=dict(size=10, color='red'), name='Filtered Anomalies'), row=2, col=1)\n",
        "\n",
        "# 그래프 출력\n",
        "fig.show()\n"
      ],
      "metadata": {
        "id": "pG-hpkRG4z7A"
      },
      "execution_count": null,
      "outputs": []
    },
    {
      "cell_type": "code",
      "source": [
        "# 이상치와 이상치가 아닌 부분의 값을 분리\n",
        "anomaly_fft_values = filtered_signal[main_test['anomaly'] == 1].real\n",
        "normal_fft_values = filtered_signal[main_test['anomaly'] == 0].real\n",
        "\n",
        "# Create a dataframe suitable for boxplot\n",
        "df_box = pd.DataFrame({'Anomaly': ['Yes'] * len(anomaly_fft_values) + ['No'] * len(normal_fft_values),\n",
        "                       'Value': anomaly_fft_values.tolist() + normal_fft_values.tolist()})\n",
        "\n",
        "# Plot the boxplot\n",
        "fig = px.box(df_box, x='Anomaly', y='Value', title='Comparison of FFT_Values for Anomalies and Normal Data')\n",
        "\n",
        "# Adjust width\n",
        "fig.update_layout(width=800)  # Adjust the number as needed\n",
        "\n",
        "fig.show()\n"
      ],
      "metadata": {
        "id": "MGs1pqMs41HJ"
      },
      "execution_count": null,
      "outputs": []
    },
    {
      "cell_type": "code",
      "source": [
        "# 통계를 계산\n",
        "anomaly_stats = {\n",
        "    'Mean': np.mean(anomaly_fft_values),\n",
        "    'Median': np.median(anomaly_fft_values),\n",
        "    'Standard Deviation': np.std(anomaly_fft_values)\n",
        "}\n",
        "\n",
        "non_anomaly_stats = {\n",
        "    'Mean': np.mean(normal_fft_values),\n",
        "    'Median': np.median(normal_fft_values),\n",
        "    'Standard Deviation': np.std(normal_fft_values)\n",
        "}\n",
        "\n",
        "# 결과 출력\n",
        "print(\"Anomaly FFT Values Statistics:\")\n",
        "for key, value in anomaly_stats.items():\n",
        "    print(f\"{key}: {value:.4f}\")\n",
        "\n",
        "print(\"\\nNon-Anomaly FFT Values Statistics:\")\n",
        "for key, value in non_anomaly_stats.items():\n",
        "    print(f\"{key}: {value:.4f}\")"
      ],
      "metadata": {
        "id": "klt2E5qc43IY"
      },
      "execution_count": null,
      "outputs": []
    },
    {
      "cell_type": "code",
      "source": [
        "t_stat, p_value = ttest_ind(anomaly_fft_values, normal_fft_values)\n",
        "\n",
        "print(\"\\n가설검정 결과:\")\n",
        "if p_value < 0.05:\n",
        "    print(f\"p-value: {p_value:.4f} - 두 그룹 간의 평균 차이는 통계적으로 유의미하다.\")\n",
        "else:\n",
        "    print(f\"p-value: {p_value:.4f} - 두 그룹 간의 평균 차이는 통계적으로 유의미하지 않다.\")\n"
      ],
      "metadata": {
        "id": "hUVEk1bY44IM"
      },
      "execution_count": null,
      "outputs": []
    },
    {
      "cell_type": "code",
      "source": [
        "d_orig = cohen_d(anomaly_fft_values, normal_fft_values)\n",
        "\n",
        "print(f\"Cohen's d : {d_orig:.6f}\")"
      ],
      "metadata": {
        "id": "osaw9l8X45F6"
      },
      "execution_count": null,
      "outputs": []
    },
    {
      "cell_type": "code",
      "source": [
        "# 결과\n",
        "# 파형에서 2번째 피크 부근의 이상지점과 정상지점을 비교한 결과 각 지점에 대한 미분계수(기울기)는 유의미한 차이 발견을 하지 못했다.\n",
        "# 하지만 평균의 측면에서 이상지점이 대체로 낮음을 확인할 수 있다.\n",
        "# 그리고 이 현상은 fft로 변환을 했을 때 더 두드러지게 나타났다.\n",
        "\n",
        "# 2번째 피크 부근의 평균값이 작으면 가중치를 부여?"
      ],
      "metadata": {
        "id": "Bsr37DL947Tx"
      },
      "execution_count": null,
      "outputs": []
    },
    {
      "cell_type": "markdown",
      "source": [
        "### 2번째 peak 부근에 가중치 적용"
      ],
      "metadata": {
        "id": "7qgcxscd5H4x"
      }
    },
    {
      "cell_type": "code",
      "source": [
        "import numpy as np\n",
        "import plotly.graph_objects as go\n",
        "from scipy.signal import find_peaks\n",
        "\n",
        "# FFT 변환 적용\n",
        "fft_values = np.fft.fft(main_test['VALUE']).real\n",
        "\n",
        "# 피크 찾기 (prominence와 height 값은 임의로 설정된 값이므로 실제 데이터에 따라 조정이 필요할 수 있습니다.)\n",
        "peaks, properties = find_peaks(main_test['VALUE'], prominence=4, height=5)\n",
        "\n",
        "# 서브플롯 생성\n",
        "fig = go.FigureWidget(make_subplots(rows=2, cols=1, shared_xaxes=True, subplot_titles=(\"Original Values\", \"FFT Values\")))\n",
        "\n",
        "# 원래의 데이터를 그리기\n",
        "fig.add_trace(go.Scatter(\n",
        "    y=main_test['VALUE'],\n",
        "    mode='lines',\n",
        "    name='Original Values'\n",
        "), row=1, col=1)\n",
        "\n",
        "# FFT 변환된 데이터를 그리기\n",
        "fig.add_trace(go.Scatter(\n",
        "    y=fft_values,\n",
        "    mode='lines',\n",
        "    name='FFT Values'\n",
        "), row=2, col=1)\n",
        "\n",
        "# 모든 감지된 피크를 원래의 데이터 위에 표시하기\n",
        "fig.add_trace(go.Scatter(\n",
        "    x=peaks,\n",
        "    y=[main_test['VALUE'].iloc[j] for j in peaks],\n",
        "    mode='markers',\n",
        "    marker=dict(\n",
        "        size=8,\n",
        "        color='red'\n",
        "    ),\n",
        "    name='Peaks'\n",
        "), row=1, col=1)\n",
        "\n",
        "# 레이아웃 설정\n",
        "fig.update_layout(height=600, width=1500)\n",
        "\n",
        "fig.show()\n"
      ],
      "metadata": {
        "id": "gHtE-7VS5Key"
      },
      "execution_count": null,
      "outputs": []
    },
    {
      "cell_type": "code",
      "source": [
        "# Import the libraries\n",
        "import scipy.signal as signal\n",
        "\n",
        "# Find the peaks and properties of the Value column\n",
        "peaks_bad, properties_bad = signal.find_peaks(avg_08_07['VALUE'], prominence=4, height=5)\n",
        "\n",
        "# Initialize an empty dictionary to store the wave dataframes\n",
        "bad_sample = {}\n",
        "\n",
        "# Loop through each peak index\n",
        "for i in range(len(peaks_bad)):\n",
        "    # Get the start and end index of the wave\n",
        "    start = max(0, peaks_bad[i] - 6) # make sure the start index is not negative\n",
        "    end = min(len(avg_08_07), peaks_abnormal[i] + 7) # make sure the end index is not out of bounds\n",
        "    # Slice the dataframe using the start and end index\n",
        "    wave_df = avg_08_07.iloc[start:end]\n",
        "    # Create a key for the wave dataframe using the peak index\n",
        "    key = \"wave\" + str(i+1)\n",
        "    # Add the wave dataframe to the dictionary with the key\n",
        "    bad_sample[key] = wave_df\n",
        "\n",
        "\n",
        "# Find the peaks and properties of the Value column in the sample dataframe\n",
        "peaks_good, properties_good = signal.find_peaks(sample['VALUE'], prominence=4, height=5)\n",
        "\n",
        "# Initialize an empty dictionary to store the wave dataframes in the sample dataframe\n",
        "good_sample = {}\n",
        "\n",
        "# Loop through each peak index in the sample dataframe\n",
        "for i in range(len(peaks_good)):\n",
        "    # Get the start and end index of the wave\n",
        "    start = max(0, peaks_good[i] - 6) # make sure the start index is not negative\n",
        "    end = min(len(sample), peaks_good[i] + 7) # make sure the end index is not out of bounds\n",
        "    # Slice the dataframe using the start and end index\n",
        "    wave_df = sample.iloc[start:end]\n",
        "    # Create a key for the wave dataframe using the peak index\n",
        "    key = \"sample_wave\" + str(i+1)\n",
        "    # Add the wave dataframe to the dictionary with the key\n",
        "    good_sample[key] = wave_df\n",
        "\n",
        "\n",
        "\n",
        "# Extract all the dataframes from wave_dict_sample and wave_dict\n",
        "good_frames = [good_sample[key] for key in sorted(good_sample.keys())]\n",
        "bad_frames = [bad_sample[key] for key in sorted(bad_sample.keys())]\n",
        "\n",
        "# Set the anomaly column\n",
        "for frame in good_frames:\n",
        "    frame['anomaly'] = 0\n",
        "\n",
        "for frame in bad_frames:\n",
        "    frame['anomaly'] = 1\n",
        "\n",
        "# Get a list of all possible insertion points for anomaly data in the sample dataframe\n",
        "insertion_points = [i for i in range(1, len(good_frames))]\n",
        "\n",
        "# Randomly select from these positions for each anomaly dataframe\n",
        "random_insertion_points = random.sample(insertion_points, len(bad_frames))\n",
        "\n",
        "# Sort the selected positions to maintain time order\n",
        "random_insertion_points.sort()\n",
        "\n",
        "# Weave together the anomaly data and the sample data at the selected positions\n",
        "frames = []\n",
        "for i in range(len(good_frames)):\n",
        "    frames.append(good_frames[i])\n",
        "    if i in random_insertion_points:\n",
        "        frames.append(bad_frames.pop(0))\n",
        "\n",
        "# If there's any anomaly data left, add it to the end\n",
        "if bad_frames:\n",
        "    frames.extend(bad_frames)\n",
        "\n",
        "# Concatenate all the frames to create the result dataframe\n",
        "com_df = pd.concat(frames, ignore_index=True)\n",
        "\n",
        "print(com_df)\n",
        "\n",
        "real_test = com_df[['VALUE', 'anomaly']]"
      ],
      "metadata": {
        "id": "hr91n0ZI5NZG"
      },
      "execution_count": null,
      "outputs": []
    },
    {
      "cell_type": "code",
      "source": [
        "def weighted_anomaly_peak(data, threshold, weight=1.3):\n",
        "    # Make a copy of the data to avoid modifying the original\n",
        "    weighted_data = data.copy()\n",
        "\n",
        "    # Find all peak points\n",
        "    peaks, properties = find_peaks(weighted_data, prominence=4, height=5)\n",
        "\n",
        "    for peak in peaks:\n",
        "        # Calculate the mean value around each peak (2 points on either side)\n",
        "        values_around_peak = weighted_data[max(0, peak-2):min(len(weighted_data), peak+3)]\n",
        "        mean_value = np.mean(values_around_peak)\n",
        "\n",
        "        print(f\"Peak at index {peak}, Mean value: {mean_value}\")  # Debugging line\n",
        "\n",
        "        # If this mean value is below the threshold, apply the weight\n",
        "        if mean_value < threshold:\n",
        "            print(f\"Applying weight at index {peak}\")  # Debugging line\n",
        "            weighted_data[max(0, peak-2):min(len(weighted_data), peak+3)] *= weight\n",
        "\n",
        "    return weighted_data\n"
      ],
      "metadata": {
        "id": "emLlbzIB5Ob_"
      },
      "execution_count": null,
      "outputs": []
    },
    {
      "cell_type": "code",
      "source": [
        "# 임계값 설정 (실제 데이터에 따라 조정이 필요합니다)\n",
        "threshold_value = 7.6\n",
        "\n",
        "# 원본 데이터에서 이상한 2번째 피크 주변에 가중치 적용\n",
        "weighted_values = weighted_anomaly_peak(real_test['VALUE'], threshold_value)\n",
        "\n",
        "# 이 값을 다시 main_test 데이터프레임에 추가 (예: 'WEIGHTED' 열로)\n",
        "real_test['WEIGHTED'] = weighted_values"
      ],
      "metadata": {
        "id": "q9koyV0m5RRg"
      },
      "execution_count": null,
      "outputs": []
    },
    {
      "cell_type": "markdown",
      "source": [
        "### 피크 기준으로 새로운 패턴 만들기"
      ],
      "metadata": {
        "id": "UXLgSl7Y5l9Y"
      }
    },
    {
      "cell_type": "code",
      "source": [
        "# Import the libraries\n",
        "import scipy.signal as signal\n",
        "\n",
        "# Find the peaks and properties of the Value column\n",
        "peaks_abnormal, properties_abnormal = signal.find_peaks(avg_08_07['VALUE'], prominence=4, height=5)\n",
        "\n",
        "# Initialize an empty dictionary to store the wave dataframes\n",
        "abnormal_sample = {}\n",
        "\n",
        "# Loop through each peak index\n",
        "for i in range(len(peaks_abnormal)):\n",
        "    # Get the start and end index of the wave\n",
        "    start = max(0, peaks_abnormal[i] - 7) # make sure the start index is not negative\n",
        "    end = min(len(avg_08_07), peaks_abnormal[i] + 8) # make sure the end index is not out of bounds\n",
        "    # Slice the dataframe using the start and end index\n",
        "    wave_df = avg_08_07.iloc[start:end]\n",
        "    # Create a key for the wave dataframe using the peak index\n",
        "    key = \"wave\" + str(i+1)\n",
        "    # Add the wave dataframe to the dictionary with the key\n",
        "    abnormal_sample[key] = wave_df\n",
        "\n",
        "# Import the libraries\n",
        "import scipy.signal as signal\n",
        "import numpy as np\n",
        "\n",
        "# Find the peaks and properties of the Value column in the sample dataframe\n",
        "peaks_normal, properties_normal = signal.find_peaks(sample['VALUE'], prominence=4, height=5)\n",
        "\n",
        "# Initialize an empty dictionary to store the wave dataframes in the sample dataframe\n",
        "normal_sample = {}\n",
        "\n",
        "# Loop through each peak index in the sample dataframe\n",
        "for i in range(len(peaks_normal)):\n",
        "    # Get the start and end index of the wave\n",
        "    start = max(0, peaks_normal[i] - 7) # make sure the start index is not negative\n",
        "    end = min(len(sample), peaks_normal[i] + 8) # make sure the end index is not out of bounds\n",
        "    # Slice the dataframe using the start and end index\n",
        "    wave_df = sample.iloc[start:end]\n",
        "    # Create a key for the wave dataframe using the peak index\n",
        "    key = \"sample_wave\" + str(i+1)\n",
        "    # Add the wave dataframe to the dictionary with the key\n",
        "    normal_sample[key] = wave_df\n",
        "\n",
        "\n",
        "import pandas as pd\n",
        "import random\n",
        "\n",
        "# Assuming wave_dict and wave_dict_sample are defined as in your previous examples...\n",
        "\n",
        "# Extract all the dataframes from wave_dict_sample and wave_dict\n",
        "normal_frames = [normal_sample[key] for key in sorted(normal_sample.keys())]\n",
        "anomaly_frames = [abnormal_sample[key] for key in sorted(abnormal_sample.keys())]\n",
        "\n",
        "# Set the anomaly column\n",
        "for frame in normal_frames:\n",
        "    frame['anomaly'] = 0\n",
        "\n",
        "for frame in anomaly_frames:\n",
        "    frame['anomaly'] = 1\n",
        "\n",
        "# Get a list of all possible insertion points for anomaly data in the sample dataframe\n",
        "insertion_points = [i for i in range(1, len(normal_frames))]\n",
        "\n",
        "# Randomly select from these positions for each anomaly dataframe\n",
        "random_insertion_points = random.sample(insertion_points, len(anomaly_frames))\n",
        "\n",
        "# Sort the selected positions to maintain time order\n",
        "random_insertion_points.sort()\n",
        "\n",
        "# Weave together the anomaly data and the sample data at the selected positions\n",
        "combined_frames = []\n",
        "for i in range(len(normal_frames)):\n",
        "    combined_frames.append(normal_frames[i])\n",
        "    if i in random_insertion_points:\n",
        "        combined_frames.append(anomaly_frames.pop(0))\n",
        "\n",
        "# If there's any anomaly data left, add it to the end\n",
        "if anomaly_frames:\n",
        "    combined_frames.extend(anomaly_frames)\n",
        "\n",
        "# Concatenate all the frames to create the result dataframe\n",
        "co_df = pd.concat(combined_frames, ignore_index=True)\n",
        "\n",
        "print(co_df)\n",
        "\n",
        "\n",
        "test = co_df[['VALUE', 'anomaly']]"
      ],
      "metadata": {
        "id": "aapVboPY5tIu"
      },
      "execution_count": null,
      "outputs": []
    },
    {
      "cell_type": "code",
      "source": [
        "\n",
        "# Find the peaks\n",
        "peaks, properties = find_peaks(test['VALUE'], prominence=1, height=5.5)  # Adjust these values as needed\n",
        "\n",
        "# Create the figure\n",
        "fig = go.Figure()\n",
        "\n",
        "# Add the original data\n",
        "fig.add_trace(\n",
        "    go.Scatter(\n",
        "        y=test['VALUE'],\n",
        "        mode='lines',\n",
        "        name='Original Values'\n",
        "    )\n",
        ")\n",
        "\n",
        "# Add the peaks\n",
        "fig.add_trace(\n",
        "    go.Scatter(\n",
        "        x=peaks,\n",
        "        y=[test['VALUE'].iloc[j] for j in peaks],\n",
        "        mode='markers',\n",
        "        marker=dict(\n",
        "            size=8,\n",
        "            color='red'\n",
        "        ),\n",
        "        name='Peaks'\n",
        "    )\n",
        ")\n",
        "\n",
        "# Show the figure\n",
        "fig.show()"
      ],
      "metadata": {
        "id": "v-gAJmHR5u5b"
      },
      "execution_count": null,
      "outputs": []
    },
    {
      "cell_type": "code",
      "source": [
        "import numpy as np\n",
        "import plotly.graph_objects as go\n",
        "from scipy.signal import find_peaks\n",
        "\n",
        "# Find major peaks (with high prominence)\n",
        "main_peaks, _ = find_peaks(test['VALUE'], prominence=4, height=5)\n",
        "\n",
        "# Find all other peaks (with low prominence)\n",
        "all_peaks, _ = find_peaks(test['VALUE'], prominence=0.5, height=5.5)\n",
        "\n",
        "# Create the graph\n",
        "fig = go.Figure()\n",
        "\n",
        "# Show original value\n",
        "fig.add_trace(go.Scatter(y=test['VALUE'], mode='lines', name='Original Values'))\n",
        "\n",
        "for i in range(len(main_peaks)):\n",
        "    peak = main_peaks[i]\n",
        "\n",
        "    # 피크 사이에 5개 이상의 값 간격이 있는 경우 이를 주기의 경계로 처리\n",
        "    lower_bound = peak - 5 if i == 0 else (peak + main_peaks[i-1]) // 2\n",
        "    upper_bound = peak + 5 if i == len(main_peaks) - 1 else (peak + main_peaks[i+1]) // 2\n",
        "\n",
        "    # Get peaks within the boundary\n",
        "    peaks_within_boundary = all_peaks[(all_peaks > lower_bound) & (all_peaks < upper_bound)]\n",
        "\n",
        "    # Find peaks before and after the current main peak within the boundary\n",
        "    before_peaks = peaks_within_boundary[peaks_within_boundary < peak]\n",
        "    after_peaks = peaks_within_boundary[peaks_within_boundary > peak]\n",
        "\n",
        "    # If there are two or fewer peaks in this cycle, skip it\n",
        "    if len(peaks_within_boundary) <= 2:\n",
        "        continue\n",
        "\n",
        "    if len(before_peaks) > 0 and len(after_peaks) > 0:\n",
        "        before_peak = before_peaks[-1]\n",
        "        after_peak = after_peaks[0]\n",
        "\n",
        "        fig.add_trace(go.Scatter(x=[before_peak, peak, after_peak],\n",
        "                                 y=test['VALUE'].iloc[[before_peak, peak, after_peak]].values,\n",
        "                                 mode='lines+markers',\n",
        "                                 marker=dict(size=6, color='blue'),\n",
        "                                 line=dict(color='red'),\n",
        "                                 name=f'Peak connection: {peak}'))\n",
        "\n",
        "# Display intervals with an anomaly of 1\n",
        "anomaly_indices = test.index[test['anomaly'] == 1].tolist()\n",
        "\n",
        "for idx in anomaly_indices:\n",
        "    fig.add_shape(\n",
        "        go.layout.Shape(\n",
        "            type=\"rect\",\n",
        "            x0=idx,\n",
        "            x1=idx + 1,\n",
        "            y0=min(test['VALUE']),\n",
        "            y1=max(test['VALUE']),\n",
        "            fillcolor=\"red\",\n",
        "            opacity=0.3,\n",
        "            layer=\"below\",\n",
        "            line_width=0,\n",
        "        )\n",
        "    )\n",
        "\n",
        "fig.show()\n"
      ],
      "metadata": {
        "id": "4g8DxIGg5v5Z"
      },
      "execution_count": null,
      "outputs": []
    },
    {
      "cell_type": "code",
      "source": [
        "import pandas as pd\n",
        "import numpy as np\n",
        "from scipy.signal import find_peaks\n",
        "\n",
        "# Find main peaks with high prominence\n",
        "main_peaks, _ = find_peaks(test['VALUE'], prominence=4, height=5)\n",
        "\n",
        "# Find all peaks with lower prominence\n",
        "all_peaks, _ = find_peaks(test['VALUE'], prominence=0.5, height=5.5)\n",
        "\n",
        "# Initialize new columns\n",
        "test['diff_1_2'] = np.nan\n",
        "test['diff_2_3'] = np.nan\n",
        "\n",
        "for peak in main_peaks:\n",
        "\n",
        "    # Check for peaks before and after the main peak\n",
        "    before_indices = np.where(all_peaks < peak)[0]\n",
        "    after_indices = np.where(all_peaks > peak)[0]\n",
        "\n",
        "    # If there are no peaks before or after, skip to next iteration\n",
        "    if len(before_indices) == 0 or len(after_indices) == 0:\n",
        "        continue\n",
        "\n",
        "    # Get the last peak before the main peak\n",
        "    before_peak = all_peaks[before_indices[-1]]\n",
        "\n",
        "    # Get the next peak after the main peak\n",
        "    after_peak = all_peaks[after_indices[0]]\n",
        "\n",
        "    # Calculate the slope (기울기 계산)\n",
        "    slope_1_2 = (test['VALUE'].iloc[peak] - test['VALUE'].iloc[before_peak]) / (peak - before_peak)\n",
        "    slope_2_3 = (test['VALUE'].iloc[after_peak] - test['VALUE'].iloc[peak]) / (after_peak - peak)\n",
        "\n",
        "    # Assign to the new columns\n",
        "    test.loc[peak, 'diff_1_2'] = slope_1_2\n",
        "    test.loc[peak, 'diff_2_3'] = slope_2_3\n",
        "\n",
        "print(test)\n"
      ],
      "metadata": {
        "id": "m--jBP3n5xDD"
      },
      "execution_count": null,
      "outputs": []
    },
    {
      "cell_type": "code",
      "source": [
        "# Plotly Visualization\n",
        "fig = make_subplots(rows=2, cols=1, subplot_titles=(\"Difference between 1st and 2nd peaks\", \"Difference between 2nd and 3rd peaks\"))\n",
        "\n",
        "# Box plot for diff_1_2\n",
        "fig.add_trace(go.Box(y=test[test['anomaly']==0]['diff_1_2'].dropna(), name='Anomaly 0', boxpoints='all', jitter=0.3, pointpos=-1.8), row=1, col=1)\n",
        "fig.add_trace(go.Box(y=test[test['anomaly']==1]['diff_1_2'].dropna(), name='Anomaly 1', boxpoints='all', jitter=0.3, pointpos=-1.8), row=1, col=1)\n",
        "\n",
        "# Box plot for diff_2_3\n",
        "fig.add_trace(go.Box(y=test[test['anomaly']==0]['diff_2_3'].dropna(), name='Anomaly 0', boxpoints='all', jitter=0.3, pointpos=-1.8), row=2, col=1)\n",
        "fig.add_trace(go.Box(y=test[test['anomaly']==1]['diff_2_3'].dropna(), name='Anomaly 1', boxpoints='all', jitter=0.3, pointpos=-1.8), row=2, col=1)\n",
        "\n",
        "# Update layout\n",
        "fig.update_layout(title_text=\"Differences in Peaks with respect to Anomalies\", showlegend=False, height=1000, width=1200)\n",
        "\n",
        "fig.show()"
      ],
      "metadata": {
        "id": "6hrm4yYr5x-c"
      },
      "execution_count": null,
      "outputs": []
    },
    {
      "cell_type": "code",
      "source": [
        "import pandas as pd\n",
        "import numpy as np\n",
        "from statsmodels.stats.weightstats import ztest\n",
        "from scipy.signal import find_peaks\n",
        "\n",
        "# 각 이상 값에 대한 차이 추출\n",
        "diff_1_2_anomaly_0 = test[test['anomaly'] == 0]['diff_1_2'].dropna()\n",
        "diff_1_2_anomaly_1 = test[test['anomaly'] == 1]['diff_1_2'].dropna()\n",
        "\n",
        "diff_2_3_anomaly_0 = test[test['anomaly'] == 0]['diff_2_3'].dropna()\n",
        "diff_2_3_anomaly_1 = test[test['anomaly'] == 1]['diff_2_3'].dropna()\n",
        "\n",
        "# t-검정 수행\n",
        "t_stat_1_2, p_val_1_2 = ztest(diff_1_2_anomaly_0, diff_1_2_anomaly_1)\n",
        "t_stat_2_3, p_val_2_3 = ztest(diff_2_3_anomaly_0, diff_2_3_anomaly_1)\n",
        "\n",
        "print(f\"1번과 2번 피크 사이의 차이: Z-Stat = {t_stat_1_2}, P-값 = {p_val_1_2}\")\n",
        "print(f\"2번과 3번 피크 사이의 차이: Z-Stat = {t_stat_2_3}, P-값 = {p_val_2_3}\")\n",
        "\n",
        "# 해석\n",
        "alpha = 0.05\n",
        "if p_val_1_2 < alpha:\n",
        "    print(\"1번과 2번 피크 사이의 평균 값 차이는 통계적으로 유의하다.\")\n",
        "else:\n",
        "    print(\"1번과 2번 피크 사이의 평균 값 차이는 통계적으로 유의하지 않다.\")\n",
        "\n",
        "if p_val_2_3 < alpha:\n",
        "    print(\"2번과 3번 피크 사이의 평균 값 차이는 통계적으로 유의하다.\")\n",
        "else:\n",
        "    print(\"2번과 3번 피크 사이의 평균 값 차이는 통계적으로 유의하지 않다.\")\n"
      ],
      "metadata": {
        "id": "xkfS3FHs5yto"
      },
      "execution_count": null,
      "outputs": []
    },
    {
      "cell_type": "code",
      "source": [
        "import pandas as pd\n",
        "import numpy as np\n",
        "from statsmodels.stats.weightstats import ztest\n",
        "from scipy.signal import find_peaks\n",
        "\n",
        "# 각 이상치의 차이 추출\n",
        "anomaly_0 = test[test['anomaly'] == 0]\n",
        "anomaly_1 = test[test['anomaly'] == 1]\n",
        "\n",
        "# 다수 클래스 다운샘플링\n",
        "anomaly_0_downsampled = anomaly_0.sample(n=len(anomaly_1), random_state=42)\n",
        "\n",
        "# 다운샘플링된 다수 클래스와 소수 클래스 결합\n",
        "test_balanced = pd.concat([anomaly_0_downsampled, anomaly_1])\n",
        "\n",
        "diff_1_2_anomaly_0 = test_balanced[test_balanced['anomaly'] == 0]['diff_1_2'].dropna()\n",
        "diff_1_2_anomaly_1 = test_balanced[test_balanced['anomaly'] == 1]['diff_1_2'].dropna()\n",
        "\n",
        "diff_2_3_anomaly_0 = test_balanced[test_balanced['anomaly'] == 0]['diff_2_3'].dropna()\n",
        "diff_2_3_anomaly_1 = test_balanced[test_balanced['anomaly'] == 1]['diff_2_3'].dropna()\n",
        "\n",
        "# Z-검정 실행\n",
        "z_stat_1_2, p_val_1_2 = ztest(diff_1_2_anomaly_0, diff_1_2_anomaly_1)\n",
        "z_stat_2_3, p_val_2_3 = ztest(diff_2_3_anomaly_0, diff_2_3_anomaly_1)\n",
        "\n",
        "print(f\"1번과 2번 피크 사이의 차이: Z-통계량 = {z_stat_1_2}, P-값 = {p_val_1_2}\")\n",
        "print(f\"2번과 3번 피크 사이의 차이: Z-통계량 = {z_stat_2_3}, P-값 = {p_val_2_3}\")\n",
        "\n",
        "alpha = 0.05\n",
        "if p_val_1_2 < alpha:\n",
        "    print(\"1번과 2번 피크 사이의 평균값 차이는 통계적으로 유의미하다.\")\n",
        "else:\n",
        "    print(\"1번과 2번 피크 사이의 평균값 차이는 통계적으로 유의미하지 않다.\")\n",
        "\n",
        "if p_val_2_3 < alpha:\n",
        "    print(\"2번과 3번 피크 사이의 평균값 차이는 통계적으로 유의미하다.\")\n",
        "else:\n",
        "    print(\"2번과 3번 피크 사이의 평균값 차이는 통계적으로 유의미하지 않다.\")\n"
      ],
      "metadata": {
        "id": "lJwG8dy85zpl"
      },
      "execution_count": null,
      "outputs": []
    },
    {
      "cell_type": "code",
      "source": [
        "import pandas as pd\n",
        "import numpy as np\n",
        "from scipy.stats import ttest_ind\n",
        "from scipy.signal import find_peaks\n",
        "\n",
        "# 각 이상치의 차이 추출\n",
        "anomaly_0 = test[test['anomaly'] == 0]\n",
        "anomaly_1 = test[test['anomaly'] == 1]\n",
        "\n",
        "# 다수 클래스 다운샘플링\n",
        "anomaly_0_downsampled = anomaly_0.sample(n=len(anomaly_1), random_state=42)\n",
        "\n",
        "# 다운샘플링된 다수 클래스와 소수 클래스 결합\n",
        "test_balanced = pd.concat([anomaly_0_downsampled, anomaly_1])\n",
        "\n",
        "diff_1_2_anomaly_0 = test_balanced[test_balanced['anomaly'] == 0]['diff_1_2'].dropna()\n",
        "diff_1_2_anomaly_1 = test_balanced[test_balanced['anomaly'] == 1]['diff_1_2'].dropna()\n",
        "\n",
        "diff_2_3_anomaly_0 = test_balanced[test_balanced['anomaly'] == 0]['diff_2_3'].dropna()\n",
        "diff_2_3_anomaly_1 = test_balanced[test_balanced['anomaly'] == 1]['diff_2_3'].dropna()\n",
        "\n",
        "# T-검정 실행\n",
        "t_stat_1_2, p_val_1_2 = ttest_ind(diff_1_2_anomaly_0, diff_1_2_anomaly_1, equal_var=False)\n",
        "t_stat_2_3, p_val_2_3 = ttest_ind(diff_2_3_anomaly_0, diff_2_3_anomaly_1, equal_var=False)\n",
        "\n",
        "print(f\"1번과 2번 피크 사이의 차이: T-통계량 = {t_stat_1_2}, P-값 = {p_val_1_2}\")\n",
        "print(f\"2번과 3번 피크 사이의 차이: T-통계량 = {t_stat_2_3}, P-값 = {p_val_2_3}\")\n",
        "\n",
        "alpha = 0.05\n",
        "if p_val_1_2 < alpha:\n",
        "    print(\"1번과 2번 피크 사이의 평균값 차이는 통계적으로 유의미하다.\")\n",
        "else:\n",
        "    print(\"1번과 2번 피크 사이의 평균값 차이는 통계적으로 유의미하지 않다.\")\n",
        "\n",
        "if p_val_2_3 < alpha:\n",
        "    print(\"2번과 3번 피크 사이의 평균값 차이는 통계적으로 유의미하다.\")\n",
        "else:\n",
        "    print(\"2번과 3번 피크 사이의 평균값 차이는 통계적으로 유의미하지 않다.\")\n"
      ],
      "metadata": {
        "id": "5d2Qj9YD51Gu"
      },
      "execution_count": null,
      "outputs": []
    },
    {
      "cell_type": "markdown",
      "source": [
        "### Peak 기준 검정 분석"
      ],
      "metadata": {
        "id": "v4m_hLxh53m0"
      }
    },
    {
      "cell_type": "code",
      "source": [
        "from scipy.signal import find_peaks\n",
        "import plotly.graph_objects as go\n",
        "# Find main peaks in the 'VALUE' column\n",
        "main_peaks, _ = find_peaks(test['VALUE'], prominence=4, height=5)\n",
        "\n",
        "# Get the 'VALUE' values and 'anomaly' labels at these peak indices\n",
        "peak_values = test.iloc[main_peaks]['VALUE'].values\n",
        "peak_anomalies = test.iloc[main_peaks]['anomaly'].values\n",
        "\n",
        "# Separate the peak values based on the 'anomaly' label\n",
        "values_normal = [val for val, anom in zip(peak_values, peak_anomalies) if anom == 0]\n",
        "values_anomaly = [val for val, anom in zip(peak_values, peak_anomalies) if anom == 1]\n",
        "\n",
        "# Visualization using Plotly with go.Box\n",
        "fig = go.Figure()\n",
        "\n",
        "fig.add_trace(go.Box(y=values_normal, name='Normal', boxpoints='all', jitter=0.3, pointpos=-1.8))\n",
        "fig.add_trace(go.Box(y=values_anomaly, name='Anomaly', boxpoints='all', jitter=0.3, pointpos=-1.8))\n",
        "\n",
        "fig.update_layout(title='Distribution of VALUE at Peaks Based on Anomaly Label',\n",
        "                  yaxis_title='VALUE')\n",
        "\n",
        "fig.show()"
      ],
      "metadata": {
        "id": "AGppowfo56ok"
      },
      "execution_count": null,
      "outputs": []
    },
    {
      "cell_type": "code",
      "source": [
        "from scipy.stats import ttest_ind, mannwhitneyu\n",
        "\n",
        "# T-검정\n",
        "t_stat, t_p_value = ttest_ind(values_normal, values_anomaly, equal_var=False)\n",
        "print(f\"T-검정 결과:\\nT-통계량: {t_stat}\\nP-value: {t_p_value}\")\n",
        "\n",
        "# Mann-Whitney U 검정\n",
        "mw_stat, mw_p_value = mannwhitneyu(values_normal, values_anomaly, alternative='two-sided')\n",
        "print(f\"\\nMann-Whitney U 검정 결과:\\nU-통계량: {mw_stat}\\nP-value: {mw_p_value}\")\n",
        "\n",
        "# 결과 해석\n",
        "alpha = 0.05\n",
        "if t_p_value < alpha:\n",
        "    print(\"\\n두 그룹의 평균은 통계적으로 다릅니다 (T-검정).\")\n",
        "else:\n",
        "    print(\"\\n두 그룹의 평균은 통계적으로 다르지 않습니다 (T-검정).\")\n",
        "\n",
        "if mw_p_value < alpha:\n",
        "    print(\"두 그룹의 분포는 통계적으로 다릅니다 (Mann-Whitney U 검정).\")\n",
        "else:\n",
        "    print(\"두 그룹의 분포는 통계적으로 다르지 않습니다 (Mann-Whitney U 검정).\")"
      ],
      "metadata": {
        "id": "EocxCZ-259Om"
      },
      "execution_count": null,
      "outputs": []
    },
    {
      "cell_type": "code",
      "source": [
        "# Z-검정\n",
        "z_stat, z_p_value = ztest(values_normal, values_anomaly)\n",
        "print(f\"Z-검정 결과:\\nZ-통계량: {z_stat}\\nP-값: {z_p_value}\")"
      ],
      "metadata": {
        "id": "3BQjcEAO5-Kp"
      },
      "execution_count": null,
      "outputs": []
    },
    {
      "cell_type": "code",
      "source": [
        "# 다운샘플링: values_normal에서 values_anomaly의 크기만큼 무작위로 선택\n",
        "downsampled_values_normal = np.random.choice(values_normal, size=len(values_anomaly), replace=False)\n",
        "\n",
        "# Z-검정\n",
        "z_stat, z_p_value = ztest(downsampled_values_normal, values_anomaly)\n",
        "print(f\"Z-검정 결과:\\nZ-통계량: {z_stat}\\nP-값: {z_p_value}\")"
      ],
      "metadata": {
        "id": "IcHVrYCQ5_GE"
      },
      "execution_count": null,
      "outputs": []
    },
    {
      "cell_type": "code",
      "source": [
        "import numpy as np\n",
        "from scipy.stats import ttest_ind\n",
        "\n",
        "# T-검정\n",
        "t_stat, t_p_value = ttest_ind(downsampled_values_normal, values_anomaly, equal_var=False)\n",
        "print(f\"T-검정 결과:\\nT-통계량: {t_stat}\\nP-값: {t_p_value}\")\n"
      ],
      "metadata": {
        "id": "Fr-Y0gyK6ADF"
      },
      "execution_count": null,
      "outputs": []
    },
    {
      "cell_type": "code",
      "source": [
        "d_orig = cohen_d(values_anomaly, values_normal)\n",
        "\n",
        "print(f\"Cohen's d : {d_orig:.6f}\")"
      ],
      "metadata": {
        "id": "XzsPC3mt6BL3"
      },
      "execution_count": null,
      "outputs": []
    },
    {
      "cell_type": "code",
      "source": [
        "# Import the libraries\n",
        "import scipy.signal as signal\n",
        "\n",
        "# Find the peaks and properties of the Value column\n",
        "peaks_abnormal, properties_abnormal = signal.find_peaks(avg_08_07['VALUE'], prominence=4, height=5)\n",
        "\n",
        "# Initialize an empty dictionary to store the wave dataframes\n",
        "abnormal_sample = {}\n",
        "\n",
        "# Loop through each peak index\n",
        "for i in range(len(peaks_abnormal)):\n",
        "    # Get the start and end index of the wave\n",
        "    start = max(0, peaks_abnormal[i] - 1) # make sure the start index is not negative\n",
        "    end = min(len(avg_08_07), peaks_abnormal[i] + 2) # make sure the end index is not out of bounds\n",
        "    # Slice the dataframe using the start and end index\n",
        "    wave_df = avg_08_07.iloc[start:end]\n",
        "    # Create a key for the wave dataframe using the peak index\n",
        "    key = \"wave\" + str(i+1)\n",
        "    # Add the wave dataframe to the dictionary with the key\n",
        "    abnormal_sample[key] = wave_df\n",
        "\n",
        "# Find the peaks and properties of the Value column in the sample dataframe\n",
        "peaks_normal, properties_normal = signal.find_peaks(sample['VALUE'], prominence=4, height=5)\n",
        "\n",
        "# Initialize an empty dictionary to store the wave dataframes in the sample dataframe\n",
        "normal_sample = {}\n",
        "\n",
        "# Loop through each peak index in the sample dataframe\n",
        "for i in range(len(peaks_normal)):\n",
        "    # Get the start and end index of the wave\n",
        "    start = max(0, peaks_normal[i] - 1) # make sure the start index is not negative\n",
        "    end = min(len(sample), peaks_normal[i] + 2) # make sure the end index is not out of bounds\n",
        "    # Slice the dataframe using the start and end index\n",
        "    wave_df = sample.iloc[start:end]\n",
        "    # Create a key for the wave dataframe using the peak index\n",
        "    key = \"sample_wave\" + str(i+1)\n",
        "    # Add the wave dataframe to the dictionary with the key\n",
        "    normal_sample[key] = wave_df\n",
        "\n",
        "\n",
        "import pandas as pd\n",
        "import random\n",
        "\n",
        "# Assuming wave_dict and wave_dict_sample are defined as in your previous examples...\n",
        "\n",
        "# Extract all the dataframes from wave_dict_sample and wave_dict\n",
        "normal_frames = [normal_sample[key] for key in sorted(normal_sample.keys())]\n",
        "anomaly_frames = [abnormal_sample[key] for key in sorted(abnormal_sample.keys())]\n",
        "\n",
        "# Set the anomaly column\n",
        "for frame in normal_frames:\n",
        "    frame['anomaly'] = 0\n",
        "\n",
        "for frame in anomaly_frames:\n",
        "    frame['anomaly'] = 1\n",
        "\n",
        "# Get a list of all possible insertion points for anomaly data in the sample dataframe\n",
        "insertion_points = [i for i in range(1, len(normal_frames))]\n",
        "\n",
        "# Randomly select from these positions for each anomaly dataframe\n",
        "random_insertion_points = random.sample(insertion_points, len(anomaly_frames))\n",
        "\n",
        "# Sort the selected positions to maintain time order\n",
        "random_insertion_points.sort()\n",
        "\n",
        "# Weave together the anomaly data and the sample data at the selected positions\n",
        "combined_frames = []\n",
        "for i in range(len(normal_frames)):\n",
        "    combined_frames.append(normal_frames[i])\n",
        "    if i in random_insertion_points:\n",
        "        combined_frames.append(anomaly_frames.pop(0))\n",
        "\n",
        "# If there's any anomaly data left, add it to the end\n",
        "if anomaly_frames:\n",
        "    combined_frames.extend(anomaly_frames)\n",
        "\n",
        "# Concatenate all the frames to create the result dataframe\n",
        "check_df = pd.concat(combined_frames, ignore_index=True)\n",
        "\n",
        "print(check_df)"
      ],
      "metadata": {
        "id": "nRC7OpNk6MVt"
      },
      "execution_count": null,
      "outputs": []
    },
    {
      "cell_type": "code",
      "source": [
        "import pandas as pd\n",
        "import plotly.graph_objects as go\n",
        "\n",
        "values_0 = check_df[check_df['anomaly'] == 0]['VALUE']\n",
        "values_1 = check_df[check_df['anomaly'] == 1]['VALUE']\n",
        "\n",
        "# Create the box plots\n",
        "fig = go.Figure()\n",
        "fig.add_trace(go.Box(y=values_0, name='Anomaly 0'))\n",
        "fig.add_trace(go.Box(y=values_1, name='Anomaly 1'))\n",
        "\n",
        "fig.show()"
      ],
      "metadata": {
        "id": "TV7GADz26NS5"
      },
      "execution_count": null,
      "outputs": []
    },
    {
      "cell_type": "code",
      "source": [
        "from scipy.stats import ttest_ind, mannwhitneyu\n",
        "\n",
        "# T-검정\n",
        "t_stat, t_p_value = ttest_ind(values_0, values_1, equal_var=False)\n",
        "print(f\"T-검정 결과:\\nT-통계량: {t_stat}\\nP-value: {t_p_value}\")\n",
        "\n",
        "# Mann-Whitney U 검정\n",
        "mw_stat, mw_p_value = mannwhitneyu(values_0, values_1, alternative='two-sided')\n",
        "print(f\"\\nMann-Whitney U 검정 결과:\\nU-통계량: {mw_stat}\\nP-value: {mw_p_value}\")\n",
        "\n",
        "# 결과 해석\n",
        "alpha = 0.05\n",
        "if t_p_value < alpha:\n",
        "    print(\"\\n두 그룹의 평균은 통계적으로 다릅니다 (T-검정).\")\n",
        "else:\n",
        "    print(\"\\n두 그룹의 평균은 통계적으로 다르지 않습니다 (T-검정).\")\n",
        "\n",
        "if mw_p_value < alpha:\n",
        "    print(\"두 그룹의 분포는 통계적으로 다릅니다 (Mann-Whitney U 검정).\")\n",
        "else:\n",
        "    print(\"두 그룹의 분포는 통계적으로 다르지 않습니다 (Mann-Whitney U 검정).\")"
      ],
      "metadata": {
        "id": "86Ud9lp26OTq"
      },
      "execution_count": null,
      "outputs": []
    },
    {
      "cell_type": "markdown",
      "source": [
        "### Prominence,\tWidth_Height,\tWidth를 기준으로 관찰"
      ],
      "metadata": {
        "id": "Ggod0MIArA8v"
      }
    },
    {
      "cell_type": "code",
      "source": [
        "# Convert the 'Date' column to datetime\n",
        "avg_08_07['Date'] = pd.to_datetime(avg_08_07['Date'])\n",
        "\n",
        "# Find peaks with specific prominence and height\n",
        "peaks_normal, _ = signal.find_peaks(avg_08_07['VALUE'], prominence=4, height=5)\n",
        "\n",
        "# Get prominences\n",
        "prominences = signal.peak_prominences(avg_08_07['VALUE'], peaks_normal)[0]\n",
        "\n",
        "# Get width properties\n",
        "widths, width_heights, left_ips, right_ips = signal.peak_widths(avg_08_07['VALUE'], peaks_normal, rel_height=0.5)\n",
        "\n",
        "# Visualization using Plotly\n",
        "fig = go.Figure()\n",
        "\n",
        "# Plot the actual data\n",
        "fig.add_trace(go.Scatter(x=avg_08_07['Date'], y=avg_08_07['VALUE'], mode='lines', name='Value'))\n",
        "\n",
        "# Highlight the peaks\n",
        "fig.add_trace(go.Scatter(x=avg_08_07['Date'][peaks_normal], y=avg_08_07['VALUE'][peaks_normal], mode='markers', marker=dict(size=8, color='red'), name='Peak'))\n",
        "\n",
        "# Display prominences, widths, and heights\n",
        "for idx, (peak, prominence, width_height, width) in enumerate(zip(peaks_normal, prominences, width_heights, widths)):\n",
        "    fig.add_shape(\n",
        "        type=\"line\", x0=avg_08_07['Date'][peak], x1=avg_08_07['Date'][peak], y0=avg_08_07['VALUE'][peak], y1=avg_08_07['VALUE'][peak] - prominence,\n",
        "        line=dict(color=\"cyan\")\n",
        "    )\n",
        "    fig.add_shape(\n",
        "        type=\"line\", x0=avg_08_07['Date'][int(left_ips[idx])], x1=avg_08_07['Date'][int(right_ips[idx])], y0=width_height, y1=width_height,\n",
        "        line=dict(color=\"magenta\")\n",
        "    )\n",
        "\n",
        "fig.update_layout(title=\"avg_08_07 Time Series with Detected Peaks and their Properties\", xaxis_title=\"Date\", yaxis_title=\"Value\")\n",
        "fig.show()"
      ],
      "metadata": {
        "id": "3GbnoNtdq_hU"
      },
      "execution_count": null,
      "outputs": []
    },
    {
      "cell_type": "markdown",
      "source": [
        "![image.png](data:image/png;base64,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)"
      ],
      "metadata": {
        "id": "3B8sO93BsuwQ"
      }
    },
    {
      "cell_type": "code",
      "source": [
        "# Convert the 'Date' column to datetime\n",
        "avg_08_07['Date'] = pd.to_datetime(avg_08_07['Date'])\n",
        "\n",
        "# Find peaks with specific prominence and height\n",
        "peaks_normal, _ = signal.find_peaks(avg_08_07['VALUE'], prominence=4, height=5)\n",
        "\n",
        "# Get prominences\n",
        "prominences = signal.peak_prominences(avg_08_07['VALUE'], peaks_normal)[0]\n",
        "\n",
        "# Get width properties\n",
        "widths, width_heights, _, _ = signal.peak_widths(avg_08_07['VALUE'], peaks_normal, rel_height=0.5)\n",
        "\n",
        "# Create a new DataFrame for the peak properties\n",
        "anomal_peak_df = avg_08_07.iloc[peaks_normal].copy()\n",
        "anomal_peak_df['Prominence'] = prominences\n",
        "anomal_peak_df['Width_Height'] = width_heights\n",
        "anomal_peak_df['Width'] = widths\n"
      ],
      "metadata": {
        "id": "zisWdwL-rYd7"
      },
      "execution_count": null,
      "outputs": []
    },
    {
      "cell_type": "code",
      "source": [
        "# sample은 6월 3일에 대한 EU데이터이다."
      ],
      "metadata": {
        "id": "s0x7pMsRrb0e"
      },
      "execution_count": null,
      "outputs": []
    },
    {
      "cell_type": "code",
      "source": [
        "# Convert the 'Date' column to datetime\n",
        "sample['Date'] = pd.to_datetime(sample['Date'])\n",
        "\n",
        "# Reset index for the sample DataFrame\n",
        "sample = sample.reset_index(drop=True)\n",
        "\n",
        "# Find peaks with specific prominence and height\n",
        "peaks_normal, _ = signal.find_peaks(sample['VALUE'], prominence=4, height=5)\n",
        "\n",
        "# Get prominences\n",
        "prominences = signal.peak_prominences(sample['VALUE'], peaks_normal)[0]\n",
        "\n",
        "# Get width properties\n",
        "widths, width_heights, left_ips, right_ips = signal.peak_widths(sample['VALUE'], peaks_normal, rel_height=0.5)\n",
        "\n",
        "# Visualization using Plotly\n",
        "fig = go.Figure()\n",
        "\n",
        "# Plot the actual data\n",
        "fig.add_trace(go.Scatter(x=sample['Date'], y=sample['VALUE'], mode='lines', name='Value'))\n",
        "\n",
        "# Highlight the peaks\n",
        "fig.add_trace(go.Scatter(x=sample['Date'][peaks_normal], y=sample['VALUE'][peaks_normal], mode='markers', marker=dict(size=8, color='red'), name='Peak'))\n",
        "\n",
        "# Display prominences, widths, and heights\n",
        "for idx, (peak, prominence, width_height, width) in enumerate(zip(peaks_normal, prominences, width_heights, widths)):\n",
        "    fig.add_shape(\n",
        "        type=\"line\", x0=sample['Date'][peak], x1=sample['Date'][peak], y0=sample['VALUE'][peak], y1=sample['VALUE'][peak] - prominence,\n",
        "        line=dict(color=\"cyan\")\n",
        "    )\n",
        "    fig.add_shape(\n",
        "        type=\"line\", x0=sample['Date'][int(left_ips[idx])], x1=sample['Date'][int(right_ips[idx])], y0=width_height, y1=width_height,\n",
        "        line=dict(color=\"magenta\")\n",
        "    )\n",
        "\n",
        "fig.update_layout(title=\"06.03 EU Time Series with Detected Peaks and their Properties\", xaxis_title=\"Date\", yaxis_title=\"Value\")\n",
        "fig.show()"
      ],
      "metadata": {
        "id": "dTCMPTdfreXy"
      },
      "execution_count": null,
      "outputs": []
    },
    {
      "cell_type": "code",
      "source": [
        "# Convert the 'Date' column to datetime\n",
        "sample['Date'] = pd.to_datetime(sample['Date'])\n",
        "\n",
        "# Find peaks with specific prominence and height\n",
        "peaks_normal, _ = signal.find_peaks(sample['VALUE'], prominence=4, height=5)\n",
        "\n",
        "# Get prominences\n",
        "prominences = signal.peak_prominences(sample['VALUE'], peaks_normal)[0]\n",
        "\n",
        "# Get width properties\n",
        "widths, width_heights, _, _ = signal.peak_widths(sample['VALUE'], peaks_normal, rel_height=0.5)\n",
        "\n",
        "# Create a new DataFrame for the peak properties\n",
        "normal_peak_df = sample.iloc[peaks_normal].copy()\n",
        "normal_peak_df['Prominence'] = prominences\n",
        "normal_peak_df['Width_Height'] = width_heights\n",
        "normal_peak_df['Width'] = widths"
      ],
      "metadata": {
        "id": "ql0ArrRSrjST"
      },
      "execution_count": null,
      "outputs": []
    },
    {
      "cell_type": "code",
      "source": [
        "from scipy.stats import ttest_ind, zscore\n",
        "import numpy as np\n",
        "\n",
        "# 데이터 추출\n",
        "\n",
        "normal_Value = normal_peak_df[\"VALUE\"]\n",
        "normal_Value = anomal_peak_df[\"VALUE\"]\n",
        "\n",
        "normal_prominence = normal_peak_df[\"Prominence\"]\n",
        "anomal_prominence = anomal_peak_df[\"Prominence\"]\n",
        "\n",
        "normal_width_height = normal_peak_df[\"Width_Height\"]\n",
        "anomal_width_height = anomal_peak_df[\"Width_Height\"]\n",
        "\n",
        "normal_width = normal_peak_df[\"Width\"]\n",
        "anomal_width = anomal_peak_df[\"Width\"]"
      ],
      "metadata": {
        "id": "3a5oFtTCrlAZ"
      },
      "execution_count": null,
      "outputs": []
    },
    {
      "cell_type": "code",
      "source": [
        "from scipy.stats import ttest_ind\n",
        "from statsmodels.stats.weightstats import ztest\n",
        "\n",
        "# Value에 대한 t-test와 z-test\n",
        "t_stat_Value, p_val_ttest_Value= ttest_ind(normal_peak_df[\"VALUE\"], anomal_peak_df[\"VALUE\"])\n",
        "z_stat_Value, p_val_ztest_Value = ztest(normal_peak_df[\"VALUE\"], anomal_peak_df[\"VALUE\"])\n",
        "\n",
        "# Prominence에 대한 t-test와 z-test\n",
        "t_stat_prominence, p_val_ttest_prominence = ttest_ind(normal_peak_df[\"Prominence\"], anomal_peak_df[\"Prominence\"])\n",
        "z_stat_prominence, p_val_ztest_prominence = ztest(normal_peak_df[\"Prominence\"], anomal_peak_df[\"Prominence\"])\n",
        "\n",
        "# Width_Height에 대한 t-test와 z-test\n",
        "t_stat_width_height, p_val_ttest_width_height = ttest_ind(normal_peak_df[\"Width_Height\"], anomal_peak_df[\"Width_Height\"])\n",
        "z_stat_width_height, p_val_ztest_width_height = ztest(normal_peak_df[\"Width_Height\"], anomal_peak_df[\"Width_Height\"])\n",
        "\n",
        "# Width에 대한 t-test와 z-test\n",
        "t_stat_width, p_val_ttest_width = ttest_ind(normal_peak_df[\"Width\"], anomal_peak_df[\"Width\"])\n",
        "z_stat_width, p_val_ztest_width = ztest(normal_peak_df[\"Width\"], anomal_peak_df[\"Width\"])\n",
        "\n",
        "# 결과 출력\n",
        "alpha = 0.05\n",
        "\n",
        "def hypothesis_result(p_val, variable_name, test_type):\n",
        "    if p_val < alpha:\n",
        "        return f\"{variable_name}에 대한 {test_type} 결과, p-value는 {p_val:.5f}로 귀무 가설을 기각한다. 따라서 두 데이터 프레임 간의 평균에는 유의미한 차이가 있다.\"\n",
        "    else:\n",
        "        return f\"{variable_name}에 대한 {test_type} 결과, p-value는 {p_val:.5f}로 귀무 가설을 기각하지 않는다. 따라서 두 데이터 프레임 간의 평균에는 유의미한 차이가 없다.\"\n",
        "\n",
        "\n",
        "print(hypothesis_result(p_val_ttest_Value, \"Value\", \"t-test\"))\n",
        "print(hypothesis_result(p_val_ztest_Value, \"Value\", \"z-test\"))\n",
        "print(hypothesis_result(p_val_ttest_prominence, \"Prominence\", \"t-test\"))\n",
        "print(hypothesis_result(p_val_ztest_prominence, \"Prominence\", \"z-test\"))\n",
        "print(hypothesis_result(p_val_ttest_width_height, \"Width_Height\", \"t-test\"))\n",
        "print(hypothesis_result(p_val_ztest_width_height, \"Width_Height\", \"z-test\"))\n",
        "print(hypothesis_result(p_val_ttest_width, \"Width\", \"t-test\"))\n",
        "print(hypothesis_result(p_val_ztest_width, \"Width\", \"z-test\"))\n"
      ],
      "metadata": {
        "id": "7RWh-bOCrldO"
      },
      "execution_count": null,
      "outputs": []
    },
    {
      "cell_type": "code",
      "source": [
        "#Value에 대한 t-test 결과, p-value는 0.00832로 귀무 가설을 기각한다. 따라서 두 데이터 프레임 간의 평균에는 유의미한 차이가 있다.\n",
        "#Value에 대한 z-test 결과, p-value는 0.00813로 귀무 가설을 기각한다. 따라서 두 데이터 프레임 간의 평균에는 유의미한 차이가 있다.\n",
        "#Prominence에 대한 t-test 결과, p-value는 0.00267로 귀무 가설을 기각한다. 따라서 두 데이터 프레임 간의 평균에는 유의미한 차이가 있다.\n",
        "#Prominence에 대한 z-test 결과, p-value는 0.00258로 귀무 가설을 기각한다. 따라서 두 데이터 프레임 간의 평균에는 유의미한 차이가 있다.\n",
        "#Width_Height에 대한 t-test 결과, p-value는 0.61692로 귀무 가설을 기각하지 않는다. 따라서 두 데이터 프레임 간의 평균에는 유의미한 차이가 없다.\n",
        "#Width_Height에 대한 z-test 결과, p-value는 0.61676로 귀무 가설을 기각하지 않는다. 따라서 두 데이터 프레임 간의 평균에는 유의미한 차이가 없다.\n",
        "#Width에 대한 t-test 결과, p-value는 0.00807로 귀무 가설을 기각한다. 따라서 두 데이터 프레임 간의 평균에는 유의미한 차이가 있다.\n",
        "#Width에 대한 z-test 결과, p-value는 0.00788로 귀무 가설을 기각한다. 따라서 두 데이터 프레임 간의 평균에는 유의미한 차이가 있다."
      ],
      "metadata": {
        "id": "y5zlhZ3BskbR"
      },
      "execution_count": null,
      "outputs": []
    },
    {
      "cell_type": "code",
      "source": [
        "sample_size = len(anomal_peak_df)\n",
        "\n",
        "# 샘플링\n",
        "\n",
        "normal_sample_Value = np.random.choice(normal_peak_df[\"VALUE\"], sample_size, replace=False)\n",
        "anomal_sample_Value = np.random.choice(anomal_peak_df[\"VALUE\"], sample_size, replace=False)\n",
        "\n",
        "normal_sample_prominence = np.random.choice(normal_peak_df[\"Prominence\"], sample_size, replace=False)\n",
        "anomal_sample_prominence = np.random.choice(anomal_peak_df[\"Prominence\"], sample_size, replace=False)\n",
        "\n",
        "normal_sample_width_height = np.random.choice(normal_peak_df[\"Width_Height\"], sample_size, replace=False)\n",
        "anomal_sample_width_height = np.random.choice(anomal_peak_df[\"Width_Height\"], sample_size, replace=False)\n",
        "\n",
        "normal_sample_width = np.random.choice(normal_peak_df[\"Width\"], sample_size, replace=False)\n",
        "anomal_sample_width = np.random.choice(anomal_peak_df[\"Width\"], sample_size, replace=False)\n",
        "\n",
        "# 샘플링된 데이터로 t-test와 z-test 수행\n",
        "t_stat_sample_Value, p_val_ttest_sample_Value = ttest_ind(normal_sample_prominence, anomal_sample_Value)\n",
        "z_stat_sample_Value, p_val_ztest_sample_Value = ztest(normal_sample_prominence, anomal_sample_Value)\n",
        "\n",
        "t_stat_sample_prominence, p_val_ttest_sample_prominence = ttest_ind(normal_sample_prominence, anomal_sample_prominence)\n",
        "z_stat_sample_prominence, p_val_ztest_sample_prominence = ztest(normal_sample_prominence, anomal_sample_prominence)\n",
        "\n",
        "t_stat_sample_width_height, p_val_ttest_sample_width_height = ttest_ind(normal_sample_width_height, anomal_sample_width_height)\n",
        "z_stat_sample_width_height, p_val_ztest_sample_width_height = ztest(normal_sample_width_height, anomal_sample_width_height)\n",
        "\n",
        "t_stat_sample_width, p_val_ttest_sample_width = ttest_ind(normal_sample_width, anomal_sample_width)\n",
        "z_stat_sample_width, p_val_ztest_sample_width = ztest(normal_sample_width, anomal_sample_width)\n",
        "\n",
        "# 결과 출력\n",
        "print(hypothesis_result(p_val_ttest_sample_Value, \"Value (Sampled)\", \"t-test\"))\n",
        "print(hypothesis_result(p_val_ztest_sample_Value, \"Value (Sampled)\", \"z-test\"))\n",
        "print(hypothesis_result(p_val_ttest_sample_prominence, \"Prominence (Sampled)\", \"t-test\"))\n",
        "print(hypothesis_result(p_val_ztest_sample_prominence, \"Prominence (Sampled)\", \"z-test\"))\n",
        "print(hypothesis_result(p_val_ttest_sample_width_height, \"Width_Height (Sampled)\", \"t-test\"))\n",
        "print(hypothesis_result(p_val_ztest_sample_width_height, \"Width_Height (Sampled)\", \"z-test\"))\n",
        "print(hypothesis_result(p_val_ttest_sample_width, \"Width (Sampled)\", \"t-test\"))\n",
        "print(hypothesis_result(p_val_ztest_sample_width, \"Width (Sampled)\", \"z-test\"))\n"
      ],
      "metadata": {
        "id": "NqCE64U-rpmM"
      },
      "execution_count": null,
      "outputs": []
    },
    {
      "cell_type": "code",
      "source": [
        "#Value (Sampled)에 대한 t-test 결과, p-value는 0.00000로 귀무 가설을 기각한다. 따라서 두 데이터 프레임 간의 평균에는 유의미한 차이가 있다.\n",
        "#Value (Sampled)에 대한 z-test 결과, p-value는 0.00000로 귀무 가설을 기각한다. 따라서 두 데이터 프레임 간의 평균에는 유의미한 차이가 있다.\n",
        "#Prominence (Sampled)에 대한 t-test 결과, p-value는 0.00990로 귀무 가설을 기각한다. 따라서 두 데이터 프레임 간의 평균에는 유의미한 차이가 있다.\n",
        "#Prominence (Sampled)에 대한 z-test 결과, p-value는 0.00394로 귀무 가설을 기각한다. 따라서 두 데이터 프레임 간의 평균에는 유의미한 차이가 있다.\n",
        "#Width_Height (Sampled)에 대한 t-test 결과, p-value는 0.37361로 귀무 가설을 기각하지 않는다. 따라서 두 데이터 프레임 간의 평균에는 유의미한 차이가 없다.\n",
        "#Width_Height (Sampled)에 대한 z-test 결과, p-value는 0.36155로 귀무 가설을 기각하지 않는다. 따라서 두 데이터 프레임 간의 평균에는 유의미한 차이가 없다.\n",
        "#Width (Sampled)에 대한 t-test 결과, p-value는 0.08450로 귀무 가설을 기각하지 않는다. 따라서 두 데이터 프레임 간의 평균에는 유의미한 차이가 없다.\n",
        "#Width (Sampled)에 대한 z-test 결과, p-value는 0.06786로 귀무 가설을 기각하지 않는다. 따라서 두 데이터 프레임 간의 평균에는 유의미한 차이가 없다."
      ],
      "metadata": {
        "id": "j77ZUrLhsZgf"
      },
      "execution_count": null,
      "outputs": []
    },
    {
      "cell_type": "code",
      "source": [
        "def cohen_d(group1, group2):\n",
        "    # 각 그룹의 평균 및 표준 편차 계산\n",
        "    mean1, mean2 = np.mean(group1), np.mean(group2)\n",
        "    std1, std2 = np.std(group1, ddof=1), np.std(group2, ddof=1)\n",
        "    n1, n2 = len(group1), len(group2)\n",
        "\n",
        "    # 통합 표준 편차 계산\n",
        "    pooled_std = np.sqrt(((n1 - 1) * std1**2 + (n2 - 1) * std2**2) / (n1 + n2 - 2))\n",
        "\n",
        "    # Cohen's d 계산\n",
        "    d = (mean1 - mean2) / pooled_std\n",
        "    return d\n",
        "\n",
        "# 각 변수에 대해 Cohen's d 계산\n",
        "d_VALUE = cohen_d(normal_peak_df[\"VALUE\"], anomal_peak_df[\"VALUE\"])\n",
        "d_prominence = cohen_d(normal_peak_df[\"Prominence\"], anomal_peak_df[\"Prominence\"])\n",
        "d_width_height = cohen_d(normal_peak_df[\"Width_Height\"], anomal_peak_df[\"Width_Height\"])\n",
        "d_width = cohen_d(normal_peak_df[\"Width\"], anomal_peak_df[\"Width\"])\n",
        "\n",
        "# 결과 출력\n",
        "print(f\"VALUE의 Cohen's d: {d_VALUE:.4f}\")\n",
        "print(f\"Prominence의 Cohen's d: {d_prominence:.4f}\")\n",
        "print(f\"Width_Height의 Cohen's d: {d_width_height:.4f}\")\n",
        "print(f\"Width의 Cohen's d: {d_width:.4f}\")\n"
      ],
      "metadata": {
        "id": "N2i3jdyartJw"
      },
      "execution_count": null,
      "outputs": []
    },
    {
      "cell_type": "code",
      "source": [
        "#VALUE의 Cohen's d: 0.8432\n",
        "#Prominence의 Cohen's d: 0.9603\n",
        "#Width_Height의 Cohen's d: 0.1594\n",
        "#Width의 Cohen's d: 0.8465"
      ],
      "metadata": {
        "id": "ZZ5QvINnsUWD"
      },
      "execution_count": null,
      "outputs": []
    },
    {
      "cell_type": "code",
      "source": [
        "import plotly.graph_objects as go\n",
        "\n",
        "variables = ['VALUE', 'Prominence', 'Width_Height', 'Width']\n",
        "\n",
        "# 각 변수에 대한 수평 box plot 생성\n",
        "for var in variables:\n",
        "    fig = go. Figure()\n",
        "\n",
        "    # normal_peak_df에 대한 box plot\n",
        "    fig.add_trace(go.Box(\n",
        "        x=normal_peak_df[var],\n",
        "        name=f'Normal {var}',\n",
        "        marker_color='blue',\n",
        "        orientation='h'  # 수평 방향 설정\n",
        "    ))\n",
        "\n",
        "    # anomal_peak_df에 대한 box plot\n",
        "    fig.add_trace(go.Box(\n",
        "        x=anomal_peak_df[var],\n",
        "        name=f'Anomaly {var}',\n",
        "        marker_color='red',\n",
        "        orientation='h'  # 수평 방향 설정\n",
        "    ))\n",
        "\n",
        "    # 레이아웃 설정\n",
        "    fig. update_layout(\n",
        "        title=f'Normal vs Anomaly Distribution Comparison for {var}',\n",
        "        xaxis_title='Value'\n",
        "    )\n",
        "\n",
        "    fig.show()\n"
      ],
      "metadata": {
        "id": "mx2Hkus_runt"
      },
      "execution_count": null,
      "outputs": []
    },
    {
      "cell_type": "markdown",
      "source": [
        "![image.png](data:image/png;base64,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)"
      ],
      "metadata": {
        "id": "zdGdkHo5r3lD"
      }
    },
    {
      "cell_type": "markdown",
      "source": [
        "![image.png](data:image/png;base64,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)"
      ],
      "metadata": {
        "id": "1J4Fl0XOr9l2"
      }
    },
    {
      "cell_type": "markdown",
      "source": [
        "![image.png](data:image/png;base64,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)"
      ],
      "metadata": {
        "id": "Ef7u-0ebsLIr"
      }
    },
    {
      "cell_type": "markdown",
      "source": [
        "![image.png](data:image/png;base64,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)"
      ],
      "metadata": {
        "id": "d-COEoZNr_P8"
      }
    },
    {
      "cell_type": "markdown",
      "source": [
        "## Pycaret"
      ],
      "metadata": {
        "id": "5MHQmoO6vtmJ"
      }
    },
    {
      "cell_type": "code",
      "source": [
        "pip install pycaret"
      ],
      "metadata": {
        "id": "LRQtpCv_v0vy"
      },
      "execution_count": null,
      "outputs": []
    },
    {
      "cell_type": "code",
      "source": [
        "import pycaret\n",
        "from pycaret.anomaly import *\n",
        "from pycaret.anomaly import AnomalyExperiment\n",
        "pycaret.__version__"
      ],
      "metadata": {
        "id": "x78_wDkBv3bN"
      },
      "execution_count": null,
      "outputs": []
    },
    {
      "cell_type": "code",
      "source": [
        "df = pd.read_csv('C:/Users/Admin/Downloads/Etri/Dishwashers_Anomaly_Detection/dataset.csv')"
      ],
      "metadata": {
        "id": "TnN8kEAvv5wh"
      },
      "execution_count": null,
      "outputs": []
    },
    {
      "cell_type": "code",
      "source": [
        "Data_05_17_24_strength.drop(['Unnamed: 0'], axis = 1, inplace = True)"
      ],
      "metadata": {
        "id": "K7LhIw1sv91c"
      },
      "execution_count": null,
      "outputs": []
    },
    {
      "cell_type": "code",
      "source": [
        "dates = ['2023-05-17', '2023-05-18', '2023-05-19','2023-05-22','2023-05-23','2023-05-24']\n",
        "         #,'2023-05-25','2023-05-26','2023-05-29','2023-05-30','2023-05-31','2023-06-01','2023-06-02']\n",
        "selected_dates = pd.to_datetime(dates).date\n",
        "df['Date'] = pd.to_datetime(df['Date'])\n",
        "\n",
        "Data_05_17_24_strength = df[df['Date'].dt.date.isin(selected_dates)]\n",
        "\n",
        "#filtered_data_strength_us = filter_rows_with_values(Data_05_06_strength , 'US')\n",
        "#filtered_data_strength_eu = filter_rows_with_values(Data_05_06_strength , 'EU')\n",
        "\n",
        "#strength_us = filtered_data_strength_us[['VALUE','Min_Max_diff']]\n",
        "#strength_eu = filtered_data_strength_eu[['VALUE','Min_Max_diff']]"
      ],
      "metadata": {
        "id": "WMVO4qycv8AG"
      },
      "execution_count": null,
      "outputs": []
    },
    {
      "cell_type": "code",
      "source": [
        "Data_05_17_24 = Data_05_17_24_strength[['Date','VALUE','Category']]"
      ],
      "metadata": {
        "id": "eykPfo_-v_Oi"
      },
      "execution_count": null,
      "outputs": []
    },
    {
      "cell_type": "code",
      "source": [
        "anom = setup(data = Data_05_17_24, verbose = 0, normalize = True)"
      ],
      "metadata": {
        "id": "suER-dK4wBCK"
      },
      "execution_count": null,
      "outputs": []
    },
    {
      "cell_type": "code",
      "source": [
        "models()"
      ],
      "metadata": {
        "id": "5MiaV_VhwB_A"
      },
      "execution_count": null,
      "outputs": []
    },
    {
      "cell_type": "code",
      "source": [
        "te_pred = np.zeros(Data_05_17_24.shape[0], )\n",
        "preds = []\n",
        "pred=[]"
      ],
      "metadata": {
        "id": "pRJMadEXwC-w"
      },
      "execution_count": null,
      "outputs": []
    },
    {
      "cell_type": "code",
      "source": [
        "models()['Name'].index[:-2]"
      ],
      "metadata": {
        "id": "RwBN6AuuwEFe"
      },
      "execution_count": null,
      "outputs": []
    },
    {
      "cell_type": "code",
      "source": [
        "for name in ['cluster', 'iforest','knn', 'lof', 'svm'] :\n",
        "\n",
        "    ### 모델 호출\n",
        "    model = create_model(name)\n",
        "\n",
        "    ### 모델 학습\n",
        "    fitting = assign_model(model)\n",
        "\n",
        "    ### 예측값 생성\n",
        "    pred = predict_model(model, Data_05_17_24)['Anomaly']\n",
        "    preds.append(pred.tolist())\n",
        "    te_pred += pred"
      ],
      "metadata": {
        "id": "r_qjh_8nwFP1"
      },
      "execution_count": null,
      "outputs": []
    },
    {
      "cell_type": "code",
      "source": [
        "pred = te_pred > 4\n",
        "Data_05_17_24['LABEL'] = pred"
      ],
      "metadata": {
        "id": "4dxvQPADwHb4"
      },
      "execution_count": null,
      "outputs": []
    },
    {
      "cell_type": "code",
      "source": [
        "Data_05_17_24_anomaly_us = Data_05_17_24[(Data_05_17_24['LABEL'] == 1) & (Data_05_17_24['Category'] == 'US') & (Data_05_17_24['VALUE'] >= 5)]\n",
        "Data_05_17_24_anomaly_eu = Data_05_17_24[(Data_05_17_24['LABEL'] == 1) & (Data_05_17_24['Category'] == 'EU') & (Data_05_17_24['VALUE'] >= 5)]"
      ],
      "metadata": {
        "id": "E7YXPixNwKQ1"
      },
      "execution_count": null,
      "outputs": []
    },
    {
      "cell_type": "code",
      "source": [
        "anomaly_indices = Data_05_17_24_anomaly_eu.index\n",
        "corresponding_rows = Data_05_17_24_strength.loc[anomaly_indices]"
      ],
      "metadata": {
        "id": "bA6aiP9PwLgk"
      },
      "execution_count": null,
      "outputs": []
    },
    {
      "cell_type": "code",
      "source": [
        "# plot value on y-axis and date on x-axis\n",
        "fig = px.line(Data_05_17_24, x=Data_05_17_24.index, y=\"VALUE\", title='UNSUPERVISED ANOMALY DETECTION', template = 'plotly_dark')\n",
        "# create list of outlier_dates\n",
        "outlier_dates = Data_05_17_24[Data_05_17_24['LABEL'] == 1].index\n",
        "# obtain y value of anomalies to plot\n",
        "y_values = [Data_05_17_24.loc[i]['VALUE'] for i in outlier_dates]\n",
        "fig.add_trace(go.Scatter(x=outlier_dates, y=y_values, mode = 'markers',\n",
        "                name = 'Anomaly',\n",
        "                marker=dict(color='red',size=10)))\n",
        "\n",
        "fig.show()"
      ],
      "metadata": {
        "id": "ZlGst66SwSB2"
      },
      "execution_count": null,
      "outputs": []
    },
    {
      "cell_type": "code",
      "source": [
        "Data_05_17_24_anomaly_us_graph_indices = []\n",
        "\n",
        "for index, row in Data_05_17_24_anomaly_us.iterrows():\n",
        "    start_index, end_index = each_visualize_comparison(Current_Strength_US_EU_data, index, 5)\n",
        "    Data_05_17_24_anomaly_us_graph_indices.append((start_index, end_index))"
      ],
      "metadata": {
        "id": "GIDmu3F4wUxn"
      },
      "execution_count": null,
      "outputs": []
    },
    {
      "cell_type": "code",
      "source": [
        "# US 그래프 그리기\n",
        "plot_dtw_comparison(Current_Strength_US_EU_data, Data_05_17_24_anomaly_us_graph_indices, 'US DTW Comparison of Selected Graphs')"
      ],
      "metadata": {
        "id": "zHDH3Ew4wVvu"
      },
      "execution_count": null,
      "outputs": []
    },
    {
      "cell_type": "markdown",
      "source": [
        "## DTW 유사도로 판단"
      ],
      "metadata": {
        "id": "Glkg8V-9wcQ4"
      }
    },
    {
      "cell_type": "code",
      "source": [
        "import numpy as np\n",
        "import pandas as pd\n",
        "from scipy.signal import find_peaks\n",
        "from tslearn.metrics import dtw\n",
        "from tslearn.preprocessing import TimeSeriesScalerMeanVariance\n",
        "from fastdtw import fastdtw\n",
        "from scipy.spatial.distance import euclidean\n",
        "\n",
        "# Extract the 'VALUE' series from the DataFrame\n",
        "data = Data_05_17_19_strength_EU['VALUE'].values\n",
        "\n",
        "# Detect peaks\n",
        "peaks, _ = find_peaks(data, prominence=5, width=2, height=10)\n",
        "\n",
        "# Define a window size to capture the cycle (10 seconds before and after peak)\n",
        "window_size = 10\n",
        "\n",
        "# Segment the time series data into individual cycles and record corresponding dates\n",
        "cycles = []\n",
        "cycle_dates = []\n",
        "for peak in peaks:\n",
        "    start_index = max(0, peak - window_size)\n",
        "    end_index = min(len(data), peak + window_size)\n",
        "    cycles.append(data[start_index : end_index])\n",
        "    cycle_dates.append(Data_05_17_19_strength_EU.iloc[start_index]['날짜'])  # replace 'Date' with your date column name\n",
        "\n",
        "# Standardize the cycles using tslearn's TimeSeriesScalerMeanVariance\n",
        "scaler = TimeSeriesScalerMeanVariance(mu=0., std=1.)  # Rescale time series\n",
        "scaled_cycles = [scaler.fit_transform(cycle.reshape(-1, 1)) for cycle in cycles]\n",
        "\n",
        "# Calculate DTW distance between all pairs of cycles\n",
        "n_cycles = len(scaled_cycles)\n",
        "dist_matrix = np.empty((n_cycles, n_cycles))\n",
        "for i in range(n_cycles):\n",
        "    for j in range(n_cycles):\n",
        "        # Ensure the 2D cycle data is reduced to 1D before running DTW\n",
        "        cycle_i = np.mean(scaled_cycles[i], axis=1)\n",
        "        cycle_j = np.mean(scaled_cycles[j], axis=1)\n",
        "        distance, path = fastdtw(cycle_i, cycle_j, dist=euclidean)\n",
        "        dist_matrix[i, j] = distance\n",
        "\n",
        "# Detect outliers based on DTW distance\n",
        "# A simple method would be to consider cycles with a mean DTW distance larger than the average as outliers\n",
        "mean_dtw_distances = dist_matrix.mean(axis=1)\n",
        "threshold = mean_dtw_distances.mean()\n",
        "outlier_indices = np.where(mean_dtw_distances > threshold)[0]\n",
        "\n",
        "print(f\"Outlier cycles at indices: {outlier_indices}\")\n",
        "for index in outlier_indices:\n",
        "    print(f\"Outlier detected on date: {cycle_dates[index]}\")\n"
      ],
      "metadata": {
        "id": "R8ZRtjBcweYQ"
      },
      "execution_count": null,
      "outputs": []
    },
    {
      "cell_type": "markdown",
      "source": [
        "## SR 변환 적용"
      ],
      "metadata": {
        "id": "YyZGq0jdwmLD"
      }
    },
    {
      "cell_type": "code",
      "source": [
        "Current_Strength_US = Current_Strength_US_EU_data[Current_Strength_US_EU_data['Category'] == 'US']['VALUE']\n",
        "Current_Strength_EU = Current_Strength_US_EU_data[Current_Strength_US_EU_data['Category'] == 'EU']['VALUE']"
      ],
      "metadata": {
        "id": "u7GCqhqPwoI-"
      },
      "execution_count": null,
      "outputs": []
    },
    {
      "cell_type": "code",
      "source": [
        "def series_filter(values, kernel_size=3):\n",
        "\n",
        "    filter_values = np.cumsum(values, dtype=float)\n",
        "\n",
        "    filter_values[kernel_size:] = filter_values[kernel_size:] - filter_values[:-kernel_size]\n",
        "    filter_values[kernel_size:] = filter_values[kernel_size:] / kernel_size\n",
        "\n",
        "    for i in range(1, kernel_size):\n",
        "        filter_values[i] /= i + 1\n",
        "\n",
        "    return filter_values\n",
        "\n",
        "\n",
        "def extrapolate_next(values):\n",
        "\n",
        "\n",
        "    last_value = values[-1]\n",
        "    slope = [(last_value - v) / i for (i, v) in enumerate(values[::-1])]\n",
        "    slope[0] = 0\n",
        "    next_values = last_value + np.cumsum(slope)\n",
        "\n",
        "    return next_values\n",
        "\n",
        "\n",
        "def marge_series(values, extend_num=5, forward=5):\n",
        "\n",
        "    next_value = extrapolate_next(values)[forward]\n",
        "    extension = [next_value] * extend_num\n",
        "\n",
        "    if isinstance(values, list):\n",
        "        marge_values = values + extension\n",
        "    else:\n",
        "        marge_values = np.append(values, extension)\n",
        "    return marge_values\n",
        "\n",
        "\n",
        "\n",
        "class Silency(object):\n",
        "    def __init__(self, amp_window_size, series_window_size, score_window_size):\n",
        "        self.amp_window_size = amp_window_size\n",
        "        self.series_window_size = series_window_size\n",
        "        self.score_window_size = score_window_size\n",
        "\n",
        "    def transform_silency_map(self, values):\n",
        "\n",
        "\n",
        "        freq = np.fft.fft(values)\n",
        "        mag = np.sqrt(freq.real ** 2 + freq.imag ** 2)\n",
        "        spectral_residual = np.exp(np.log(mag) - series_filter(np.log(mag), self.amp_window_size))\n",
        "\n",
        "        freq.real = freq.real * spectral_residual / mag\n",
        "        freq.imag = freq.imag * spectral_residual / mag\n",
        "\n",
        "        silency_map = np.fft.ifft(freq)\n",
        "        return silency_map\n",
        "\n",
        "    def transform_spectral_residual(self, values):\n",
        "        silency_map = self.transform_silency_map(values)\n",
        "        spectral_residual = np.sqrt(silency_map.real ** 2 + silency_map.imag ** 2)\n",
        "        return spectral_residual\n",
        "\n",
        "    def generate_anomaly_score(self, values, type=\"avg\"):\n",
        "\n",
        "\n",
        "        extended_series = marge_series(values, self.series_window_size, self.series_window_size)\n",
        "        mag = self.transform_spectral_residual(extended_series)[: len(values)]\n",
        "\n",
        "        if type == \"avg\":\n",
        "            ave_filter = series_filter(mag, self.score_window_size)\n",
        "            score = (mag - ave_filter) / ave_filter\n",
        "        elif type == \"abs\":\n",
        "            ave_filter = series_filter(mag, self.score_window_size)\n",
        "            score = np.abs(mag - ave_filter) / ave_filter\n",
        "        elif type == \"chisq\":\n",
        "            score = stats.chi2.cdf((mag - np.mean(mag)) ** 2 / np.var(mag), df=1)\n",
        "        else:\n",
        "            raise ValueError(\"No type!\")\n",
        "        return score"
      ],
      "metadata": {
        "id": "-v_QlhZHxXBs"
      },
      "execution_count": null,
      "outputs": []
    },
    {
      "cell_type": "code",
      "source": [
        "def sr_time_series(time_series, amp_window_size=30, series_window_size=30, score_window_size=3):\n",
        "    # Initialize the Silency class with given window sizes\n",
        "    silency_transformer = Silency(amp_window_size, series_window_size, score_window_size)\n",
        "\n",
        "    #amp_window_size: 스펙트럼 구성 요소의 진폭을 평활화하거나 필터링하는 데 사용되는 창 크기. 이 값을 증가시키면 진폭의 평활화가 더욱 강조되어 스펙트럼에서의 급격한 변동을 줄일 수 있습니다.\n",
        "    #series_window_size: 시계열 데이터를 직접 작업할 때 사용되는 창 크기(예: 시계열 병합 또는 세분화)를 제어할 수 있습니다. 정확한 목적은 시계열에 적용되는 특정 방법이나 알고리즘에 따라 달라집니다.\n",
        "    #SCORE_WINDOW_SIZE: 이는 스펙트럼 잔차의 최종 점수 또는 순위와 관련이 있을 수 있으며, 잔차가 최종 이상치 점수로 변환되는 방식을 제어합니다. 다시 말하지만, 이동 평균 또는 기타 평활화 기법에서 최종 측정값을 도출하는 데 사용될 수 있습니다.\n",
        "\n",
        "    # Transform the time series to spectral residuals\n",
        "    spectral_residuals = silency_transformer.transform_spectral_residual(time_series)\n",
        "\n",
        "    # Return the spectral residuals\n",
        "    return spectral_residuals\n"
      ],
      "metadata": {
        "id": "hin5saOWxd8o"
      },
      "execution_count": null,
      "outputs": []
    },
    {
      "cell_type": "code",
      "source": [
        "# Assuming Current_Strength_EU is available, split it into training and testing data\n",
        "length = len(Current_Strength_EU)\n",
        "split_point = int(length * 0.7)\n",
        "\n",
        "EU_data = Current_Strength_EU[:split_point]\n",
        "real = Current_Strength_EU[split_point:]"
      ],
      "metadata": {
        "id": "DISjhlNhxix-"
      },
      "execution_count": null,
      "outputs": []
    },
    {
      "cell_type": "code",
      "source": [
        "# FFT Transformation\n",
        "fft_EU = np.fft.fft(EU_data)\n",
        "fft_real = np.fft.fft(real)\n",
        "\n",
        "fft_EU_magnitude = [abs(value) for value in fft_EU]\n",
        "fft_EU_phase = [np.angle(value) for value in fft_EU]"
      ],
      "metadata": {
        "id": "pNYLIWGKxj2c"
      },
      "execution_count": null,
      "outputs": []
    },
    {
      "cell_type": "code",
      "source": [
        "# Conversion to SR format\n",
        "SR_EU = sr_time_series(EU_data)\n",
        "SR_real = sr_time_series(real)"
      ],
      "metadata": {
        "id": "U6qdGq36xk4g"
      },
      "execution_count": null,
      "outputs": []
    },
    {
      "cell_type": "code",
      "source": [
        "import plotly.graph_objects as go\n",
        "from plotly.subplots import make_subplots\n",
        "import numpy as np\n",
        "\n",
        "\n",
        "\n",
        "\n",
        "fig = make_subplots(rows=3, cols=1, shared_xaxes=True, subplot_titles=(\"EU_data\", \"SR_EU\", \"fft_EU Magnitude\"))\n",
        "\n",
        "# Add EU_data to the first subplot\n",
        "fig.add_trace(\n",
        "    go.Scatter(y=EU_data, mode='lines', name='EU_data'),\n",
        "    row=1, col=1\n",
        ")\n",
        "\n",
        "# Add SR_EU data to the second subplot\n",
        "fig.add_trace(\n",
        "    go.Scatter(y=SR_EU, mode='lines', name='SR_EU'),\n",
        "    row=2, col=1\n",
        ")\n",
        "\n",
        "# Add fft_EU Magnitude (in log scale) to the third subplot\n",
        "fig.add_trace(\n",
        "    go.Scatter(y=np.log(np.abs(fft_EU) + 1e-10), mode='lines', name='fft_EU Magnitude (Log Scale)'),\n",
        "    row=3, col=1\n",
        ")\n",
        "\n",
        "# Update xaxis and yaxis properties\n",
        "fig.update_xaxes(title_text=\"Time\", row=1, col=1)\n",
        "fig.update_yaxes(title_text=\"EU_data Value\", row=1, col=1)\n",
        "fig.update_xaxes(title_text=\"Time\", row=2, col=1)\n",
        "fig.update_yaxes(title_text=\"SR_EU Value\", row=2, col=1)\n",
        "fig.update_xaxes(title_text=\"Time\", row=3, col=1)\n",
        "fig.update_yaxes(title_text=\"fft_EU Magnitude (Log Scale)\", row=3, col=1)\n",
        "\n",
        "# Update title and show figure\n",
        "fig.update_layout(title_text=\"EU_data, SR_EU, and fft_EU Magnitude Time Series\")\n",
        "fig.show()\n"
      ],
      "metadata": {
        "id": "0zdDKo5uxmgA"
      },
      "execution_count": null,
      "outputs": []
    },
    {
      "cell_type": "markdown",
      "source": [
        "## DIF Anomaly Detection 적용"
      ],
      "metadata": {
        "id": "A_s-KmIdxqLx"
      }
    },
    {
      "cell_type": "code",
      "source": [
        "# Anomaly Detection Model\n",
        "from algorithms.dif import DIF"
      ],
      "metadata": {
        "id": "70C8M6kLxwO8"
      },
      "execution_count": null,
      "outputs": []
    },
    {
      "cell_type": "code",
      "source": [
        "SR_EU = SR_EU.reshape(-1, 1)"
      ],
      "metadata": {
        "id": "xg7W70apyZtU"
      },
      "execution_count": null,
      "outputs": []
    },
    {
      "cell_type": "code",
      "source": [
        "model_configs = {\n",
        "    'n_ensemble': 100,\n",
        "    'n_estimators': 8,\n",
        "    'max_samples': 'auto',\n",
        "    'batch_size': 1024,\n",
        "    'n_processes': 4\n",
        "}\n",
        "model_dif = DIF(**model_configs)\n",
        "model_dif.fit(SR_EU)"
      ],
      "metadata": {
        "id": "KRPQ9RY1yapi"
      },
      "execution_count": null,
      "outputs": []
    },
    {
      "cell_type": "code",
      "source": [
        "real = real.values.reshape(-1, 1)"
      ],
      "metadata": {
        "id": "OurTKm4UydIh"
      },
      "execution_count": null,
      "outputs": []
    },
    {
      "cell_type": "code",
      "source": [
        "DIF_score = model_dif.decision_function(real)"
      ],
      "metadata": {
        "id": "L8KER-Iryeaw"
      },
      "execution_count": null,
      "outputs": []
    },
    {
      "cell_type": "markdown",
      "source": [
        "## CNN을 적용한 모델"
      ],
      "metadata": {
        "id": "0cR6fg_eyua0"
      }
    },
    {
      "cell_type": "code",
      "source": [
        "from keras.models import Sequential\n",
        "from keras.layers import Conv1D, MaxPooling1D, Flatten, Dense, Dropout, BatchNormalization\n",
        "\n",
        "# Reshape input for CNN\n",
        "X_train = X_train.reshape((X_train.shape[0], X_train.shape[1], 1))\n",
        "X_test = X_test.reshape((X_test.shape[0], X_test.shape[1], 1))\n",
        "\n",
        "# Build the model\n",
        "model = Sequential()\n",
        "\n",
        "# First Convolutional Layer\n",
        "model.add(Conv1D(64, 3, activation='relu', input_shape=(window_size, 1)))\n",
        "model.add(BatchNormalization())\n",
        "model.add(MaxPooling1D(2))\n",
        "model.add(Dropout(0.2))\n",
        "\n",
        "# Fully Connected Layer\n",
        "model.add(Flatten())\n",
        "model.add(Dense(100, activation='relu'))\n",
        "model.add(Dropout(0.5))\n",
        "\n",
        "# Output Layer\n",
        "model.add(Dense(prediction_step))\n",
        "\n",
        "model.compile(optimizer='adam', loss='mse')\n",
        "\n",
        "# Train the model\n",
        "model.fit(X_train, y_train, epochs=3, batch_size=64, verbose=1, validation_split=0.1)"
      ],
      "metadata": {
        "id": "fGN5bue-yxIU"
      },
      "execution_count": null,
      "outputs": []
    },
    {
      "cell_type": "markdown",
      "source": [
        "## 데이터 관찰 코드"
      ],
      "metadata": {
        "id": "_MF_4BggzROl"
      }
    },
    {
      "cell_type": "code",
      "source": [
        "import numpy as np\n",
        "import tensorflow as tf\n",
        "from tensorflow.keras.models import Sequential\n",
        "from tensorflow.keras.layers import LSTM, Dense\n",
        "import plotly.graph_objects as go\n",
        "from plotly.subplots import make_subplots\n",
        "\n",
        "# Prepare sequences for LSTM with 1-dimensional data\n",
        "def create_dataset(dataset, look_back=60):\n",
        "    dataX, dataY = [], []\n",
        "    for i in range(len(dataset)-look_back-1):\n",
        "        a = dataset[i:(i+look_back)]\n",
        "        dataX.append(a)\n",
        "        dataY.append(dataset[i + look_back])\n",
        "    return np.array(dataX), np.array(dataY)\n",
        "\n",
        "\n",
        "def preprocess_and_train(dataset, window_size):\n",
        "    category = dataset['Category'].iloc[0]\n",
        "    data_subset = dataset[dataset['Category'] == category]['VALUE'].values\n",
        "    SR_data = sr_time_series(data_subset)\n",
        "\n",
        "    X, y = create_dataset(SR_data, window_size)\n",
        "    X = X.reshape(X.shape[0], window_size, 1)\n",
        "\n",
        "    lstm_model = create_lstm_model(window_size)\n",
        "    lstm_model.fit(X, y, epochs=5, batch_size=64)\n",
        "\n",
        "    SR_data_dif = SR_data.reshape(-1, 1)\n",
        "    model_configs = {\n",
        "        'n_ensemble': 100,\n",
        "        'n_estimators': 8,\n",
        "        'max_samples': 'auto',\n",
        "        'batch_size': 1024,\n",
        "        'n_processes': 4\n",
        "    }\n",
        "    model_dif = DIF(**model_configs)\n",
        "    model_dif.fit(SR_data_dif)\n",
        "\n",
        "    return lstm_model, model_dif\n",
        "\n",
        "# Define LSTM model\n",
        "def create_lstm_model(look_back):\n",
        "    model = Sequential()\n",
        "    model.add(LSTM(50, input_shape=(look_back, 1)))\n",
        "    model.add(Dense(1))\n",
        "    model.compile(optimizer='adam', loss='mse')\n",
        "    return model\n",
        "\n",
        "\n",
        "def visualize_results(real, all_predictions, all_anomaly_scores, all_errors):\n",
        "    # Visualize original and transformed data, predicted values, anomaly scores, and errors\n",
        "\n",
        "    transformed_real = sr_time_series(np.array(real))\n",
        "\n",
        "    fig = make_subplots(rows=4, cols=1, shared_xaxes=True, vertical_spacing=0.1)\n",
        "\n",
        "    # Replace 'real_data' with 'real' here\n",
        "    fig.add_trace(go.Scatter(y=real, mode='lines+markers', name='Original Data'), row=1, col=1)\n",
        "    fig.add_trace(go.Scatter(y=transformed_real, mode='lines+markers', name='Transformed Data'), row=2, col=1)\n",
        "    fig.add_trace(go.Scatter(x=list(range(window_size, len(all_predictions)+window_size)), y=all_predictions, mode='lines+markers', name='Predictions'), row=2, col=1)\n",
        "    fig.add_trace(go.Scatter(x=list(range(window_size, len(all_errors)+window_size)), y=all_errors, mode='lines+markers', name='Error'), row=3, col=1)\n",
        "    fig.add_trace(go.Scatter(x=list(range(window_size, len(all_anomaly_scores)+window_size)), y=all_anomaly_scores, mode='lines+markers', name='Anomaly Score'), row=4, col=1)\n",
        "\n",
        "\n",
        "    fig.update_layout(height=1000, title_text=\"Original Data, Transformed Data, Predicted Values, Anomaly Score and Error\")\n",
        "    fig.show()\n",
        "\n",
        "def real_time_visualization(real_data, model):\n",
        "    real_data = np.array(real_data)  # Convert series to numpy array\n",
        "    sr_data = sr_time_series(real_data)\n",
        "    all_windows = []\n",
        "    all_predictions = []\n",
        "    all_anomaly_scores = []\n",
        "    all_errors = []\n",
        "    prediction_buffer = []\n",
        "    buffer_size = 20\n",
        "\n",
        "    for i in range(len(real_data) - window_size):\n",
        "        # 1. Get current window and prediction\n",
        "\n",
        "        current_window = sr_data[i:i+window_size].reshape(1, window_size, 1)\n",
        "        prediction = model.predict(current_window)\n",
        "        error = abs(prediction[0, 0] - sr_data[i+window_size])\n",
        "\n",
        "        # Buffer predictions\n",
        "        prediction_buffer.append(prediction[0, 0])\n",
        "\n",
        "        # 2. Append to lists\n",
        "        all_windows.append(current_window)\n",
        "        all_predictions.append(prediction[0, 0])\n",
        "        all_errors.append(error)\n",
        "\n",
        "        # If we have 20 predictions buffered, compute anomaly scores and clear the buffer\n",
        "        if len(prediction_buffer) == buffer_size:\n",
        "            buffered_anomalies = model_dif.decision_function(np.array(prediction_buffer).reshape(-1, 1))\n",
        "            all_anomaly_scores.extend(buffered_anomalies)\n",
        "            prediction_buffer.clear()\n",
        "\n",
        "        # 3. Visualize results in real-time\n",
        "        clear_output(wait=True)  # Clear previous plots\n",
        "        visualize_results(real_data[:i+window_size+1], all_predictions, all_anomaly_scores, all_errors)\n",
        "        time.sleep(0.5)  # Sleep for a duration before the next iteration to make visualization perceptible\n",
        "\n",
        "    # Calculate anomalies for any remaining buffered predictions\n",
        "    if prediction_buffer:\n",
        "        buffered_anomalies = model_dif.decision_function(np.array(prediction_buffer).reshape(-1, 1))\n",
        "        all_anomaly_scores.extend(buffered_anomalies)\n",
        "\n",
        "    return all_windows, all_predictions, all_anomaly_scores, all_errors\n",
        "\n",
        "\n",
        "def run_visualization(real_data, dataset, window_size, buffer_size):\n",
        "    global fig\n",
        "    fig = make_subplots(rows=8, cols=1)\n",
        "    unique_categories = real_data['Category'].unique()\n",
        "\n",
        "    print(f\"Unique Categories Found: {unique_categories}\")  # Diagnostic print\n",
        "\n",
        "    results = {}\n",
        "    for category in unique_categories:\n",
        "        print(f\"Processing data for: {category}\")  # Diagnostic print\n",
        "\n",
        "        data_subset = real_data[real_data['Category'] == category]\n",
        "        processed_dataset = dataset[dataset['Category'] == category]\n",
        "\n",
        "        print(f\"Entries for {category}: {len(data_subset)}\")  # Diagnostic print\n",
        "\n",
        "        lstm_model, model_dif = preprocess_and_train(processed_dataset, window_size)\n",
        "        windows, predictions, anomaly_scores, errors = real_time_visualization(data_subset, lstm_model, model_dif, window_size, buffer_size)\n",
        "\n",
        "        results[category] = {\n",
        "            'windows': windows,\n",
        "            'predictions': predictions,\n",
        "            'anomaly_scores': anomaly_scores,\n",
        "            'errors': errors\n",
        "        }\n",
        "    return results"
      ],
      "metadata": {
        "id": "3kthinTuzThU"
      },
      "execution_count": null,
      "outputs": []
    },
    {
      "cell_type": "code",
      "source": [
        "# Transform data\n",
        "SR_EU = sr_time_series(EU_data)"
      ],
      "metadata": {
        "id": "gEB1_bTUzXOG"
      },
      "execution_count": null,
      "outputs": []
    },
    {
      "cell_type": "code",
      "source": [
        "# Create sequences for training\n",
        "window_size = 60\n",
        "look_back = 60\n",
        "X, y = create_dataset(SR_EU, look_back)\n",
        "\n",
        "# Reshape to [samples, timesteps, features]\n",
        "X = np.reshape(X, (X.shape[0], look_back, 1))\n",
        "\n",
        "# Train LSTM model\n",
        "model = create_lstm_model(look_back)\n",
        "model.fit(X, y, epochs=5, batch_size=64)"
      ],
      "metadata": {
        "id": "Au2q7EztzYEu"
      },
      "execution_count": null,
      "outputs": []
    },
    {
      "cell_type": "code",
      "source": [
        "# Run real-time visualization\n",
        "\n",
        "data = real[:140]\n",
        "windows, predictions, anomaly_scores, errors = real_time_visualization(data, model)"
      ],
      "metadata": {
        "id": "BloHk8wlzZZf"
      },
      "execution_count": null,
      "outputs": []
    },
    {
      "cell_type": "code",
      "source": [
        "# Visualize results\n",
        "visualize_results(real[:140], windows, predictions, anomaly_scores, errors)"
      ],
      "metadata": {
        "id": "f0JobGn7zZn_"
      },
      "execution_count": null,
      "outputs": []
    },
    {
      "cell_type": "code",
      "source": [
        "# Your setup code\n",
        "dataset = Current_Strength_US_EU_data[:1975000]\n",
        "real_time_data = Current_Strength_US_EU_data[1975500:1976000]\n",
        "window_size = 60\n",
        "buffer_size = 500\n",
        "\n",
        "results = run_visualization(real_time_data, dataset, window_size, buffer_size)"
      ],
      "metadata": {
        "id": "fvQW5UM60-dE"
      },
      "execution_count": null,
      "outputs": []
    },
    {
      "cell_type": "markdown",
      "source": [
        "## Peak 분석 코드"
      ],
      "metadata": {
        "id": "iC4BnUVl0Q7D"
      }
    },
    {
      "cell_type": "code",
      "source": [
        "# Import the libraries\n",
        "import plotly.express as px\n",
        "import plotly.graph_objects as go\n",
        "\n",
        "# Create a figure using plotly express\n",
        "fig = px.line(avg_08_07, x=\"Date\", y=\"VALUE\", title=\"Wave Visualization\")\n",
        "\n",
        "# Loop through the wave_dict dictionary\n",
        "for key, wave_df in wave_dict.items():\n",
        "    # Get the peak value and date from the wave dataframe\n",
        "    peak_value = wave_df[\"VALUE\"].max()\n",
        "    peak_date = wave_df[\"Date\"][wave_df[\"VALUE\"] == peak_value].iloc[0]\n",
        "    # Add a vertical dashed line at the peak date using plotly graph objects\n",
        "    fig.add_trace(go.Scatter(x=[peak_date, peak_date], y=[0, peak_value], mode=\"lines\", line=dict(dash=\"dash\"), name=key))\n",
        "    # Get the start and end value and date from the wave dataframe\n",
        "    start_value = wave_df[\"VALUE\"].iloc[0]\n",
        "    start_date = wave_df[\"Date\"].iloc[0]\n",
        "    end_value = wave_df[\"VALUE\"].iloc[-1]\n",
        "    end_date = wave_df[\"Date\"].iloc[-1]\n",
        "    # Add a horizontal dashed line at the start and end value using plotly graph objects\n",
        "    fig.add_trace(go.Scatter(x=[start_date, end_date], y=[start_value, start_value], mode=\"lines\", line=dict(dash=\"dash\"), name=key + \"_start\"))\n",
        "    fig.add_trace(go.Scatter(x=[start_date, end_date], y=[end_value, end_value], mode=\"lines\", line=dict(dash=\"dash\"), name=key + \"_end\"))\n",
        "\n",
        "# Show the figure\n",
        "fig.show()\n"
      ],
      "metadata": {
        "id": "ydRp4TQc1N30"
      },
      "execution_count": null,
      "outputs": []
    },
    {
      "cell_type": "markdown",
      "source": [
        "## anomal 데이터 삽입"
      ],
      "metadata": {
        "id": "oyTzxd8R1TOh"
      }
    },
    {
      "cell_type": "code",
      "source": [
        "import pandas as pd\n",
        "import random\n",
        "\n",
        "# Assuming wave_dict and wave_dict_sample are defined as in your previous examples...\n",
        "\n",
        "# Extract all the dataframes from wave_dict_sample and wave_dict\n",
        "sample_frames = [wave_dict_sample[key] for key in sorted(wave_dict_sample.keys())]\n",
        "anomaly_frames = [wave_dict[key] for key in sorted(wave_dict.keys())]\n",
        "\n",
        "# Set the anomaly column\n",
        "for frame in sample_frames:\n",
        "    frame['anomaly'] = 0\n",
        "\n",
        "for frame in anomaly_frames:\n",
        "    frame['anomaly'] = 1\n",
        "\n",
        "# Get a list of all possible insertion points for anomaly data in the sample dataframe\n",
        "insertion_points = [i for i in range(1, len(sample_frames))]\n",
        "\n",
        "# Randomly select from these positions for each anomaly dataframe\n",
        "random_insertion_points = random.sample(insertion_points, len(anomaly_frames))\n",
        "\n",
        "# Sort the selected positions to maintain time order\n",
        "random_insertion_points.sort()\n",
        "\n",
        "# Weave together the anomaly data and the sample data at the selected positions\n",
        "combined_frames = []\n",
        "for i in range(len(sample_frames)):\n",
        "    combined_frames.append(sample_frames[i])\n",
        "    if i in random_insertion_points:\n",
        "        combined_frames.append(anomaly_frames.pop(0))\n",
        "\n",
        "# If there's any anomaly data left, add it to the end\n",
        "if anomaly_frames:\n",
        "    combined_frames.extend(anomaly_frames)\n",
        "\n",
        "# Concatenate all the frames to create the result dataframe\n",
        "result_df = pd.concat(combined_frames, ignore_index=True)\n",
        "\n",
        "print(result_df)\n"
      ],
      "metadata": {
        "id": "vcI-U3nc1VvU"
      },
      "execution_count": null,
      "outputs": []
    },
    {
      "cell_type": "code",
      "source": [
        "test = result_df[['VALUE', 'anomaly']]"
      ],
      "metadata": {
        "id": "G4dL7Ux91XYh"
      },
      "execution_count": null,
      "outputs": []
    },
    {
      "cell_type": "code",
      "source": [
        "import plotly.graph_objects as go\n",
        "\n",
        "# Extract the data from the DataFrame\n",
        "values = test['VALUE'].tolist()\n",
        "anomaly = test['anomaly'].tolist()\n",
        "\n",
        "# Create the main line plot\n",
        "fig = go.Figure()\n",
        "fig.add_trace(go.Scatter(y=values, mode='lines', name='VALUE'))\n",
        "\n",
        "# Find the starts and ends of the anomaly sections\n",
        "anomaly_starts = [index for index, value in enumerate(anomaly) if value == 1 and (index == 0 or anomaly[index - 1] == 0)]\n",
        "anomaly_ends = [index for index, value in enumerate(anomaly) if value == 1 and (index == len(anomaly) - 1 or anomaly[index + 1] == 0)]\n",
        "\n",
        "# Add shaded regions for anomalies\n",
        "for (start, end) in zip(anomaly_starts, anomaly_ends):\n",
        "    fig.add_shape(\n",
        "        go.layout.Shape(\n",
        "            type=\"rect\",\n",
        "            xref=\"x\",\n",
        "            yref=\"paper\",\n",
        "            x0=start,\n",
        "            y0=0,\n",
        "            x1=end,\n",
        "            y1=1,\n",
        "            fillcolor=\"gray\",\n",
        "            opacity=0.8,\n",
        "            layer=\"below\",\n",
        "            line_width=0\n",
        "        )\n",
        "    )\n",
        "\n",
        "# Provide layout details\n",
        "fig.update_layout(title=\"VALUE with Anomalies highlighted\")\n",
        "fig.show()\n"
      ],
      "metadata": {
        "id": "GlRG-p6K1Yzq"
      },
      "execution_count": null,
      "outputs": []
    },
    {
      "cell_type": "markdown",
      "source": [
        "## LSTM AE를 통합 구체적인 수치 설정\n"
      ],
      "metadata": {
        "id": "21NmHIIv1ec-"
      }
    },
    {
      "cell_type": "code",
      "source": [
        "new = pd.read_csv('C:/Users/Admin/Downloads/Etri/Dishwashers_Anomaly_Detection/test.csv')"
      ],
      "metadata": {
        "id": "tXCFjRUv1i09"
      },
      "execution_count": null,
      "outputs": []
    },
    {
      "cell_type": "code",
      "source": [
        "df = new.copy()"
      ],
      "metadata": {
        "id": "drz3YHL51n7u"
      },
      "execution_count": null,
      "outputs": []
    },
    {
      "cell_type": "code",
      "source": [
        "# Drop the 'anomaly' column to get the values\n",
        "input_x = df['VALUE'].values.reshape(-1, 1)\n",
        "input_y = df['anomaly'].values"
      ],
      "metadata": {
        "id": "xNePFMHC1o-y"
      },
      "execution_count": null,
      "outputs": []
    },
    {
      "cell_type": "code",
      "source": [
        "def temporalize(X, y, timesteps):\n",
        "    output_X = []\n",
        "    output_y = []\n",
        "\n",
        "    for i in range(len(X) - timesteps):\n",
        "        t = X[i:i+timesteps]\n",
        "        output_X.append(t)\n",
        "        output_y.append(y[i + timesteps])\n",
        "\n",
        "    return np.array(output_X), np.array(output_y)"
      ],
      "metadata": {
        "id": "u4K_fLvq1p4b"
      },
      "execution_count": null,
      "outputs": []
    },
    {
      "cell_type": "code",
      "source": [
        "timesteps = 30\n",
        "x, y = temporalize(input_x, input_y, timesteps)\n",
        "print(x.shape)"
      ],
      "metadata": {
        "id": "wMXOTOFz1q58"
      },
      "execution_count": null,
      "outputs": []
    },
    {
      "cell_type": "code",
      "source": [
        "# Split into train, valid, and test\n",
        "x_train, x_test, y_train, y_test = train_test_split(x, y, test_size=0.2)\n",
        "x_train, x_valid, y_train, y_valid = train_test_split(x_train, y_train, test_size=0.2)\n",
        "\n",
        "print(len(x_train))\n",
        "print(len(x_valid))\n",
        "print(len(x_test))"
      ],
      "metadata": {
        "id": "9Kzm4ibq1tmd"
      },
      "execution_count": null,
      "outputs": []
    },
    {
      "cell_type": "code",
      "source": [
        "#LSTM Autoencoder 학습 시에는 Normal(0) 데이터만으로 학습할 것이기 때문에 데이터로 부터 normal(0)과 abnormal(1) 데이터를 분리한다.\n",
        "\n",
        "\n",
        "# For training the autoencoder, split 0 / 1\n",
        "x_train_y0 = x_train[y_train == 0]\n",
        "x_train_y1 = x_train[y_train == 1]\n",
        "\n",
        "x_valid_y0 = x_valid[y_valid == 0]\n",
        "x_valid_y1 = x_valid[y_valid == 1]"
      ],
      "metadata": {
        "id": "seOk2Skr1vSM"
      },
      "execution_count": null,
      "outputs": []
    },
    {
      "cell_type": "code",
      "source": [
        "epochs = 20\n",
        "batch = 128\n",
        "lr = 0.001\n",
        "\n",
        "# Encoder\n",
        "lstm_ae.add(layers.LSTM(32, input_shape=(timesteps, n_features), return_sequences=True))\n",
        "lstm_ae.add(layers.LSTM(16, return_sequences=False))\n",
        "lstm_ae.add(layers.RepeatVector(timesteps))\n",
        "# Decoder\n",
        "lstm_ae.add(layers.LSTM(16, return_sequences=True))\n",
        "lstm_ae.add(layers.LSTM(32, return_sequences=True))\n",
        "lstm_ae.add(layers.TimeDistributed(layers.Dense(n_features)))\n",
        "\n",
        "lstm_ae.summary()"
      ],
      "metadata": {
        "id": "xor7L5PP1y5Z"
      },
      "execution_count": null,
      "outputs": []
    },
    {
      "cell_type": "code",
      "source": [
        "# compile\n",
        "lstm_ae.compile(loss='mse', optimizer=optimizers.Adam(lr))\n",
        "\n",
        "# fit\n",
        "history = lstm_ae.fit(x_train_y0, x_train_y0,\n",
        "                     epochs=epochs, batch_size=batch,\n",
        "                     validation_data=(x_valid_y0, x_valid_y0))"
      ],
      "metadata": {
        "id": "8YYsRRiK10VG"
      },
      "execution_count": null,
      "outputs": []
    },
    {
      "cell_type": "code",
      "source": [
        "plt.plot(history.history['loss'], label='train loss')\n",
        "plt.plot(history.history['val_loss'], label='valid loss')\n",
        "plt.legend()\n",
        "plt.xlabel('Epoch'); plt.ylabel('loss')\n",
        "plt.show()"
      ],
      "metadata": {
        "id": "v5cKaIXl11Uo"
      },
      "execution_count": null,
      "outputs": []
    },
    {
      "cell_type": "code",
      "source": [
        "def flatten(data):\n",
        "    return data.reshape((data.shape[0], -1))"
      ],
      "metadata": {
        "id": "0ZTCJ_6L12Z-"
      },
      "execution_count": null,
      "outputs": []
    },
    {
      "cell_type": "code",
      "source": [
        "valid_x_predictions = lstm_ae.predict(x_valid)\n",
        "mse = np.mean(np.power(flatten(x_valid) - flatten(valid_x_predictions), 2), axis=1)\n",
        "\n",
        "error_df = pd.DataFrame({'Reconstruction_error':mse,\n",
        "                         'True_class':list(y_valid)})\n",
        "precision_rt, recall_rt, threshold_rt = metrics.precision_recall_curve(error_df['True_class'], error_df['Reconstruction_error'])\n",
        "\n",
        "plt.figure(figsize=(8,5))\n",
        "plt.plot(threshold_rt, precision_rt[1:], label='Precision')\n",
        "plt.plot(threshold_rt, recall_rt[1:], label='Recall')\n",
        "plt.xlabel('Threshold'); plt.ylabel('Precision/Recall')\n",
        "plt.legend()\n",
        "plt.show()"
      ],
      "metadata": {
        "id": "HfaVoVd-15fT"
      },
      "execution_count": null,
      "outputs": []
    },
    {
      "cell_type": "code",
      "source": [
        "#Recall과 Precision의 값이 교차되는 지점을 최적의 threshold 지점\n",
        "# best position of threshold\n",
        "index_cnt = [cnt for cnt, (p, r) in enumerate(zip(precision_rt, recall_rt)) if p==r][0]\n",
        "print('precision: ',precision_rt[index_cnt],', recall: ',recall_rt[index_cnt])\n",
        "\n",
        "# fixed Threshold\n",
        "threshold_fixed = threshold_rt[index_cnt]\n",
        "print('threshold: ',threshold_fixed)"
      ],
      "metadata": {
        "id": "N1xwo8Ch17MZ"
      },
      "execution_count": null,
      "outputs": []
    },
    {
      "cell_type": "code",
      "source": [
        "test_x_predictions = lstm_ae.predict(x_test)\n",
        "mse = np.mean(np.power(flatten(x_test) - flatten(test_x_predictions), 2), axis=1)\n",
        "\n",
        "error_df = pd.DataFrame({'Reconstruction_error': mse,\n",
        "                         'True_class': y_test.tolist()})\n"
      ],
      "metadata": {
        "id": "WTw8Ifv919Vp"
      },
      "execution_count": null,
      "outputs": []
    },
    {
      "cell_type": "code",
      "source": [
        "import plotly.graph_objects as go\n",
        "\n",
        "# Generate data for plotting\n",
        "groups = error_df.groupby('True_class')\n",
        "normal_data = groups.get_group(0)\n",
        "break_data = groups.get_group(1)\n",
        "\n",
        "# Create the scatter plots\n",
        "trace_normal = go.Scatter(\n",
        "    x=normal_data.index,\n",
        "    y=normal_data.Reconstruction_error,\n",
        "    mode='markers',\n",
        "    name='Normal',\n",
        "    marker=dict(size=3.5, color='blue')\n",
        ")\n",
        "\n",
        "trace_break = go.Scatter(\n",
        "    x=break_data.index,\n",
        "    y=break_data.Reconstruction_error,\n",
        "    mode='markers',\n",
        "    name='Abnormal',\n",
        "    marker=dict(size=3.5, color='orange')\n",
        ")\n",
        "\n",
        "trace_threshold = go.Scatter(\n",
        "    x=[error_df.index.min(), error_df.index.max()],\n",
        "    y=[threshold_fixed, threshold_fixed],\n",
        "    mode='lines',\n",
        "    name='Threshold',\n",
        "    line=dict(color='red')\n",
        ")\n",
        "\n",
        "# Layout\n",
        "layout = go.Layout(\n",
        "    title='Reconstruction error for different classes',\n",
        "    xaxis=dict(title='Data point index'),\n",
        "    yaxis=dict(title='Reconstruction error'),\n",
        "    legend=dict(y=1, x=1)\n",
        ")\n",
        "\n",
        "fig = go.Figure(data=[trace_normal, trace_break, trace_threshold], layout=layout)\n",
        "fig.show()"
      ],
      "metadata": {
        "id": "047KphVE1_3E"
      },
      "execution_count": null,
      "outputs": []
    },
    {
      "cell_type": "code",
      "source": [
        "#테스트 셋에 대한 재구성 손실을 threshold를 기준으로 0/1로 나누고 이를 confusion matrix로 표현하였다."
      ],
      "metadata": {
        "id": "_i1eIxLr2BZX"
      },
      "execution_count": null,
      "outputs": []
    },
    {
      "cell_type": "code",
      "source": [
        "# classification by threshold\n",
        "pred_y = [1 if e > threshold_fixed else 0 for e in error_df['Reconstruction_error'].values]\n",
        "\n",
        "conf_matrix = metrics.confusion_matrix(error_df['True_class'], pred_y)\n",
        "plt.figure(figsize=(7, 7))\n",
        "sns.heatmap(conf_matrix, xticklabels=LABELS, yticklabels=LABELS, annot=True, fmt='d')\n",
        "plt.title('Confusion Matrix')\n",
        "plt.xlabel('Predicted Class'); plt.ylabel('True Class')\n",
        "plt.show()"
      ],
      "metadata": {
        "id": "lRB-ksno2Ckb"
      },
      "execution_count": null,
      "outputs": []
    },
    {
      "cell_type": "code",
      "source": [
        "false_pos_rate, true_pos_rate, thresholds = metrics.roc_curve(error_df['True_class'], error_df['Reconstruction_error'])\n",
        "roc_auc = metrics.auc(false_pos_rate, true_pos_rate,)\n",
        "\n",
        "plt.plot(false_pos_rate, true_pos_rate, linewidth=5, label='AUC = %0.3f'% roc_auc)\n",
        "plt.plot([0,1],[0,1], linewidth=5)\n",
        "\n",
        "plt.xlim([-0.01, 1])\n",
        "plt.ylim([0, 1.01])\n",
        "plt.legend(loc='lower right')\n",
        "plt.title('Receiver operating characteristic curve (ROC)')\n",
        "plt.ylabel('True Positive Rate'); plt.xlabel('False Positive Rate')\n",
        "plt.show()"
      ],
      "metadata": {
        "id": "qnAmF33Z2Drf"
      },
      "execution_count": null,
      "outputs": []
    }
  ]
}